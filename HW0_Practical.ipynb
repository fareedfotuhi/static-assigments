{
 "cells": [
  {
   "cell_type": "markdown",
   "metadata": {},
   "source": [
    "<div style=\"direction:rtl;line-height:300%;\">\n",
    "\t<font face=\"XB Zar\" size=5>\n",
    "\t\t<div align=center>\n",
    "\t\t\t<font face=\"IranNastaliq\" size=30>\n",
    "\t\t\t\t<p></p>\n",
    "\t\t\t\t<p></p>\n",
    "به نام خدا\n",
    "\t\t\t\t<p></p>\n",
    "\t\t\t</font>\n",
    "\t\t\t<font color=#FF7500>\n",
    "دانشگاه صنعتی شریف - دانشکده مهندسی کامپیوتر\n",
    "            </font>\n",
    "\t\t\t<p></p>\n",
    "\t\t\t<font color=blue>\n",
    "آمار و احتمال مهندسی\n",
    "            </font>\n",
    "\t\t\t<br />\n",
    "\t\t\t<br />\n",
    "پاییز ۱۳۹۹\n",
    "\t\t</div>\n",
    "\t\t<hr/>\n",
    "\t\t<div align=center>\n",
    "\t\t    <font color=red size=6>\n",
    "\t\t\t    <br />\n",
    "تمرین عملی صفر\n",
    "            \t<br/>\n",
    "\t\t\t</font>\n",
    "طراح: پرهام صارمی - صابر دین پژوه \n",
    "\t\t\t<br/><br/> \n",
    "موعد تحویل: ۱۴ مهر\n",
    "                <br/>\n",
    "                همفکری در تمامی تمرین‌های درس توصیه می‌شود. در عین حال از شما خواسته می‌شود تا تمام پیاده‌سازی را به تنهایی و بدون مشاهده کد دیگران انجام دهید.\n",
    "                <br/><br/>\n",
    "                <font color=red>\n",
    "                لطفا در فایل ارسالی تمام بلوک‌های کد اجرا شده و شامل نمودار‌ها و خروجی‌های لازم باشند.\n",
    "     </font>\n",
    "                <br/>\n",
    "        </style>\n",
    "\t</font>\n",
    "</div>"
   ]
  },
  {
   "cell_type": "raw",
   "metadata": {},
   "source": [
    "فرید فتوحی"
   ]
  },
  {
   "cell_type": "raw",
   "metadata": {},
   "source": [
    "98110073"
   ]
  },
  {
   "cell_type": "raw",
   "metadata": {},
   "source": [
    "نام افرادی که با آنها مشورت کرده اید"
   ]
  },
  {
   "cell_type": "markdown",
   "metadata": {},
   "source": [
    "<div dir = \"rtl\" style=\"direction:rtl;line-height:300%;\">\n",
    "\t<font face=\"XB Zar\" size=5>\n",
    "\t\t<font color=#FF7500 size=6>\n",
    "            کار با داده‌های مربوط به کرونا\n",
    "        </font>\n",
    "        <hr>\n",
    "            قرار است در این مجموعه سوالات پردازش‌هایی بر روی داده‌های مربوط به بیماری کرونا داشته باشیم\n",
    "    </font>\n",
    "</div>"
   ]
  },
  {
   "cell_type": "markdown",
   "metadata": {},
   "source": [
    "<div dir = \"rtl\" style=\"direction:rtl;line-height:300%;\">\n",
    "\t<font face=\"XB Zar\" size=5>\n",
    "        <ul>\n",
    "            <li>\n",
    "                ابتدا داده‌هایی که در کنار فایل تمرین برای شما قرار داده‌ایم را بخوانید و به کمک دستور ()head چند نمونه اول این داده‌هارا نمایش دهید.\n",
    "            <br>\n",
    "                *توجه: 9999-99-99 در تاریخ مرگ به این معناست که فرد زنده مانده است.\n",
    "            </li>\n",
    "        </ul>\n",
    "\t</font>\n",
    "</div>"
   ]
  },
  {
   "cell_type": "markdown",
   "metadata": {},
   "source": [
    "<div dir = \"rtl\" style=\"direction:rtl;line-height:300%;\">\n",
    "\t<font face=\"XB Zar\" size=5>\n",
    "\t\t<font color=#FF7500 size=6>\n",
    "        </font>\n",
    "        پاسخ:\n",
    "\t</font>\n",
    "</div>"
   ]
  },
  {
   "cell_type": "code",
   "execution_count": 1,
   "metadata": {},
   "outputs": [
    {
     "data": {
      "text/html": [
       "<table>\n",
       "<caption>A data.frame: 6 × 17</caption>\n",
       "<thead>\n",
       "\t<tr><th></th><th scope=col>X</th><th scope=col>id</th><th scope=col>female</th><th scope=col>outpatient</th><th scope=col>entry_date</th><th scope=col>date_symptoms</th><th scope=col>date_died</th><th scope=col>intubed</th><th scope=col>pnemonia</th><th scope=col>age</th><th scope=col>pregnancy</th><th scope=col>diabetes</th><th scope=col>copd</th><th scope=col>asthma</th><th scope=col>hypertension</th><th scope=col>obesity</th><th scope=col>tobacco</th></tr>\n",
       "\t<tr><th></th><th scope=col>&lt;int&gt;</th><th scope=col>&lt;chr&gt;</th><th scope=col>&lt;int&gt;</th><th scope=col>&lt;int&gt;</th><th scope=col>&lt;chr&gt;</th><th scope=col>&lt;chr&gt;</th><th scope=col>&lt;chr&gt;</th><th scope=col>&lt;int&gt;</th><th scope=col>&lt;int&gt;</th><th scope=col>&lt;int&gt;</th><th scope=col>&lt;int&gt;</th><th scope=col>&lt;int&gt;</th><th scope=col>&lt;int&gt;</th><th scope=col>&lt;int&gt;</th><th scope=col>&lt;int&gt;</th><th scope=col>&lt;int&gt;</th><th scope=col>&lt;int&gt;</th></tr>\n",
       "</thead>\n",
       "<tbody>\n",
       "\t<tr><th scope=row>1</th><td>1</td><td>16169f</td><td>0</td><td>1</td><td>04-05-2020</td><td>02-05-2020</td><td>9999-99-99</td><td>NA</td><td>0</td><td>27</td><td>0</td><td>0</td><td>0</td><td>0</td><td>0</td><td>0</td><td>0</td></tr>\n",
       "\t<tr><th scope=row>2</th><td>2</td><td>1009bf</td><td>0</td><td>1</td><td>19-03-2020</td><td>17-03-2020</td><td>9999-99-99</td><td>NA</td><td>0</td><td>24</td><td>0</td><td>0</td><td>0</td><td>0</td><td>0</td><td>0</td><td>0</td></tr>\n",
       "\t<tr><th scope=row>3</th><td>3</td><td>167386</td><td>1</td><td>0</td><td>06-04-2020</td><td>01-04-2020</td><td>9999-99-99</td><td> 0</td><td>0</td><td>54</td><td>0</td><td>0</td><td>0</td><td>0</td><td>0</td><td>1</td><td>0</td></tr>\n",
       "\t<tr><th scope=row>4</th><td>4</td><td>0b5948</td><td>0</td><td>0</td><td>17-04-2020</td><td>10-04-2020</td><td>9999-99-99</td><td> 0</td><td>1</td><td>30</td><td>0</td><td>0</td><td>0</td><td>0</td><td>0</td><td>0</td><td>0</td></tr>\n",
       "\t<tr><th scope=row>5</th><td>5</td><td>0d01b5</td><td>1</td><td>0</td><td>13-04-2020</td><td>13-04-2020</td><td>22-04-2020</td><td> 0</td><td>0</td><td>60</td><td>0</td><td>1</td><td>0</td><td>0</td><td>1</td><td>0</td><td>0</td></tr>\n",
       "\t<tr><th scope=row>6</th><td>6</td><td>1beec8</td><td>0</td><td>0</td><td>16-04-2020</td><td>16-04-2020</td><td>29-04-2020</td><td> 0</td><td>1</td><td>47</td><td>0</td><td>1</td><td>0</td><td>0</td><td>0</td><td>0</td><td>0</td></tr>\n",
       "</tbody>\n",
       "</table>\n"
      ],
      "text/latex": [
       "A data.frame: 6 × 17\n",
       "\\begin{tabular}{r|lllllllllllllllll}\n",
       "  & X & id & female & outpatient & entry\\_date & date\\_symptoms & date\\_died & intubed & pnemonia & age & pregnancy & diabetes & copd & asthma & hypertension & obesity & tobacco\\\\\n",
       "  & <int> & <chr> & <int> & <int> & <chr> & <chr> & <chr> & <int> & <int> & <int> & <int> & <int> & <int> & <int> & <int> & <int> & <int>\\\\\n",
       "\\hline\n",
       "\t1 & 1 & 16169f & 0 & 1 & 04-05-2020 & 02-05-2020 & 9999-99-99 & NA & 0 & 27 & 0 & 0 & 0 & 0 & 0 & 0 & 0\\\\\n",
       "\t2 & 2 & 1009bf & 0 & 1 & 19-03-2020 & 17-03-2020 & 9999-99-99 & NA & 0 & 24 & 0 & 0 & 0 & 0 & 0 & 0 & 0\\\\\n",
       "\t3 & 3 & 167386 & 1 & 0 & 06-04-2020 & 01-04-2020 & 9999-99-99 &  0 & 0 & 54 & 0 & 0 & 0 & 0 & 0 & 1 & 0\\\\\n",
       "\t4 & 4 & 0b5948 & 0 & 0 & 17-04-2020 & 10-04-2020 & 9999-99-99 &  0 & 1 & 30 & 0 & 0 & 0 & 0 & 0 & 0 & 0\\\\\n",
       "\t5 & 5 & 0d01b5 & 1 & 0 & 13-04-2020 & 13-04-2020 & 22-04-2020 &  0 & 0 & 60 & 0 & 1 & 0 & 0 & 1 & 0 & 0\\\\\n",
       "\t6 & 6 & 1beec8 & 0 & 0 & 16-04-2020 & 16-04-2020 & 29-04-2020 &  0 & 1 & 47 & 0 & 1 & 0 & 0 & 0 & 0 & 0\\\\\n",
       "\\end{tabular}\n"
      ],
      "text/markdown": [
       "\n",
       "A data.frame: 6 × 17\n",
       "\n",
       "| <!--/--> | X &lt;int&gt; | id &lt;chr&gt; | female &lt;int&gt; | outpatient &lt;int&gt; | entry_date &lt;chr&gt; | date_symptoms &lt;chr&gt; | date_died &lt;chr&gt; | intubed &lt;int&gt; | pnemonia &lt;int&gt; | age &lt;int&gt; | pregnancy &lt;int&gt; | diabetes &lt;int&gt; | copd &lt;int&gt; | asthma &lt;int&gt; | hypertension &lt;int&gt; | obesity &lt;int&gt; | tobacco &lt;int&gt; |\n",
       "|---|---|---|---|---|---|---|---|---|---|---|---|---|---|---|---|---|---|\n",
       "| 1 | 1 | 16169f | 0 | 1 | 04-05-2020 | 02-05-2020 | 9999-99-99 | NA | 0 | 27 | 0 | 0 | 0 | 0 | 0 | 0 | 0 |\n",
       "| 2 | 2 | 1009bf | 0 | 1 | 19-03-2020 | 17-03-2020 | 9999-99-99 | NA | 0 | 24 | 0 | 0 | 0 | 0 | 0 | 0 | 0 |\n",
       "| 3 | 3 | 167386 | 1 | 0 | 06-04-2020 | 01-04-2020 | 9999-99-99 |  0 | 0 | 54 | 0 | 0 | 0 | 0 | 0 | 1 | 0 |\n",
       "| 4 | 4 | 0b5948 | 0 | 0 | 17-04-2020 | 10-04-2020 | 9999-99-99 |  0 | 1 | 30 | 0 | 0 | 0 | 0 | 0 | 0 | 0 |\n",
       "| 5 | 5 | 0d01b5 | 1 | 0 | 13-04-2020 | 13-04-2020 | 22-04-2020 |  0 | 0 | 60 | 0 | 1 | 0 | 0 | 1 | 0 | 0 |\n",
       "| 6 | 6 | 1beec8 | 0 | 0 | 16-04-2020 | 16-04-2020 | 29-04-2020 |  0 | 1 | 47 | 0 | 1 | 0 | 0 | 0 | 0 | 0 |\n",
       "\n"
      ],
      "text/plain": [
       "  X id     female outpatient entry_date date_symptoms date_died  intubed\n",
       "1 1 16169f 0      1          04-05-2020 02-05-2020    9999-99-99 NA     \n",
       "2 2 1009bf 0      1          19-03-2020 17-03-2020    9999-99-99 NA     \n",
       "3 3 167386 1      0          06-04-2020 01-04-2020    9999-99-99  0     \n",
       "4 4 0b5948 0      0          17-04-2020 10-04-2020    9999-99-99  0     \n",
       "5 5 0d01b5 1      0          13-04-2020 13-04-2020    22-04-2020  0     \n",
       "6 6 1beec8 0      0          16-04-2020 16-04-2020    29-04-2020  0     \n",
       "  pnemonia age pregnancy diabetes copd asthma hypertension obesity tobacco\n",
       "1 0        27  0         0        0    0      0            0       0      \n",
       "2 0        24  0         0        0    0      0            0       0      \n",
       "3 0        54  0         0        0    0      0            1       0      \n",
       "4 1        30  0         0        0    0      0            0       0      \n",
       "5 0        60  0         1        0    0      1            0       0      \n",
       "6 1        47  0         1        0    0      0            0       0      "
      ]
     },
     "metadata": {},
     "output_type": "display_data"
    }
   ],
   "source": [
    "covid <- read.csv(file = 'covid_refined.csv')\n",
    "head(covid)"
   ]
  },
  {
   "cell_type": "markdown",
   "metadata": {},
   "source": [
    "<div dir = \"rtl\" style=\"direction:rtl;line-height:300%;\">\n",
    "\t<font face=\"XB Zar\" size=5>\n",
    "        <ul>\n",
    "            <li>\n",
    "                 احتمالات زیر را محاسبه و چاپ کنید.\n",
    "            </li>\n",
    "        </ul>\n",
    "\t</font>\n",
    "</div>\n",
    "<div dir = \"ltr\" style=\"direction:ltr;line-height:300%;\">\n",
    "     <font face=\"arial\" size=4>\n",
    "         p(female), p(male), p(death), p(death|male), p(death|female)\n",
    "    </font>\n",
    "</div>"
   ]
  },
  {
   "cell_type": "markdown",
   "metadata": {},
   "source": [
    "<div dir = \"rtl\" style=\"direction:rtl;line-height:300%;\">\n",
    "\t<font face=\"XB Zar\" size=5>\n",
    "\t\t<font color=#FF7500 size=6>\n",
    "        </font>\n",
    "        پاسخ:\n",
    "\t</font>\n",
    "</div>"
   ]
  },
  {
   "cell_type": "code",
   "execution_count": 19,
   "metadata": {},
   "outputs": [
    {
     "name": "stdout",
     "output_type": "stream",
     "text": [
      "p(female) =  0.4932739 \n",
      "p(male) =  0.5067261 \n",
      "p(death) =  0.06384729 \n",
      "p(death|female) =  0.0454256 \n",
      "p(death|male) =  0.08177993 \n"
     ]
    }
   ],
   "source": [
    "# YOUR CODE HERE\n",
    "covid <- read.csv(file = 'covid_refined.csv')\n",
    "prob_female<-nrow(covid[covid$female==1, ])/nrow(covid)\n",
    "prob_male<-nrow(covid[covid$female==0, ])/nrow(covid)\n",
    "prob_death<-nrow(covid[covid$date_died!='9999-99-99', ])/nrow(covid)\n",
    "prob_death_female<-nrow(covid[covid$female==1 & covid$date_died!='9999-99-99',])/nrow(covid[covid$female==1, ])\n",
    "prob_death_male<-nrow(covid[covid$female==0 & covid$date_died!='9999-99-99',])/nrow(covid[covid$female==0, ])\n",
    "\n",
    "# Your variables' names must match names below :)\n",
    "cat(\"p(female) = \",prob_female,\"\\n\")\n",
    "cat(\"p(male) = \",prob_male,\"\\n\")\n",
    "cat(\"p(death) = \",prob_death,\"\\n\")\n",
    "cat(\"p(death|female) = \",prob_death_female,\"\\n\")\n",
    "cat(\"p(death|male) = \",prob_death_male,\"\\n\")"
   ]
  },
  {
   "cell_type": "markdown",
   "metadata": {},
   "source": [
    "<div dir = \"rtl\" style=\"direction:rtl;line-height:300%;\">\n",
    "\t<font face=\"XB Zar\" size=5>\n",
    "        <ul>\n",
    "            <li>\n",
    "                 میانگین تعداد روز‌ها از زمان تشخیص بیماری تا زمان مرگ را برای بیماران آسمی به دست آورده و با همین مقدار برای افراد غیر آسمی (کسانی که میدانیم آسم ندارند) مقایسه کنید.\n",
    "            </li>\n",
    "        </ul>\n",
    "\t</font>\n",
    "</div>"
   ]
  },
  {
   "cell_type": "markdown",
   "metadata": {},
   "source": [
    "<div dir = \"rtl\" style=\"direction:rtl;line-height:300%;\">\n",
    "\t<font face=\"XB Zar\" size=5>\n",
    "\t\t<font color=#FF7500 size=6>\n",
    "        </font>\n",
    "        پاسخ:\n",
    "\t</font>\n",
    "</div>"
   ]
  },
  {
   "cell_type": "code",
   "execution_count": 6,
   "metadata": {},
   "outputs": [
    {
     "name": "stderr",
     "output_type": "stream",
     "text": [
      "\n",
      "Attaching package: 'lubridate'\n",
      "\n",
      "\n",
      "The following objects are masked from 'package:base':\n",
      "\n",
      "    date, intersect, setdiff, union\n",
      "\n",
      "\n"
     ]
    },
    {
     "name": "stdout",
     "output_type": "stream",
     "text": [
      "mean days for patients with asthma =  11.60923 \n",
      "mean days for patients without asthma 11.0374 \n"
     ]
    }
   ],
   "source": [
    "# YOUR CODE HERE\n",
    "library(lubridate)\n",
    "covid<-read.csv(\"covid_refined.csv\")\n",
    "subcovid <- filter(covid,date_died != '9999-99-99')\n",
    "subcovid$subdied <- as.Date(subcovid$date_died,format = \"%d-%m-%Y\")\n",
    "subcovid$subsym <- as.Date(subcovid$date_symptoms,format = \"%d-%m-%Y\")\n",
    "subcovid$died.day<-yday(subcovid$subdied)\n",
    "subcovid$symday<-yday(subcovid$subsym)\n",
    "subcovid$sym.year<-year(subcovid$subsym)\n",
    "subcovid$died.year<-year(subcovid$subdied)\n",
    "subcovid$diff<-(subcovid$died.year - subcovid$sym.year)*365 + (subcovid$died.day - subcovid$symday)\n",
    "asthma <- filter(subcovid,subcovid$asthma ==1)\n",
    "nonasthma<-filter(subcovid,subcovid$asthma !=1)\n",
    "mean_asthma <- mean(asthma$diff)\n",
    "mean_nonasthma <- mean(nonasthma$diff)\n",
    "\n",
    "\n",
    "# Your variables' names must match names below :)\n",
    "cat(\"mean days for patients with asthma = \", mean_asthma, \"\\n\")\n",
    "cat(\"mean days for patients without asthma\", mean_nonasthma, \"\\n\")"
   ]
  },
  {
   "cell_type": "markdown",
   "metadata": {},
   "source": [
    "<div dir = \"rtl\" style=\"direction:rtl;line-height:300%;\">\n",
    "\t<font face=\"XB Zar\" size=5>\n",
    "        <ul>\n",
    "            <li>\n",
    "               p(death)حساب شده در قسمت قبل را با p(death|tobacco) مقایسه کنید. \n",
    "            </li>\n",
    "        </ul>\n",
    "\t</font>\n",
    "</div>"
   ]
  },
  {
   "cell_type": "markdown",
   "metadata": {},
   "source": [
    "<div dir = \"rtl\" style=\"direction:rtl;line-height:300%;\">\n",
    "\t<font face=\"XB Zar\" size=5>\n",
    "\t\t<font color=#FF7500 size=6>\n",
    "        </font>\n",
    "        پاسخ:\n",
    "\t</font>\n",
    "</div>"
   ]
  },
  {
   "cell_type": "code",
   "execution_count": 4,
   "metadata": {},
   "outputs": [
    {
     "name": "stdout",
     "output_type": "stream",
     "text": [
      "p(death|tobacco) =  0.06953787 \n"
     ]
    }
   ],
   "source": [
    "covid<-read.csv(\"covid_refined.csv\")\n",
    "prob_death_tobacco<- nrow(covid[covid$date_died!='9999-99-99' & covid$tobacco ==1,])/nrow(covid[covid$tobacco ==1,])\n",
    "\n",
    "cat(\"p(death|tobacco) = \", prob_death_tobacco, \"\\n\")"
   ]
  },
  {
   "cell_type": "markdown",
   "metadata": {},
   "source": [
    "# YOUR CODE HERE\n",
    "prob_death_tobacco<- nrow(covid[covid$date_died!='9999-99-99' & covid$tobacco ==1,])/nrow(covid[covid$tobacco ==1,])\n",
    "# Your variables' names must match names below :)\n",
    "cat(\"p(death|tobacco) = \", prob_death_tobacco, \"\\n\")"
   ]
  },
  {
   "cell_type": "markdown",
   "metadata": {},
   "source": [
    "<div dir = \"rtl\" style=\"direction:rtl;line-height:300%;\">\n",
    "\t<font face=\"XB Zar\" size=5>\n",
    "\t\t<font color=#FF7500 size=6>\n",
    "            کار با نمودار‌ها\n",
    "        </font>\n",
    "        <hr>\n",
    "        داده covid را مجدد بخوانید و با استفاده از این داده موارد خواسته شده را بیابید:\n",
    "        <ul>\n",
    "            <li>\n",
    "                نمودار مستطیلی تعداد مرگ در هر روز را رسم کنید.\n",
    "            </li>\n",
    "        </ul>\n",
    "    </font>\n",
    "</div>"
   ]
  },
  {
   "cell_type": "markdown",
   "metadata": {},
   "source": [
    "<div dir = \"rtl\" style=\"direction:rtl;line-height:300%;\">\n",
    "\t<font face=\"XB Zar\" size=5>\n",
    "\t\t<font color=#FF7500 size=6>\n",
    "        </font>\n",
    "        پاسخ:\n",
    "\t</font>\n",
    "</div>"
   ]
  },
  {
   "cell_type": "code",
   "execution_count": 3,
   "metadata": {},
   "outputs": [
    {
     "data": {
      "image/png": "[encoded data removed]",
      "text/plain": [
       "plot without title"
      ]
     },
     "metadata": {
      "image/png": {
       "height": 420,
       "width": 420
      }
     },
     "output_type": "display_data"
    }
   ],
   "source": [
    "library(dplyr)\n",
    "covid <- read.csv(file = 'covid_refined.csv')\n",
    "subcovid <- filter(covid,date_died !='9999-99-99')\n",
    "barplot(table(subcovid$date_died),ylim = c(1,1000))"
   ]
  },
  {
   "cell_type": "markdown",
   "metadata": {},
   "source": [
    "<div dir = \"rtl\" style=\"direction:rtl;line-height:300%;\">\n",
    "\t<font face=\"XB Zar\" size=5>\n",
    "        <ul>\n",
    "            <li>\n",
    "               نمودار خطی برای تعداد مرگ مردان دیابتی(با رنگ قرمز)، مردان غیردیابتی(با رنگ آبی)، زنان دیابتی (با رنگ زرد) و زنان غیر دیابتی (با رنگ سبز) رسم کنید.\n",
    "            </li>\n",
    "        </ul>\n",
    "\t</font>\n",
    "</div>"
   ]
  },
  {
   "cell_type": "markdown",
   "metadata": {},
   "source": [
    "<div dir = \"rtl\" style=\"direction:rtl;line-height:300%;\">\n",
    "\t<font face=\"XB Zar\" size=5>\n",
    "\t\t<font color=#FF7500 size=6>\n",
    "        </font>\n",
    "        پاسخ:\n",
    "\t</font>\n",
    "</div>"
   ]
  },
  {
   "cell_type": "code",
   "execution_count": 1,
   "metadata": {},
   "outputs": [
    {
     "name": "stderr",
     "output_type": "stream",
     "text": [
      "\n",
      "Attaching package: 'dplyr'\n",
      "\n",
      "\n",
      "The following objects are masked from 'package:stats':\n",
      "\n",
      "    filter, lag\n",
      "\n",
      "\n",
      "The following objects are masked from 'package:base':\n",
      "\n",
      "    intersect, setdiff, setequal, union\n",
      "\n",
      "\n",
      "`summarise()` ungrouping output (override with `.groups` argument)\n",
      "\n",
      "`summarise()` ungrouping output (override with `.groups` argument)\n",
      "\n",
      "`summarise()` ungrouping output (override with `.groups` argument)\n",
      "\n",
      "`summarise()` ungrouping output (override with `.groups` argument)\n",
      "\n",
      "\n",
      "Attaching package: 'lubridate'\n",
      "\n",
      "\n",
      "The following objects are masked from 'package:base':\n",
      "\n",
      "    date, intersect, setdiff, union\n",
      "\n",
      "\n"
     ]
    },
    {
     "ename": "ERROR",
     "evalue": "Error in axis(1, at = 1:length(ss$counts), labels = ss$date_died, las = 2): object 'ss' not found\n",
     "output_type": "error",
     "traceback": [
      "Error in axis(1, at = 1:length(ss$counts), labels = ss$date_died, las = 2): object 'ss' not found\nTraceback:\n",
      "1. axis(1, at = 1:length(ss$counts), labels = ss$date_died, las = 2)"
     ]
    },
    {
     "data": {
      "image/png": "[encoded data removed]",
      "text/plain": [
       "plot without title"
      ]
     },
     "metadata": {
      "image/png": {
       "height": 420,
       "width": 420
      }
     },
     "output_type": "display_data"
    }
   ],
   "source": [
    "library(dplyr)\n",
    "covid <- read.csv(\"covid_refined.csv\")\n",
    "covid=na.omit(covid)\n",
    "womand <- covid[covid$female==1 & covid$diabetes == 1,]\n",
    "womannd <- covid[covid$female==1 & covid$diabetes != 1,]\n",
    "mannd <- covid[covid$female!=1 | covid$diabetes != 1,]\n",
    "mand <- covid[covid$female!=1 | covid$diabetes == 1,]\n",
    "mand <- mand[mand$date_died!='9999-99-99',]\n",
    "mannd <- mannd[mannd$date_died!='9999-99-99',]\n",
    "womand <- womand[womand$date_died!='9999-99-99',]\n",
    "womannd <- womannd[womannd$date_died!='9999-99-99',]\n",
    "sfwd <- womand %>%\n",
    "group_by(date_died) %>%\n",
    "summarise(counts = n())\n",
    "dfwnd <- womannd %>%\n",
    "group_by(date_died)%>%\n",
    "summarise(counts =n())\n",
    "dfmd <-mand %>%\n",
    "group_by(date_died)%>%\n",
    "summarise(counts =n())\n",
    "sfmnd <- mannd%>%\n",
    "group_by(date_died)%>%\n",
    "summarise(counts = n())\n",
    "\n",
    "library(lubridate)\n",
    "ss11=sfwd %>% arrange(as.Date(sfwd$date_died,format='%d-%m-%Y'))\n",
    "ss10=dfwnd %>% arrange(as.Date(dfwnd$date_died,format='%d-%m-%Y'))\n",
    "ss01=dfmd %>% arrange(as.Date(dfmd$date_died,format='%d-%m-%Y'))\n",
    "ss00=sfmnd %>% arrange(as.Date(sfmnd$date_died,format='%d-%m-%Y'))\n",
    "\n",
    "\n",
    "plot(ss00$counts,type='l',col=4,xlab='',ylab='freq',xaxt='n')\n",
    "par(new=TRUE)\n",
    "plot(ss11$counts, type='l', col='orange',axes=FALSE,xlab='',ylab='')\n",
    "par(new=TRUE)\n",
    "plot(ss01$counts, type='l', col=2,axes=FALSE,xlab='',ylab='')\n",
    "par(new=TRUE)\n",
    "plot(ss10$counts, type='l', col=3,axes=FALSE,xlab='',ylab='')\n",
    "axis(1,at=1:length(ss$counts),labels=ss$date_died,las=2)\n",
    "\n",
    "\n",
    "#\n"
   ]
  }
 ],
 "metadata": {
  "kernelspec": {
   "display_name": "R",
   "language": "R",
   "name": "ir"
  },
  "language_info": {
   "codemirror_mode": "r",
   "file_extension": ".r",
   "mimetype": "text/x-r-source",
   "name": "R",
   "pygments_lexer": "r",
   "version": "4.0.2"
  }
 },
 "nbformat": 4,
 "nbformat_minor": 2
}
