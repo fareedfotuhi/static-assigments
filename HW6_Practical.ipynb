{
 "cells": [
  {
   "cell_type": "markdown",
   "metadata": {},
   "source": [
    "<div style=\"direction:rtl;line-height:300%;\">\n",
    "\t<font face=\"XB Zar\" size=5>\n",
    "\t\t<div align=center>\n",
    "\t\t\t<font face=\"IranNastaliq\" size=30>\n",
    "\t\t\t\t<p></p>\n",
    "\t\t\t\t<p></p>\n",
    "به نام خدا\n",
    "\t\t\t\t<p></p>\n",
    "\t\t\t</font>\n",
    "\t\t\t<font color=#FF7500>\n",
    "دانشگاه صنعتی شریف - دانشکده مهندسی کامپیوتر\n",
    "            </font>\n",
    "\t\t\t<p></p>\n",
    "\t\t\t<font color=blue>\n",
    "آمار و احتمال مهندسی\n",
    "            </font>\n",
    "\t\t\t<br />\n",
    "\t\t\t<br />\n",
    "پاییز ۱۳۹۹\n",
    "\t\t</div>\n",
    "\t\t<hr/>\n",
    "\t\t<div align=center>\n",
    "\t\t    <font color=red size=6>\n",
    "\t\t\t    <br />\n",
    "تمرین عملی ششم \n",
    "            \t<br/>\n",
    "\t\t\t</font>\n",
    "طراحان: نگین جعفری - محمد مهدی جراحی \n",
    "\t\t\t<br/><br/>\n",
    "                هم‌فکری در تمامی تمرین‌های درس توصیه می‌شود. در عین حال از شما خواسته می‌شود تا تمام پیاده‌سازی را به تنهایی و بدون مشاهده کد دیگران انجام دهید.\n",
    "                <br/><br/>\n",
    "                <font color=red>\n",
    "                لطفا در فایل ارسالی تمام بلوک‌های کد اجرا شده و شامل نمودار‌ها و خروجی‌های لازم باشند.\n",
    "     </font>\n",
    "                <br/>\n",
    "        </style>\n",
    "\t</font>\n",
    "</div>"
   ]
  },
  {
   "cell_type": "raw",
   "metadata": {},
   "source": [
    "فرید فتوحی"
   ]
  },
  {
   "cell_type": "raw",
   "metadata": {},
   "source": [
    "98110073"
   ]
  },
  {
   "cell_type": "raw",
   "metadata": {},
   "source": [
    "نام افرادی که با آنها مشورت کرده اید"
   ]
  },
  {
   "cell_type": "markdown",
   "metadata": {},
   "source": [
    "<div dir = \"rtl\" style=\"direction:rtl;line-height:300%;\">\n",
    "\t<font face=\"XB Zar\" size=5>\n",
    "\t\t<font color=#FF7500 size=6>\n",
    "             حل سؤالات به کمک توابع آزمون‌های آماری در R\n",
    "        </font>\n",
    "        <hr>\n",
    "            همانطور که در ابتدای سوالات تئوری هم گفته شد، در این بخش کد سؤالاتی را که امکان حل به کمک توابع آزمون‌های آماری در R را دارند، بنویسید. سوالات مختلف را با کامنت از هم جدا کنید.\n",
    "    </font>\n",
    "</div>"
   ]
  },
  {
   "cell_type": "code",
   "execution_count": 11,
   "metadata": {},
   "outputs": [
    {
     "data": {
      "text/html": [
       "-2.18217890235992"
      ],
      "text/latex": [
       "-2.18217890235992"
      ],
      "text/markdown": [
       "-2.18217890235992"
      ],
      "text/plain": [
       "[1] -2.182179"
      ]
     },
     "metadata": {},
     "output_type": "display_data"
    },
    {
     "data": {
      "text/html": [
       "<table>\n",
       "<caption>A data.frame: 1 × 5</caption>\n",
       "<thead>\n",
       "\t<tr><th scope=col>p1</th><th scope=col>p2</th><th scope=col>p</th><th scope=col>q</th><th scope=col>z</th></tr>\n",
       "\t<tr><th scope=col>&lt;dbl&gt;</th><th scope=col>&lt;dbl&gt;</th><th scope=col>&lt;dbl&gt;</th><th scope=col>&lt;dbl&gt;</th><th scope=col>&lt;dbl&gt;</th></tr>\n",
       "</thead>\n",
       "<tbody>\n",
       "\t<tr><td>0.8</td><td>0.6</td><td>0.7</td><td>0.3</td><td>0.6900656</td></tr>\n",
       "</tbody>\n",
       "</table>\n"
      ],
      "text/latex": [
       "A data.frame: 1 × 5\n",
       "\\begin{tabular}{lllll}\n",
       " p1 & p2 & p & q & z\\\\\n",
       " <dbl> & <dbl> & <dbl> & <dbl> & <dbl>\\\\\n",
       "\\hline\n",
       "\t 0.8 & 0.6 & 0.7 & 0.3 & 0.6900656\\\\\n",
       "\\end{tabular}\n"
      ],
      "text/markdown": [
       "\n",
       "A data.frame: 1 × 5\n",
       "\n",
       "| p1 &lt;dbl&gt; | p2 &lt;dbl&gt; | p &lt;dbl&gt; | q &lt;dbl&gt; | z &lt;dbl&gt; |\n",
       "|---|---|---|---|---|\n",
       "| 0.8 | 0.6 | 0.7 | 0.3 | 0.6900656 |\n",
       "\n"
      ],
      "text/plain": [
       "  p1  p2  p   q   z        \n",
       "1 0.8 0.6 0.7 0.3 0.6900656"
      ]
     },
     "metadata": {},
     "output_type": "display_data"
    },
    {
     "data": {
      "text/html": [
       "<table>\n",
       "<caption>A matrix: 2 × 2 of type dbl</caption>\n",
       "<tbody>\n",
       "\t<tr><td>400</td><td>300</td></tr>\n",
       "\t<tr><td>100</td><td>200</td></tr>\n",
       "</tbody>\n",
       "</table>\n"
      ],
      "text/latex": [
       "A matrix: 2 × 2 of type dbl\n",
       "\\begin{tabular}{ll}\n",
       "\t 400 & 300\\\\\n",
       "\t 100 & 200\\\\\n",
       "\\end{tabular}\n"
      ],
      "text/markdown": [
       "\n",
       "A matrix: 2 × 2 of type dbl\n",
       "\n",
       "| 400 | 300 |\n",
       "| 100 | 200 |\n",
       "\n"
      ],
      "text/plain": [
       "     [,1] [,2]\n",
       "[1,] 400  300 \n",
       "[2,] 100  200 "
      ]
     },
     "metadata": {},
     "output_type": "display_data"
    },
    {
     "data": {
      "text/plain": [
       "\n",
       "\tFisher's Exact Test for Count Data\n",
       "\n",
       "data:  m2\n",
       "p-value = 3.008e-12\n",
       "alternative hypothesis: true odds ratio is greater than 1\n",
       "95 percent confidence interval:\n",
       " 2.082529      Inf\n",
       "sample estimates:\n",
       "odds ratio \n",
       "  2.664003 \n"
      ]
     },
     "metadata": {},
     "output_type": "display_data"
    },
    {
     "data": {
      "text/html": [
       "-2.23606797749979"
      ],
      "text/latex": [
       "-2.23606797749979"
      ],
      "text/markdown": [
       "-2.23606797749979"
      ],
      "text/plain": [
       "[1] -2.236068"
      ]
     },
     "metadata": {},
     "output_type": "display_data"
    },
    {
     "data": {
      "text/html": [
       "0.5907"
      ],
      "text/latex": [
       "0.5907"
      ],
      "text/markdown": [
       "0.5907"
      ],
      "text/plain": [
       "[1] 0.5907"
      ]
     },
     "metadata": {},
     "output_type": "display_data"
    },
    {
     "data": {
      "text/html": [
       "0.48"
      ],
      "text/latex": [
       "0.48"
      ],
      "text/markdown": [
       "0.48"
      ],
      "text/plain": [
       "[1] 0.48"
      ]
     },
     "metadata": {},
     "output_type": "display_data"
    },
    {
     "data": {
      "text/plain": [
       "\n",
       "\tOne Sample t-test\n",
       "\n",
       "data:  gh\n",
       "t = 1.8481, df = 9, p-value = 0.04882\n",
       "alternative hypothesis: true mean is greater than 0\n",
       "95 percent confidence interval:\n",
       " 0.003900108         Inf\n",
       "sample estimates:\n",
       "mean of x \n",
       "     0.48 \n"
      ]
     },
     "metadata": {},
     "output_type": "display_data"
    },
    {
     "data": {
      "text/plain": [
       "\n",
       "\tPaired t-test\n",
       "\n",
       "data:  gh1 and gh2\n",
       "t = 1.8481, df = 9, p-value = 0.04882\n",
       "alternative hypothesis: true difference in means is greater than 0\n",
       "95 percent confidence interval:\n",
       " 0.003900108         Inf\n",
       "sample estimates:\n",
       "mean of the differences \n",
       "                   0.48 \n"
      ]
     },
     "metadata": {},
     "output_type": "display_data"
    },
    {
     "data": {
      "text/html": [
       "19"
      ],
      "text/latex": [
       "19"
      ],
      "text/markdown": [
       "19"
      ],
      "text/plain": [
       "[1] 19"
      ]
     },
     "metadata": {},
     "output_type": "display_data"
    },
    {
     "data": {
      "text/html": [
       "-2"
      ],
      "text/latex": [
       "-2"
      ],
      "text/markdown": [
       "-2"
      ],
      "text/plain": [
       "[1] -2"
      ]
     },
     "metadata": {},
     "output_type": "display_data"
    },
    {
     "data": {
      "text/html": [
       "1.95996398454005"
      ],
      "text/latex": [
       "1.95996398454005"
      ],
      "text/markdown": [
       "1.95996398454005"
      ],
      "text/plain": [
       "[1] 1.959964"
      ]
     },
     "metadata": {},
     "output_type": "display_data"
    },
    {
     "data": {
      "text/html": [
       "<table>\n",
       "<caption>A matrix: 3 × 2 of type dbl</caption>\n",
       "<tbody>\n",
       "\t<tr><td>83</td><td>42</td></tr>\n",
       "\t<tr><td>14</td><td>11</td></tr>\n",
       "\t<tr><td>23</td><td>27</td></tr>\n",
       "</tbody>\n",
       "</table>\n"
      ],
      "text/latex": [
       "A matrix: 3 × 2 of type dbl\n",
       "\\begin{tabular}{ll}\n",
       "\t 83 & 42\\\\\n",
       "\t 14 & 11\\\\\n",
       "\t 23 & 27\\\\\n",
       "\\end{tabular}\n"
      ],
      "text/markdown": [
       "\n",
       "A matrix: 3 × 2 of type dbl\n",
       "\n",
       "| 83 | 42 |\n",
       "| 14 | 11 |\n",
       "| 23 | 27 |\n",
       "\n"
      ],
      "text/plain": [
       "     [,1] [,2]\n",
       "[1,] 83   42  \n",
       "[2,] 14   11  \n",
       "[3,] 23   27  "
      ]
     },
     "metadata": {},
     "output_type": "display_data"
    },
    {
     "data": {
      "text/plain": [
       "\n",
       "\tPearson's Chi-squared test\n",
       "\n",
       "data:  m8\n",
       "X-squared = 6.3833, df = 2, p-value = 0.0411\n"
      ]
     },
     "metadata": {},
     "output_type": "display_data"
    }
   ],
   "source": [
    "###### 1 ######\n",
    "\n",
    "onesampleprop=function(x,n,p0){\n",
    "p=x/n ; q0=1-p0\n",
    "z=(p-p0)/sqrt(p0*q0/n)\n",
    "z\n",
    "}\n",
    "onesampleprop(x=60,n=100,p0=0.70)\n",
    "\n",
    "###### 2 ######\n",
    "\n",
    "twosampleprop=function(x1,n1,x2,n2){\n",
    "p1=x1/n1 ; p2=x2/n2\n",
    "p=(x1+x2)/(n1+n2) ; q=1-p\n",
    "z=(p1-p2)/sqrt((p*q/n1)+(p*q/n2))\n",
    "d=data.frame(p1=p1,p2=p2,p=p,q=q,z=z)\n",
    "d\n",
    "}\n",
    "twosampleprop(x1=4,n1=5,x2=3,n2=5)\n",
    "\n",
    "m2=matrix(c(400,100,300,200),ncol=2) ; m2\n",
    "fisher.test(m2,alt='g')\n",
    "\n",
    "###### 3 ######\n",
    "\n",
    "zt=function(xbar,mu,var,n) (xbar-mu)/sqrt(var/n)\n",
    "\n",
    "zt(75,76,2,10)\n",
    "montcarlo<-function(n){\n",
    "random <- rnorm(n)\n",
    "return (mean(random > -0.23))\n",
    "}\n",
    "montcarlo(10000)\n",
    "\n",
    "###### 4 ######\n",
    "\n",
    "gh1=c(9.5,6.6,8.3,9.25,9.5,9.0,7.0,9.3,9.6,8.0)\n",
    "gh2=c(8,7,8.4,9.5,9.15,8.5,7.2,8.1,9.4,6)\n",
    "gh=gh1-gh2\n",
    "mean(gh)\n",
    "t.test(gh,alt='g')\n",
    "t.test(gh1,gh2,pair=T,alt='g')\n",
    "\n",
    "###### 7 ######\n",
    "\n",
    "z=c(15,21.5,17,20.5,19,16.5,23,17.5,19.5,18.5,21)\n",
    "f=c(2,1,1,2,2,1,2,2,3,3,1)\n",
    "zbar=sum(z*f)/sum(f) ; zbar\n",
    "zt(19,20,5,20) # tarif shode dar soal 3\n",
    "qnorm(0.975)\n",
    "\n",
    "###### 8 ######\n",
    "\n",
    "m8=matrix(c(83,14,23,42,11,27),ncol=2) ; m8\n",
    "chisq.test(m8)\n",
    "\n",
    "#\n"
   ]
  },
  {
   "cell_type": "markdown",
   "metadata": {},
   "source": [
    "<div dir = \"rtl\" style=\"direction:rtl;line-height:300%;\">\n",
    "\t<font face=\"XB Zar\" size=5>\n",
    "\t\t<font color=#FF7500 size=6>\n",
    "            بررسی تأثیر بازیگران مشهور بر  میزان فروش فیلم‌ها\n",
    "        </font>\n",
    "        <hr>\n",
    "        داده boxOffices را بخوانید. ستون اول فروش گیشه‌ی فیلم‌های مختلف را بر حسب میلیارد تومان نشان می‌دهد. سطر اول اسامی بازیگران مختلف است. در صورتی که بازیگر در فیلم حضور داشته باشد، ۱ و در غیر این صورت ۰ در خانه‌های جدول قرار گرفته است. \n",
    "        می‌خواهیم بررسی کنیم که حضور بازیگران مشهور تأثیر مثبتی در فروش فیلم‌ها دارد یا نه.\n",
    "        <ul>\n",
    "            <li>\n",
    "                آزمون ناپارامتری‌ای طراحی کنید و خواسته‌ی سوال را برای هر بازیگر به طور جداگانه بررسی کنید.\n",
    "            </li>\n",
    "            <li>\n",
    "                برای محاسبات تمامی جایگشت‌ها را تولید کنید. \n",
    "            </li>\n",
    "             <li>\n",
    "                خطای نوع اول را 0.05 در نظر بگیرید.\n",
    "            </li>\n",
    "                         <li>\n",
    "                مجاز به استفاده از پکیج coin نیستید.\n",
    "            </li>\n",
    "                        <li>\n",
    "                در صورتیکه فرض صفر برای بازیگری رد شود، نام آن را چاپ کنید. \n",
    "            </li>\n",
    "        </ul>\n",
    "    </font>\n",
    "</div>"
   ]
  },
  {
   "cell_type": "markdown",
   "metadata": {},
   "source": [
    "<div dir = \"rtl\" style=\"direction:rtl;line-height:300%;\">\n",
    "\t<font face=\"XB Zar\" size=5>\n",
    "\t\t<font color=#FF7500 size=6>\n",
    "        </font>\n",
    "        پاسخ:\n",
    "\t</font>\n",
    "</div>"
   ]
  },
  {
   "cell_type": "code",
   "execution_count": 2,
   "metadata": {},
   "outputs": [
    {
     "name": "stderr",
     "output_type": "stream",
     "text": [
      "Warning message:\n",
      "\"package 'gtools' was built under R version 4.0.3\"\n",
      "\n",
      "Attaching package: 'dplyr'\n",
      "\n",
      "\n",
      "The following objects are masked from 'package:stats':\n",
      "\n",
      "    filter, lag\n",
      "\n",
      "\n",
      "The following objects are masked from 'package:base':\n",
      "\n",
      "    intersect, setdiff, setequal, union\n",
      "\n",
      "\n"
     ]
    },
    {
     "name": "stdout",
     "output_type": "stream",
     "text": [
      "[1] \"R_ATTARAN\"\n"
     ]
    }
   ],
   "source": [
    "library(\"gtools\")\n",
    "library(\"dplyr\")\n",
    "df <- read.csv('boxOffices.csv')\n",
    "for(j in 2:13){\n",
    "a <- df%>%filter(df[j] == 1)\n",
    "b <- df%>%filter(df[j] ==0)\n",
    "meana <- mean(a$BoxOffice)\n",
    "meanb <- mean(b$BoxOffice)\n",
    "m <- abs(meana - meanb)\n",
    "na <- nrow(a)\n",
    "nb <- nrow(b)\n",
    "gathered = df$BoxOffice\n",
    "nb <- nrow(b)\n",
    "allA <- combinations(nb+na, na, gathered)\n",
    "numPerms <- dim(allA)[1]\n",
    "allB <- matrix(0, nrow=numPerms, ncol=nb)\n",
    "for (i in 1:numPerms) {allB[i,] = gathered[! gathered %in% allA[i,]] }\n",
    "ma <- apply(allA,1,mean)\n",
    "mb <- apply(allB,1,mean)\n",
    "dif <-abs(ma-mb)\n",
    "ma <- apply(allA,1,mean)\n",
    "mb <- apply(allB,1,mean)\n",
    "dif <-abs(ma-mb) \n",
    "greater <- dif[dif >= m]\n",
    "pValue <- length(greater) / numPerms\n",
    "if(pValue<0.05){print(colnames(df[j]))}\n",
    "}"
   ]
  },
  {
   "cell_type": "markdown",
   "metadata": {},
   "source": [
    "<div dir = \"rtl\" style=\"direction:rtl;line-height:300%;\">\n",
    "\t<font face=\"XB Zar\" size=5>\n",
    "        <ul>\n",
    "            <li>\n",
    "              با توجه به نتایج بخش قبل آیا می‌توانیم فرض صفر صورت سوال را رد کنیم؟ خطای نوع اول این حالت را محاسبه کنید. \n",
    "            </li>\n",
    "        </ul>\n",
    "\t</font>\n",
    "</div>"
   ]
  },
  {
   "cell_type": "markdown",
   "metadata": {},
   "source": [
    "<div dir = \"rtl\" style=\"direction:rtl;line-height:300%;\">\n",
    "\t<font face=\"XB Zar\" size=5>\n",
    "\t\t<font color=#FF7500 size=6>\n",
    "        </font>\n",
    "        پاسخ:\n",
    "\t</font>\n",
    "</div>"
   ]
  },
  {
   "cell_type": "code",
   "execution_count": 9,
   "metadata": {},
   "outputs": [
    {
     "data": {
      "text/html": [
       "0.641514077591458"
      ],
      "text/latex": [
       "0.641514077591458"
      ],
      "text/markdown": [
       "0.641514077591458"
      ],
      "text/plain": [
       "[1] 0.6415141"
      ]
     },
     "metadata": {},
     "output_type": "display_data"
    }
   ],
   "source": [
    "#no\n",
    "alpha <- 0.05\n",
    "x <- 1-alpha\n",
    "y <- 1\n",
    "for(i in 1:20){y <- y * x}\n",
    "1 - y"
   ]
  },
  {
   "cell_type": "markdown",
   "metadata": {},
   "source": [
    "<div dir = \"rtl\" style=\"direction:rtl;line-height:300%;\">\n",
    "\t<font face=\"XB Zar\" size=5>\n",
    "        <ul>\n",
    "            <li>\n",
    "              روشی برای کاهش خطای نوع اولی که در قسمت قبل محاسبه کردید، ارائه دهید. بار دیگر خواسته‌ی سوال را بررسی کنید. \n",
    "            </li>\n",
    "        </ul>\n",
    "\t</font>\n",
    "</div>"
   ]
  },
  {
   "cell_type": "code",
   "execution_count": 10,
   "metadata": {},
   "outputs": [],
   "source": [
    "#benforni\n",
    "for(j in 2:13){\n",
    "a <- df%>%filter(df[j] == 1)\n",
    "b <- df%>%filter(df[j] ==0)\n",
    "meana <- mean(a$BoxOffice)\n",
    "meanb <- mean(b$BoxOffice)\n",
    "m <- abs(meana - meanb)\n",
    "na <- nrow(a)\n",
    "nb <- nrow(b)\n",
    "gathered = df$BoxOffice\n",
    "nb <- nrow(b)\n",
    "allA <- combinations(nb+na, na, gathered)\n",
    "numPerms <- dim(allA)[1]\n",
    "allB <- matrix(0, nrow=numPerms, ncol=nb)\n",
    "for (i in 1:numPerms) {allB[i,] = gathered[! gathered %in% allA[i,]] }\n",
    "ma <- apply(allA,1,mean)\n",
    "mb <- apply(allB,1,mean)\n",
    "dif <-abs(ma-mb)\n",
    "ma <- apply(allA,1,mean)\n",
    "mb <- apply(allB,1,mean)\n",
    "dif <-abs(ma-mb) \n",
    "greater <- dif[dif >= m]\n",
    "pValue <- length(greater) / numPerms\n",
    "if(pValue<0.05/20){print(colnames(df[j]))}\n",
    "}"
   ]
  }
 ],
 "metadata": {
  "kernelspec": {
   "display_name": "R",
   "language": "R",
   "name": "ir"
  },
  "language_info": {
   "codemirror_mode": "r",
   "file_extension": ".r",
   "mimetype": "text/x-r-source",
   "name": "R",
   "pygments_lexer": "r",
   "version": "4.0.2"
  }
 },
 "nbformat": 4,
 "nbformat_minor": 2
}
