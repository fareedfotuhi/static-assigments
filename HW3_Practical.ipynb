{
 "cells": [
  {
   "cell_type": "markdown",
   "metadata": {},
   "source": [
    "<div style=\"direction:rtl;line-height:300%;\">\n",
    "\t<font face=\"XB Zar\" size=5>\n",
    "\t\t<div align=center>\n",
    "\t\t\t<font face=\"IranNastaliq\" size=30>\n",
    "\t\t\t\t<p></p>\n",
    "\t\t\t\t<p></p>\n",
    "به نام خدا\n",
    "\t\t\t\t<p></p>\n",
    "\t\t\t</font>\n",
    "\t\t\t<font color=#FF7500>\n",
    "دانشگاه صنعتی شریف - دانشکده مهندسی کامپیوتر\n",
    "            </font>\n",
    "\t\t\t<p></p>\n",
    "\t\t\t<font color=blue>\n",
    "آمار و احتمال مهندسی\n",
    "            </font>\n",
    "\t\t\t<br />\n",
    "\t\t\t<br />\n",
    "پاییز ۱۳۹۹\n",
    "\t\t</div>\n",
    "\t\t<hr/>\n",
    "\t\t<div align=center>\n",
    "\t\t    <font color=red size=6>\n",
    "\t\t\t    <br />\n",
    "تمرین عملی بخش سوم\n",
    "            \t<br/>\n",
    "\t\t\t</font>\n",
    "طراح: امیرمهدی نامجو - احمد سلیمی\n",
    "\t\t\t<br/><br/>\n",
    "موعد تحویل: ... ساعت ۲۳:۵۹  \n",
    "                <br/>\n",
    "                همفکری در تمامی تمرین‌های درس توصیه می‌شود. در عین حال از شما خواسته می‌شود تا تمام پیاده‌سازی را به تنهایی و بدون مشاهده کد دیگران انجام دهید.\n",
    "                <br/><br/>\n",
    "                <font color=red>\n",
    "                لطفا در فایل ارسالی تمام بلوک‌های کد اجرا شده و شامل نمودار‌ها و خروجی‌های لازم باشند.\n",
    "     </font>\n",
    "                <br/>\n",
    "        </style>\n",
    "\t</font>\n",
    "</div>"
   ]
  },
  {
   "cell_type": "markdown",
   "metadata": {},
   "source": [
    "<div style=\"direction:rtl\">\n",
    "    فرید فتوحی فیروزآباد\n",
    "</div>"
   ]
  },
  {
   "cell_type": "markdown",
   "metadata": {},
   "source": [
    "<div style=\"direction:rtl\">\n",
    "    98110073\n",
    "</div>"
   ]
  },
  {
   "cell_type": "markdown",
   "metadata": {},
   "source": [
    "<div style=\"direction:rtl\">\n",
    "    نام افرادی که با آن‌ها مشورت کرده‌اید:\n",
    "</div>"
   ]
  },
  {
   "cell_type": "markdown",
   "metadata": {},
   "source": [
    "<div dir = \"rtl\" style=\"direction:rtl;text-align:justify;line-height:300%;\">\n",
    "\t<font face=\"XB Zar\" size=5>\n",
    "        <hr/>\n",
    "        <h3> سوال ۱</h3>\n",
    "        در این سوال می‌خواهیم این موضوع را بررسی کنیم که همبستگی مثبت یا همبستگی منفی، لزوما به معنی وجود رابطه علّی و یا حتی رابطه معنادار دیگری نیست. برای حل این سوال بهتر است از کتابخانه‌های زیر استفاده کنید. هر چند حل سوال بدون آن‌ها هم امکان پذیر است.\n",
    " <br> \n",
    "    </font>\n",
    "</div>"
   ]
  },
  {
   "cell_type": "code",
   "execution_count": 6,
   "metadata": {},
   "outputs": [
    {
     "name": "stderr",
     "output_type": "stream",
     "text": [
      "Warning message:\n",
      "\"package 'reshape2' was built under R version 4.0.3\"\n",
      "\n",
      "Attaching package: 'dplyr'\n",
      "\n",
      "\n",
      "The following objects are masked from 'package:stats':\n",
      "\n",
      "    filter, lag\n",
      "\n",
      "\n",
      "The following objects are masked from 'package:base':\n",
      "\n",
      "    intersect, setdiff, setequal, union\n",
      "\n",
      "\n"
     ]
    }
   ],
   "source": [
    "library('ggplot2')\n",
    "library('reshape2')\n",
    "library(dplyr)"
   ]
  },
  {
   "cell_type": "markdown",
   "metadata": {},
   "source": [
    "<div dir = \"rtl\" style=\"direction:rtl;text-align:justify;line-height:300%;\">\n",
    "\t<font face=\"XB Zar\" size=5>\n",
    "        <ul>\n",
    "        <li>\n",
    "فایل dataset.csv را در قالب یک دیتافریم لود کرده و سه سطر اول آن را نمایش دهید.\n",
    "        </li>\n",
    "        </ul>\n",
    "\t</font>\n",
    "</div>"
   ]
  },
  {
   "cell_type": "code",
   "execution_count": 5,
   "metadata": {},
   "outputs": [
    {
     "data": {
      "text/html": [
       "<table>\n",
       "<caption>A data.frame: 3 × 6</caption>\n",
       "<thead>\n",
       "\t<tr><th></th><th scope=col>Year</th><th scope=col>Cheese.Consumption</th><th scope=col>Golf.Revenue</th><th scope=col>Civil.Eng.Doctorate</th><th scope=col>Honey.Produced</th><th scope=col>Non.Commercial.Space.Launch</th></tr>\n",
       "\t<tr><th></th><th scope=col>&lt;int&gt;</th><th scope=col>&lt;dbl&gt;</th><th scope=col>&lt;int&gt;</th><th scope=col>&lt;int&gt;</th><th scope=col>&lt;int&gt;</th><th scope=col>&lt;int&gt;</th></tr>\n",
       "</thead>\n",
       "<tbody>\n",
       "\t<tr><th scope=row>1</th><td>1999</td><td>29.6</td><td>16670</td><td>470</td><td>207363</td><td>42</td></tr>\n",
       "\t<tr><th scope=row>2</th><td>2000</td><td>29.8</td><td>16692</td><td>480</td><td>220286</td><td>50</td></tr>\n",
       "\t<tr><th scope=row>3</th><td>2001</td><td>30.1</td><td>16862</td><td>501</td><td>186051</td><td>43</td></tr>\n",
       "</tbody>\n",
       "</table>\n"
      ],
      "text/latex": [
       "A data.frame: 3 × 6\n",
       "\\begin{tabular}{r|llllll}\n",
       "  & Year & Cheese.Consumption & Golf.Revenue & Civil.Eng.Doctorate & Honey.Produced & Non.Commercial.Space.Launch\\\\\n",
       "  & <int> & <dbl> & <int> & <int> & <int> & <int>\\\\\n",
       "\\hline\n",
       "\t1 & 1999 & 29.6 & 16670 & 470 & 207363 & 42\\\\\n",
       "\t2 & 2000 & 29.8 & 16692 & 480 & 220286 & 50\\\\\n",
       "\t3 & 2001 & 30.1 & 16862 & 501 & 186051 & 43\\\\\n",
       "\\end{tabular}\n"
      ],
      "text/markdown": [
       "\n",
       "A data.frame: 3 × 6\n",
       "\n",
       "| <!--/--> | Year &lt;int&gt; | Cheese.Consumption &lt;dbl&gt; | Golf.Revenue &lt;int&gt; | Civil.Eng.Doctorate &lt;int&gt; | Honey.Produced &lt;int&gt; | Non.Commercial.Space.Launch &lt;int&gt; |\n",
       "|---|---|---|---|---|---|---|\n",
       "| 1 | 1999 | 29.6 | 16670 | 470 | 207363 | 42 |\n",
       "| 2 | 2000 | 29.8 | 16692 | 480 | 220286 | 50 |\n",
       "| 3 | 2001 | 30.1 | 16862 | 501 | 186051 | 43 |\n",
       "\n"
      ],
      "text/plain": [
       "  Year Cheese.Consumption Golf.Revenue Civil.Eng.Doctorate Honey.Produced\n",
       "1 1999 29.6               16670        470                 207363        \n",
       "2 2000 29.8               16692        480                 220286        \n",
       "3 2001 30.1               16862        501                 186051        \n",
       "  Non.Commercial.Space.Launch\n",
       "1 42                         \n",
       "2 50                         \n",
       "3 43                         "
      ]
     },
     "metadata": {},
     "output_type": "display_data"
    }
   ],
   "source": [
    "df <- read.csv('dataset.csv')\n",
    "head(df,3)"
   ]
  },
  {
   "cell_type": "markdown",
   "metadata": {
    "collapsed": true
   },
   "source": [
    "<div dir = \"rtl\" style=\"direction:rtl;text-align:justify;line-height:300%;\">\n",
    "\t<font face=\"XB Zar\" size=5>\n",
    "        <hr/>\n",
    "        در ستون اول این دیتاست عدد سال‌های ۱۹۹۹ تا ۲۰۰۹ قرار گرفته است. ستون‌های بعدی (به جز ستون آخر) هر کدام مربوط به موضوع خاصی در کشور ایالات متحده می‌شود. ستون دوم مصرف سرانه پنیر، ستون سوم درآمد کل مسابقات گلف، ستون چهارم تعداد افرادی که دکترای مهندسی عمران گرفته اند، ستون پنجم میزان عسل تولیدی و ستون آخر تعداد پروازهای فضایی غیرتجاری را نشان می‌دهد.  \n",
    " <br> \n",
    "    </font>\n",
    "</div>"
   ]
  },
  {
   "cell_type": "markdown",
   "metadata": {},
   "source": [
    "<div dir = \"rtl\" style=\"direction:rtl;text-align:justify;line-height:300%;\">\n",
    "\t<font face=\"XB Zar\" size=5>\n",
    "        <ul>\n",
    "        <li>\n",
    "یک ماتریس تولید کنید که درایه‌های آن برابر Correlation دو به دوی ویژگی‌های قرار گرفته در ستون‌های دیتاست باشند. (به جز سال) \n",
    "        </li>\n",
    "        </ul>\n",
    "\t</font>\n",
    "</div>"
   ]
  },
  {
   "cell_type": "code",
   "execution_count": 2,
   "metadata": {},
   "outputs": [],
   "source": [
    "x <- matrix(nrow = 5,ncol = 5)\n",
    "x[1,1]<-cor(df$Cheese.Consumption,df$Cheese.Consumption)\n",
    "x[1,2]<-cor(df$Cheese.Consumption,df$Golf.Revenue)\n",
    "x[1,3]<-cor(df$Cheese.Consumption,df$Civil.Eng.Doctorate)\n",
    "x[1,4]<-cor(df$Cheese.Consumption,df$Honey.Produced)\n",
    "x[1,5]<-cor(df$Cheese.Consumption,df$Non.Commercial.Space.Launch)\n",
    "x[2,1]<-cor(df$Golf.Revenue,df$Cheese.Consumption)\n",
    "x[2,2]<-cor(df$Golf.Revenue,df$Golf.Revenue)\n",
    "x[2,3]<-cor(df$Golf.Revenue,df$Civil.Eng.Doctorate)\n",
    "x[2,4]<-cor(df$Golf.Revenue,df$Honey.Produced)\n",
    "x[2,5]<-cor(df$Golf.Revenue,df$Non.Commercial.Space.Launch)\n",
    "x[3,1]<-cor(df$Civil.Eng.Doctorate,df$Cheese.Consumption)\n",
    "x[3,2]<-cor(df$Civil.Eng.Doctorate,df$Golf.Revenue)\n",
    "x[3,3]<-cor(df$Civil.Eng.Doctorate,df$Civil.Eng.Doctorate)\n",
    "x[3,4]<-cor(df$Civil.Eng.Doctorate,df$Honey.Produced)\n",
    "x[3,5]<-cor(df$Civil.Eng.Doctorate,df$Non.Commercial.Space.Launch)\n",
    "x[4,1]<-cor(df$Honey.Produced,df$Cheese.Consumption)\n",
    "x[4,2]<-cor(df$Honey.Produced,df$Golf.Revenue)\n",
    "x[4,3]<-cor(df$Honey.Produced,df$Civil.Eng.Doctorate)\n",
    "x[4,4]<-cor(df$Honey.Produced,df$Honey.Produced)\n",
    "x[4,5]<-cor(df$Honey.Produced,df$Non.Commercial.Space.Launch)\n",
    "x[5,1]<-cor(df$Non.Commercial.Space.Launch,df$Cheese.Consumption)\n",
    "x[5,2]<-cor(df$Non.Commercial.Space.Launch,df$Golf.Revenue)\n",
    "x[5,3]<-cor(df$Non.Commercial.Space.Launch,df$Civil.Eng.Doctorate)\n",
    "x[5,4]<-cor(df$Non.Commercial.Space.Launch,df$Honey.Produced)\n",
    "x[5,5]<-cor(df$Non.Commercial.Space.Launch,df$Non.Commercial.Space.Launch)\n",
    "rownames(x)<-c(\"Cheese.Consumption\",\"Golf.Revenue\",\"Civil.Eng.Doctorate\",\"Honey.Produced\",\"Non.Commercial.Space.Launch\")\n",
    "colnames(x)<-c(\"Cheese.Consumption\",\"Golf.Revenue\",\"Civil.Eng.Doctorate\",\"Honey.Produced\",\"Non.Commercial.Space.Launch\")"
   ]
  },
  {
   "cell_type": "markdown",
   "metadata": {},
   "source": [
    "<div dir = \"rtl\" style=\"direction:rtl;text-align:justify;line-height:300%;\">\n",
    "\t<font face=\"XB Zar\" size=5>\n",
    "        <ul>\n",
    "        <li>\n",
    "برای ماتریس تولید شده در بالا Heatmap رسم کنید. Heatmap را می‌توانید به نوعی یک نمودار نمایانگر ماتریس بدانید که به جای این که در درایه‌های آن عدد باشد، متناسب با مقدار عددی آن در ماتریس رنگ آن درایه که به صورت تعدادی مستطیل کنارهم قرار گرفته است، تغییر خواهد کرد. می‌توانید برای اطلاعات بیش‌تر در مورد Heatmap آن را در اینترنت جست و جو کنید. \n",
    "        </li>\n",
    "        </ul>\n",
    "\t</font>\n",
    "</div>"
   ]
  },
  {
   "cell_type": "code",
   "execution_count": 3,
   "metadata": {},
   "outputs": [
    {
     "data": {
      "image/png": "[encoded data removed]",
      "text/plain": [
       "plot without title"
      ]
     },
     "metadata": {
      "image/png": {
       "height": 420,
       "width": 420
      }
     },
     "output_type": "display_data"
    }
   ],
   "source": [
    "heatmap(x)"
   ]
  },
  {
   "cell_type": "markdown",
   "metadata": {},
   "source": [
    "<div dir = \"rtl\" style=\"direction:rtl;text-align:justify;line-height:300%;\">\n",
    "\t<font face=\"XB Zar\" size=5>\n",
    "        <ul>\n",
    "        <li>\n",
    "        همان طور که می‌بینید بعضی از Correlation ها به طرز عجیبی نزدیک ۱ و بعضی به طرز عجیبی نزدیک ۱- هستند. سه جفت تا از آنان را انتخاب کرده و نمودار تغییرات آن جفت ستون‌ها برحسب زمان را رسم کرده و مقدار Correlation آنان را بنویسید. برای این که نمودار شما شکل خوبی داشته باشد، داده‌هایی هر ستون را متناسب با حداقل و حداکثر آن به عددی بین ۰ تا ۱ نگاشت بدهید (Normalize کنید) و سپس نمودار خطی هر دو ستون برحسب زمان را در یک شکل نمایش بدهید. \n",
    "        </li>\n",
    "        </ul>\n",
    "\t</font>\n",
    "</div>"
   ]
  },
  {
   "cell_type": "code",
   "execution_count": 12,
   "metadata": {},
   "outputs": [
    {
     "data": {
      "image/png": "[encoded data removed]",
      "text/plain": [
       "plot without title"
      ]
     },
     "metadata": {
      "image/png": {
       "height": 420,
       "width": 420
      }
     },
     "output_type": "display_data"
    },
    {
     "data": {
      "image/png": "[encoded data removed]",
      "text/plain": [
       "plot without title"
      ]
     },
     "metadata": {
      "image/png": {
       "height": 420,
       "width": 420
      }
     },
     "output_type": "display_data"
    },
    {
     "data": {
      "image/png": "[encoded data removed]",
      "text/plain": [
       "plot without title"
      ]
     },
     "metadata": {
      "image/png": {
       "height": 420,
       "width": 420
      }
     },
     "output_type": "display_data"
    }
   ],
   "source": [
    "df1 <- df\n",
    "df1$Cheese.Consumption_n<-(df1$Cheese.Consumption - min(df1$Cheese.Consumption))/(max(df1$Cheese.Consumption)-min(df1$Cheese.Consumption))\n",
    "df1$Golf.Revenue_n<-(df1$Golf.Revenue - min(df1$Golf.Revenue))/(max(df1$Golf.Revenue)-min(df1$Golf.Revenue))\n",
    "df1$Civil.Eng.Doctorate_n <- (df1$Civil.Eng.Doctorate-min(df1$Civil.Eng.Doctorate))/(max(df1$Civil.Eng.Doctorate) - min(df1$Civil.Eng.Doctorate))\n",
    "df1$Honey.Produced_n<-(df1$Honey.Produced-min(df1$Honey.Produced))/(max(df1$Honey.Produced)-min(df1$Honey.Produced))\n",
    "df1$Non.Commercial.Space.Launch_n <- (df1$Non.Commercial.Space.Launch-min(df1$Non.Commercial.Space.Launch))/(max(df1$Non.Commercial.Space.Launch)-min(df1$Non.Commercial.Space.Launch))\n",
    "df1 <- select(df1,-(2:6))\n",
    "ggplot(data = df1)+geom_line(mapping = aes(x = Year,y = Cheese.Consumption_n),color = \"red\")+geom_line(mapping = aes(x = Year,y = Golf.Revenue_n ),color = \"green\")+labs(title =  \"cor=0.9885506\",y = \"normlize int\",x = \"Year\")\n",
    "ggplot(data = df1)+labs(title =  \"cor=-0.8981652\",y = \"normlize int\",x = \"Year\")+geom_line(mapping = aes(x = Year,y = Cheese.Consumption_n),color = \"red\")+geom_line(mapping = aes(x = Year,y = Honey.Produced_n),color = \"green\")\n",
    "ggplot(data = df1)+labs(title =  \"cor=0.9720334\",y = \"normlize int\",x = \"Year\")+geom_line(mapping = aes(x = Year,y = Golf.Revenue_n),color = \"green\")+geom_line(mapping = aes(x = Year,y = Civil.Eng.Doctorate_n),color = \"red\")"
   ]
  },
  {
   "cell_type": "markdown",
   "metadata": {},
   "source": [
    "<div dir = \"rtl\" style=\"direction:rtl;text-align:justify;line-height:300%;\">\n",
    "\t<font face=\"XB Zar\" size=5>\n",
    "\t\t<font color=#FF7500 size=6>\n",
    "        </font>\n",
    "        چه نتیجه‌ای می‌گیرید؟ آیا این Correlation ها نشان دهنده رابطه علّی و یا رابطه معنادار دیگری بین این موارد هستند؟\n",
    "\t</font>\n",
    "</div>"
   ]
  },
  {
   "cell_type": "markdown",
   "metadata": {},
   "source": [
    "<div dir = \"rtl\" style=\"direction:rtl;text-align:justify;line-height:300%;\">\n",
    "\t<font face=\"XB Zar\" size=5>\n",
    "\t\t<font color=#FF7500 size=6>\n",
    "        </font>\n",
    "        پاسخ:\n",
    "\t</font>\n",
    "</div>"
   ]
  },
  {
   "cell_type": "markdown",
   "metadata": {},
   "source": [
    "<div dir = \"rtl\" style=\"direction:rtl;text-align:justify;line-height:300%;\">\n",
    "\t<font face=\"XB Zar\" size=5>\n",
    "        <hr/>\n",
    "        <h3> سوال ۲ - تمیزسازی داده</h3>\n",
    "        معمولاً در تحلیل داده، زمان زیادی صرف تمیزسازی و آماده‌سازی داده‌ها می‌شود. در این سوال، می‌خواهیم با استفاده از مفاهیم تمیز‌سازی داده و ابزار R،\n",
    "        مجموعه داده‌ی weather\n",
    "        را تمیزسازی کنیم.\n",
    "    </font>\n",
    "</div>"
   ]
  },
  {
   "cell_type": "code",
   "execution_count": 18,
   "metadata": {},
   "outputs": [
    {
     "name": "stderr",
     "output_type": "stream",
     "text": [
      "\n",
      "Attaching package: 'tidyr'\n",
      "\n",
      "\n",
      "The following object is masked from 'package:reshape2':\n",
      "\n",
      "    smiths\n",
      "\n",
      "\n"
     ]
    }
   ],
   "source": [
    "library('dplyr')\n",
    "library('tidyr')"
   ]
  },
  {
   "cell_type": "markdown",
   "metadata": {},
   "source": [
    "<div dir = \"rtl\" style=\"direction:rtl;text-align:justify;line-height:300%;\">\n",
    "\t<font face=\"XB Zar\" size=5>\n",
    "\t\t<font color=#FF7500 size=6>\n",
    "        </font>\n",
    "        <h4>مشاهده دیتاست</h4>\n",
    "        ابتدا دیتاست <code>weather.rds</code>\n",
    "        را با استفاده از تابع <code>readRDS</code>\n",
    "        بخوانید و آن را نمایش دهید.\n",
    "\t</font>\n",
    "</div>"
   ]
  },
  {
   "cell_type": "code",
   "execution_count": 14,
   "metadata": {
    "scrolled": true
   },
   "outputs": [
    {
     "data": {
      "text/html": [
       "<table>\n",
       "<caption>A data.frame: 286 × 35</caption>\n",
       "<thead>\n",
       "\t<tr><th></th><th scope=col>X</th><th scope=col>year</th><th scope=col>month</th><th scope=col>measure</th><th scope=col>X1</th><th scope=col>X2</th><th scope=col>X3</th><th scope=col>X4</th><th scope=col>X5</th><th scope=col>X6</th><th scope=col>...</th><th scope=col>X22</th><th scope=col>X23</th><th scope=col>X24</th><th scope=col>X25</th><th scope=col>X26</th><th scope=col>X27</th><th scope=col>X28</th><th scope=col>X29</th><th scope=col>X30</th><th scope=col>X31</th></tr>\n",
       "\t<tr><th></th><th scope=col>&lt;int&gt;</th><th scope=col>&lt;int&gt;</th><th scope=col>&lt;int&gt;</th><th scope=col>&lt;chr&gt;</th><th scope=col>&lt;chr&gt;</th><th scope=col>&lt;chr&gt;</th><th scope=col>&lt;chr&gt;</th><th scope=col>&lt;chr&gt;</th><th scope=col>&lt;chr&gt;</th><th scope=col>&lt;chr&gt;</th><th scope=col>...</th><th scope=col>&lt;chr&gt;</th><th scope=col>&lt;chr&gt;</th><th scope=col>&lt;chr&gt;</th><th scope=col>&lt;chr&gt;</th><th scope=col>&lt;chr&gt;</th><th scope=col>&lt;chr&gt;</th><th scope=col>&lt;chr&gt;</th><th scope=col>&lt;chr&gt;</th><th scope=col>&lt;chr&gt;</th><th scope=col>&lt;chr&gt;</th></tr>\n",
       "</thead>\n",
       "<tbody>\n",
       "\t<tr><th scope=row>1</th><td> 1</td><td>2014</td><td>12</td><td>Max.TemperatureF         </td><td>64   </td><td>42       </td><td>51   </td><td>43   </td><td>42   </td><td>45   </td><td>...</td><td>44   </td><td>47   </td><td>46      </td><td>59   </td><td>50   </td><td>52   </td><td>52   </td><td>41   </td><td>30   </td><td>30   </td></tr>\n",
       "\t<tr><th scope=row>2</th><td> 2</td><td>2014</td><td>12</td><td>Mean.TemperatureF        </td><td>52   </td><td>38       </td><td>44   </td><td>37   </td><td>34   </td><td>42   </td><td>...</td><td>39   </td><td>45   </td><td>44      </td><td>52   </td><td>44   </td><td>45   </td><td>46   </td><td>36   </td><td>26   </td><td>25   </td></tr>\n",
       "\t<tr><th scope=row>3</th><td> 3</td><td>2014</td><td>12</td><td>Min.TemperatureF         </td><td>39   </td><td>33       </td><td>37   </td><td>30   </td><td>26   </td><td>38   </td><td>...</td><td>33   </td><td>42   </td><td>41      </td><td>44   </td><td>37   </td><td>38   </td><td>40   </td><td>30   </td><td>22   </td><td>20   </td></tr>\n",
       "\t<tr><th scope=row>4</th><td> 4</td><td>2014</td><td>12</td><td>Max.Dew.PointF           </td><td>46   </td><td>40       </td><td>49   </td><td>24   </td><td>37   </td><td>45   </td><td>...</td><td>39   </td><td>45   </td><td>46      </td><td>58   </td><td>31   </td><td>34   </td><td>42   </td><td>26   </td><td>10   </td><td>8    </td></tr>\n",
       "\t<tr><th scope=row>5</th><td> 5</td><td>2014</td><td>12</td><td>MeanDew.PointF           </td><td>40   </td><td>27       </td><td>42   </td><td>21   </td><td>25   </td><td>40   </td><td>...</td><td>34   </td><td>42   </td><td>44      </td><td>43   </td><td>29   </td><td>31   </td><td>35   </td><td>20   </td><td>4    </td><td>5    </td></tr>\n",
       "\t<tr><th scope=row>6</th><td> 6</td><td>2014</td><td>12</td><td>Min.DewpointF            </td><td>26   </td><td>17       </td><td>24   </td><td>13   </td><td>12   </td><td>36   </td><td>...</td><td>25   </td><td>37   </td><td>41      </td><td>29   </td><td>28   </td><td>29   </td><td>27   </td><td>10   </td><td>-6   </td><td>1    </td></tr>\n",
       "\t<tr><th scope=row>7</th><td> 7</td><td>2014</td><td>12</td><td>Max.Humidity             </td><td>74   </td><td>92       </td><td>100  </td><td>69   </td><td>85   </td><td>100  </td><td>...</td><td>89   </td><td>100  </td><td>100     </td><td>100  </td><td>70   </td><td>70   </td><td>76   </td><td>64   </td><td>50   </td><td>57   </td></tr>\n",
       "\t<tr><th scope=row>8</th><td> 8</td><td>2014</td><td>12</td><td>Mean.Humidity            </td><td>63   </td><td>72       </td><td>79   </td><td>54   </td><td>66   </td><td>93   </td><td>...</td><td>79   </td><td>91   </td><td>98      </td><td>75   </td><td>60   </td><td>60   </td><td>65   </td><td>51   </td><td>38   </td><td>44   </td></tr>\n",
       "\t<tr><th scope=row>9</th><td> 9</td><td>2014</td><td>12</td><td>Min.Humidity             </td><td>52   </td><td>51       </td><td>57   </td><td>39   </td><td>47   </td><td>85   </td><td>...</td><td>69   </td><td>82   </td><td>96      </td><td>49   </td><td>49   </td><td>50   </td><td>53   </td><td>37   </td><td>26   </td><td>31   </td></tr>\n",
       "\t<tr><th scope=row>10</th><td>10</td><td>2014</td><td>12</td><td>Max.Sea.Level.PressureIn </td><td>30.45</td><td>30.71    </td><td>30.4 </td><td>30.56</td><td>30.68</td><td>30.42</td><td>...</td><td>30.4 </td><td>30.31</td><td>30.13   </td><td>29.96</td><td>30.16</td><td>30.22</td><td>29.99</td><td>30.22</td><td>30.36</td><td>30.32</td></tr>\n",
       "\t<tr><th scope=row>11</th><td>11</td><td>2014</td><td>12</td><td>Mean.Sea.Level.PressureIn</td><td>30.13</td><td>30.59    </td><td>30.07</td><td>30.33</td><td>30.59</td><td>30.24</td><td>...</td><td>30.35</td><td>30.23</td><td>29.9    </td><td>29.63</td><td>30.11</td><td>30.14</td><td>29.87</td><td>30.12</td><td>30.32</td><td>30.25</td></tr>\n",
       "\t<tr><th scope=row>12</th><td>12</td><td>2014</td><td>12</td><td>Min.Sea.Level.PressureIn </td><td>30.01</td><td>30.4     </td><td>29.87</td><td>30.09</td><td>30.45</td><td>30.16</td><td>...</td><td>30.3 </td><td>30.16</td><td>29.55   </td><td>29.47</td><td>29.99</td><td>30.03</td><td>29.77</td><td>30   </td><td>30.23</td><td>30.13</td></tr>\n",
       "\t<tr><th scope=row>13</th><td>13</td><td>2014</td><td>12</td><td>Max.VisibilityMiles      </td><td>10   </td><td>10       </td><td>10   </td><td>10   </td><td>10   </td><td>10   </td><td>...</td><td>10   </td><td>10   </td><td>2       </td><td>10   </td><td>10   </td><td>10   </td><td>10   </td><td>10   </td><td>10   </td><td>10   </td></tr>\n",
       "\t<tr><th scope=row>14</th><td>14</td><td>2014</td><td>12</td><td>Mean.VisibilityMiles     </td><td>10   </td><td>8        </td><td>5    </td><td>10   </td><td>10   </td><td>4    </td><td>...</td><td>10   </td><td>5    </td><td>1       </td><td>8    </td><td>10   </td><td>10   </td><td>10   </td><td>10   </td><td>10   </td><td>10   </td></tr>\n",
       "\t<tr><th scope=row>15</th><td>15</td><td>2014</td><td>12</td><td>Min.VisibilityMiles      </td><td>10   </td><td>2        </td><td>1    </td><td>10   </td><td>5    </td><td>0    </td><td>...</td><td>4    </td><td>1    </td><td>0       </td><td>1    </td><td>10   </td><td>10   </td><td>10   </td><td>10   </td><td>10   </td><td>10   </td></tr>\n",
       "\t<tr><th scope=row>16</th><td>16</td><td>2014</td><td>12</td><td>Max.Wind.SpeedMPH        </td><td>22   </td><td>24       </td><td>29   </td><td>25   </td><td>22   </td><td>22   </td><td>...</td><td>18   </td><td>20   </td><td>13      </td><td>28   </td><td>18   </td><td>17   </td><td>22   </td><td>15   </td><td>16   </td><td>17   </td></tr>\n",
       "\t<tr><th scope=row>17</th><td>17</td><td>2014</td><td>12</td><td>Mean.Wind.SpeedMPH       </td><td>13   </td><td>15       </td><td>12   </td><td>12   </td><td>10   </td><td>8    </td><td>...</td><td>8    </td><td>13   </td><td>6       </td><td>14   </td><td>11   </td><td>9    </td><td>14   </td><td>9    </td><td>10   </td><td>9    </td></tr>\n",
       "\t<tr><th scope=row>18</th><td>18</td><td>2014</td><td>12</td><td>Max.Gust.SpeedMPH        </td><td>29   </td><td>29       </td><td>38   </td><td>33   </td><td>26   </td><td>25   </td><td>...</td><td>22   </td><td>25   </td><td>15      </td><td>40   </td><td>25   </td><td>21   </td><td>31   </td><td>22   </td><td>21   </td><td>22   </td></tr>\n",
       "\t<tr><th scope=row>19</th><td>19</td><td>2014</td><td>12</td><td>PrecipitationIn          </td><td>0.01 </td><td>0.10     </td><td>0.44 </td><td>0.00 </td><td>0.11 </td><td>1.09 </td><td>...</td><td>0.05 </td><td>0.25 </td><td>0.56    </td><td>0.14 </td><td>0.00 </td><td>0.00 </td><td>0.01 </td><td>0.00 </td><td>0.00 </td><td>0.00 </td></tr>\n",
       "\t<tr><th scope=row>20</th><td>20</td><td>2014</td><td>12</td><td>CloudCover               </td><td>6    </td><td>7        </td><td>8    </td><td>3    </td><td>5    </td><td>8    </td><td>...</td><td>7    </td><td>8    </td><td>8       </td><td>6    </td><td>1    </td><td>3    </td><td>8    </td><td>4    </td><td>2    </td><td>1    </td></tr>\n",
       "\t<tr><th scope=row>21</th><td>21</td><td>2014</td><td>12</td><td>Events                   </td><td>Rain </td><td>Rain-Snow</td><td>Rain </td><td>     </td><td>Rain </td><td>Rain </td><td>...</td><td>Rain </td><td>Rain </td><td>Fog-Rain</td><td>Rain </td><td>     </td><td>     </td><td>Rain </td><td>     </td><td>     </td><td>     </td></tr>\n",
       "\t<tr><th scope=row>22</th><td>22</td><td>2014</td><td>12</td><td>WindDirDegrees           </td><td>268  </td><td>62       </td><td>254  </td><td>292  </td><td>61   </td><td>313  </td><td>...</td><td>24   </td><td>63   </td><td>12      </td><td>250  </td><td>255  </td><td>251  </td><td>252  </td><td>288  </td><td>313  </td><td>269  </td></tr>\n",
       "\t<tr><th scope=row>23</th><td>23</td><td>2015</td><td> 1</td><td>Max.TemperatureF         </td><td>33   </td><td>41       </td><td>37   </td><td>52   </td><td>50   </td><td>18   </td><td>...</td><td>37   </td><td>37   </td><td>34      </td><td>38   </td><td>29   </td><td>19   </td><td>24   </td><td>32   </td><td>34   </td><td>21   </td></tr>\n",
       "\t<tr><th scope=row>24</th><td>24</td><td>2015</td><td> 1</td><td>Mean.TemperatureF        </td><td>28   </td><td>36       </td><td>30   </td><td>44   </td><td>34   </td><td>17   </td><td>...</td><td>33   </td><td>31   </td><td>33      </td><td>29   </td><td>20   </td><td>17   </td><td>19   </td><td>21   </td><td>27   </td><td>16   </td></tr>\n",
       "\t<tr><th scope=row>25</th><td>25</td><td>2015</td><td> 1</td><td>Min.TemperatureF         </td><td>22   </td><td>31       </td><td>22   </td><td>35   </td><td>17   </td><td>15   </td><td>...</td><td>29   </td><td>24   </td><td>31      </td><td>19   </td><td>11   </td><td>14   </td><td>13   </td><td>10   </td><td>19   </td><td>11   </td></tr>\n",
       "\t<tr><th scope=row>26</th><td>26</td><td>2015</td><td> 1</td><td>Max.Dew.PointF           </td><td>16   </td><td>17       </td><td>36   </td><td>50   </td><td>39   </td><td>11   </td><td>...</td><td>26   </td><td>20   </td><td>32      </td><td>28   </td><td>25   </td><td>14   </td><td>9    </td><td>22   </td><td>31   </td><td>7    </td></tr>\n",
       "\t<tr><th scope=row>27</th><td>27</td><td>2015</td><td> 1</td><td>MeanDew.PointF           </td><td>8    </td><td>15       </td><td>20   </td><td>41   </td><td>13   </td><td>5    </td><td>...</td><td>22   </td><td>15   </td><td>29      </td><td>17   </td><td>15   </td><td>11   </td><td>6    </td><td>10   </td><td>26   </td><td>0    </td></tr>\n",
       "\t<tr><th scope=row>28</th><td>28</td><td>2015</td><td> 1</td><td>Min.DewpointF            </td><td>5    </td><td>11       </td><td>8    </td><td>34   </td><td>-6   </td><td>-5   </td><td>...</td><td>19   </td><td>9    </td><td>21      </td><td>4    </td><td>-2   </td><td>7    </td><td>0    </td><td>-2   </td><td>7    </td><td>-8   </td></tr>\n",
       "\t<tr><th scope=row>29</th><td>29</td><td>2015</td><td> 1</td><td>Max.Humidity             </td><td>53   </td><td>53       </td><td>100  </td><td>100  </td><td>65   </td><td>80   </td><td>...</td><td>78   </td><td>68   </td><td>100     </td><td>78   </td><td>92   </td><td>92   </td><td>80   </td><td>75   </td><td>92   </td><td>83   </td></tr>\n",
       "\t<tr><th scope=row>30</th><td>30</td><td>2015</td><td> 1</td><td>Mean.Humidity            </td><td>43   </td><td>45       </td><td>72   </td><td>95   </td><td>47   </td><td>59   </td><td>...</td><td>67   </td><td>54   </td><td>82      </td><td>55   </td><td>71   </td><td>85   </td><td>63   </td><td>57   </td><td>78   </td><td>56   </td></tr>\n",
       "\t<tr><th scope=row>...</th><td>...</td><td>...</td><td>...</td><td>...</td><td>...</td><td>...</td><td>...</td><td>...</td><td>...</td><td>...</td><td></td><td>...</td><td>...</td><td>...</td><td>...</td><td>...</td><td>...</td><td>...</td><td>...</td><td>...</td><td>...</td></tr>\n",
       "\t<tr><th scope=row>257</th><td>257</td><td>2015</td><td>11</td><td>Min.VisibilityMiles      </td><td>10   </td><td>10  </td><td>10  </td><td>10  </td><td>5   </td><td>10  </td><td>...</td><td>5   </td><td>10  </td><td>10  </td><td>10  </td><td>5   </td><td>5   </td><td>4   </td><td>10  </td><td>10  </td><td>NA</td></tr>\n",
       "\t<tr><th scope=row>258</th><td>258</td><td>2015</td><td>11</td><td>Max.Wind.SpeedMPH        </td><td>22   </td><td>18  </td><td>16  </td><td>13  </td><td>22  </td><td>26  </td><td>...</td><td>20  </td><td>22  </td><td>15  </td><td>14  </td><td>22  </td><td>26  </td><td>18  </td><td>16  </td><td>14  </td><td>NA</td></tr>\n",
       "\t<tr><th scope=row>259</th><td>259</td><td>2015</td><td>11</td><td>Mean.Wind.SpeedMPH       </td><td>11   </td><td>7   </td><td>8   </td><td>7   </td><td>12  </td><td>15  </td><td>...</td><td>7   </td><td>13  </td><td>8   </td><td>6   </td><td>10  </td><td>14  </td><td>10  </td><td>10  </td><td>9   </td><td>NA</td></tr>\n",
       "\t<tr><th scope=row>260</th><td>260</td><td>2015</td><td>11</td><td>Max.Gust.SpeedMPH        </td><td>28   </td><td>23  </td><td>NA  </td><td>16  </td><td>31  </td><td>32  </td><td>...</td><td>25  </td><td>31  </td><td>22  </td><td>18  </td><td>28  </td><td>32  </td><td>23  </td><td>20  </td><td>17  </td><td>NA</td></tr>\n",
       "\t<tr><th scope=row>261</th><td>261</td><td>2015</td><td>11</td><td>PrecipitationIn          </td><td>T    </td><td>0.00</td><td>0.00</td><td>0.00</td><td>0.00</td><td>0.00</td><td>...</td><td>0.30</td><td>0.04</td><td>0.00</td><td>0.00</td><td>0.00</td><td>0.00</td><td>0.21</td><td>0.00</td><td>0.00</td><td>NA</td></tr>\n",
       "\t<tr><th scope=row>262</th><td>262</td><td>2015</td><td>11</td><td>CloudCover               </td><td>6    </td><td>2   </td><td>1   </td><td>0   </td><td>4   </td><td>4   </td><td>...</td><td>8   </td><td>3   </td><td>1   </td><td>1   </td><td>6   </td><td>7   </td><td>8   </td><td>4   </td><td>6   </td><td>NA</td></tr>\n",
       "\t<tr><th scope=row>263</th><td>263</td><td>2015</td><td>11</td><td>Events                   </td><td>Rain </td><td>    </td><td>    </td><td>    </td><td>    </td><td>    </td><td>...</td><td>Rain</td><td>Rain</td><td>    </td><td>    </td><td>    </td><td>    </td><td>Rain</td><td>    </td><td>    </td><td>NA</td></tr>\n",
       "\t<tr><th scope=row>264</th><td>264</td><td>2015</td><td>11</td><td>WindDirDegrees           </td><td>207  </td><td>251 </td><td>281 </td><td>129 </td><td>224 </td><td>222 </td><td>...</td><td>341 </td><td>316 </td><td>271 </td><td>83  </td><td>180 </td><td>209 </td><td>358 </td><td>326 </td><td>65  </td><td>NA</td></tr>\n",
       "\t<tr><th scope=row>265</th><td>265</td><td>2015</td><td>12</td><td>Max.TemperatureF         </td><td>45   </td><td>NA  </td><td>NA  </td><td>NA  </td><td>NA  </td><td>NA  </td><td>...</td><td>NA  </td><td>NA  </td><td>NA  </td><td>NA  </td><td>NA  </td><td>NA  </td><td>NA  </td><td>NA  </td><td>NA  </td><td>NA</td></tr>\n",
       "\t<tr><th scope=row>266</th><td>266</td><td>2015</td><td>12</td><td>Mean.TemperatureF        </td><td>39   </td><td>NA  </td><td>NA  </td><td>NA  </td><td>NA  </td><td>NA  </td><td>...</td><td>NA  </td><td>NA  </td><td>NA  </td><td>NA  </td><td>NA  </td><td>NA  </td><td>NA  </td><td>NA  </td><td>NA  </td><td>NA</td></tr>\n",
       "\t<tr><th scope=row>267</th><td>267</td><td>2015</td><td>12</td><td>Min.TemperatureF         </td><td>32   </td><td>NA  </td><td>NA  </td><td>NA  </td><td>NA  </td><td>NA  </td><td>...</td><td>NA  </td><td>NA  </td><td>NA  </td><td>NA  </td><td>NA  </td><td>NA  </td><td>NA  </td><td>NA  </td><td>NA  </td><td>NA</td></tr>\n",
       "\t<tr><th scope=row>268</th><td>268</td><td>2015</td><td>12</td><td>Max.Dew.PointF           </td><td>43   </td><td>NA  </td><td>NA  </td><td>NA  </td><td>NA  </td><td>NA  </td><td>...</td><td>NA  </td><td>NA  </td><td>NA  </td><td>NA  </td><td>NA  </td><td>NA  </td><td>NA  </td><td>NA  </td><td>NA  </td><td>NA</td></tr>\n",
       "\t<tr><th scope=row>269</th><td>269</td><td>2015</td><td>12</td><td>MeanDew.PointF           </td><td>35   </td><td>NA  </td><td>NA  </td><td>NA  </td><td>NA  </td><td>NA  </td><td>...</td><td>NA  </td><td>NA  </td><td>NA  </td><td>NA  </td><td>NA  </td><td>NA  </td><td>NA  </td><td>NA  </td><td>NA  </td><td>NA</td></tr>\n",
       "\t<tr><th scope=row>270</th><td>270</td><td>2015</td><td>12</td><td>Min.DewpointF            </td><td>25   </td><td>NA  </td><td>NA  </td><td>NA  </td><td>NA  </td><td>NA  </td><td>...</td><td>NA  </td><td>NA  </td><td>NA  </td><td>NA  </td><td>NA  </td><td>NA  </td><td>NA  </td><td>NA  </td><td>NA  </td><td>NA</td></tr>\n",
       "\t<tr><th scope=row>271</th><td>271</td><td>2015</td><td>12</td><td>Max.Humidity             </td><td>96   </td><td>NA  </td><td>NA  </td><td>NA  </td><td>NA  </td><td>NA  </td><td>...</td><td>NA  </td><td>NA  </td><td>NA  </td><td>NA  </td><td>NA  </td><td>NA  </td><td>NA  </td><td>NA  </td><td>NA  </td><td>NA</td></tr>\n",
       "\t<tr><th scope=row>272</th><td>272</td><td>2015</td><td>12</td><td>Mean.Humidity            </td><td>83   </td><td>NA  </td><td>NA  </td><td>NA  </td><td>NA  </td><td>NA  </td><td>...</td><td>NA  </td><td>NA  </td><td>NA  </td><td>NA  </td><td>NA  </td><td>NA  </td><td>NA  </td><td>NA  </td><td>NA  </td><td>NA</td></tr>\n",
       "\t<tr><th scope=row>273</th><td>273</td><td>2015</td><td>12</td><td>Min.Humidity             </td><td>69   </td><td>NA  </td><td>NA  </td><td>NA  </td><td>NA  </td><td>NA  </td><td>...</td><td>NA  </td><td>NA  </td><td>NA  </td><td>NA  </td><td>NA  </td><td>NA  </td><td>NA  </td><td>NA  </td><td>NA  </td><td>NA</td></tr>\n",
       "\t<tr><th scope=row>274</th><td>274</td><td>2015</td><td>12</td><td>Max.Sea.Level.PressureIn </td><td>30.4 </td><td>NA  </td><td>NA  </td><td>NA  </td><td>NA  </td><td>NA  </td><td>...</td><td>NA  </td><td>NA  </td><td>NA  </td><td>NA  </td><td>NA  </td><td>NA  </td><td>NA  </td><td>NA  </td><td>NA  </td><td>NA</td></tr>\n",
       "\t<tr><th scope=row>275</th><td>275</td><td>2015</td><td>12</td><td>Mean.Sea.Level.PressureIn</td><td>30.24</td><td>NA  </td><td>NA  </td><td>NA  </td><td>NA  </td><td>NA  </td><td>...</td><td>NA  </td><td>NA  </td><td>NA  </td><td>NA  </td><td>NA  </td><td>NA  </td><td>NA  </td><td>NA  </td><td>NA  </td><td>NA</td></tr>\n",
       "\t<tr><th scope=row>276</th><td>276</td><td>2015</td><td>12</td><td>Min.Sea.Level.PressureIn </td><td>30.01</td><td>NA  </td><td>NA  </td><td>NA  </td><td>NA  </td><td>NA  </td><td>...</td><td>NA  </td><td>NA  </td><td>NA  </td><td>NA  </td><td>NA  </td><td>NA  </td><td>NA  </td><td>NA  </td><td>NA  </td><td>NA</td></tr>\n",
       "\t<tr><th scope=row>277</th><td>277</td><td>2015</td><td>12</td><td>Max.VisibilityMiles      </td><td>10   </td><td>NA  </td><td>NA  </td><td>NA  </td><td>NA  </td><td>NA  </td><td>...</td><td>NA  </td><td>NA  </td><td>NA  </td><td>NA  </td><td>NA  </td><td>NA  </td><td>NA  </td><td>NA  </td><td>NA  </td><td>NA</td></tr>\n",
       "\t<tr><th scope=row>278</th><td>278</td><td>2015</td><td>12</td><td>Mean.VisibilityMiles     </td><td>8    </td><td>NA  </td><td>NA  </td><td>NA  </td><td>NA  </td><td>NA  </td><td>...</td><td>NA  </td><td>NA  </td><td>NA  </td><td>NA  </td><td>NA  </td><td>NA  </td><td>NA  </td><td>NA  </td><td>NA  </td><td>NA</td></tr>\n",
       "\t<tr><th scope=row>279</th><td>279</td><td>2015</td><td>12</td><td>Min.VisibilityMiles      </td><td>1    </td><td>NA  </td><td>NA  </td><td>NA  </td><td>NA  </td><td>NA  </td><td>...</td><td>NA  </td><td>NA  </td><td>NA  </td><td>NA  </td><td>NA  </td><td>NA  </td><td>NA  </td><td>NA  </td><td>NA  </td><td>NA</td></tr>\n",
       "\t<tr><th scope=row>280</th><td>280</td><td>2015</td><td>12</td><td>Max.Wind.SpeedMPH        </td><td>15   </td><td>NA  </td><td>NA  </td><td>NA  </td><td>NA  </td><td>NA  </td><td>...</td><td>NA  </td><td>NA  </td><td>NA  </td><td>NA  </td><td>NA  </td><td>NA  </td><td>NA  </td><td>NA  </td><td>NA  </td><td>NA</td></tr>\n",
       "\t<tr><th scope=row>281</th><td>281</td><td>2015</td><td>12</td><td>Mean.Wind.SpeedMPH       </td><td>6    </td><td>NA  </td><td>NA  </td><td>NA  </td><td>NA  </td><td>NA  </td><td>...</td><td>NA  </td><td>NA  </td><td>NA  </td><td>NA  </td><td>NA  </td><td>NA  </td><td>NA  </td><td>NA  </td><td>NA  </td><td>NA</td></tr>\n",
       "\t<tr><th scope=row>282</th><td>282</td><td>2015</td><td>12</td><td>Max.Gust.SpeedMPH        </td><td>17   </td><td>NA  </td><td>NA  </td><td>NA  </td><td>NA  </td><td>NA  </td><td>...</td><td>NA  </td><td>NA  </td><td>NA  </td><td>NA  </td><td>NA  </td><td>NA  </td><td>NA  </td><td>NA  </td><td>NA  </td><td>NA</td></tr>\n",
       "\t<tr><th scope=row>283</th><td>283</td><td>2015</td><td>12</td><td>PrecipitationIn          </td><td>0.14 </td><td>NA  </td><td>NA  </td><td>NA  </td><td>NA  </td><td>NA  </td><td>...</td><td>NA  </td><td>NA  </td><td>NA  </td><td>NA  </td><td>NA  </td><td>NA  </td><td>NA  </td><td>NA  </td><td>NA  </td><td>NA</td></tr>\n",
       "\t<tr><th scope=row>284</th><td>284</td><td>2015</td><td>12</td><td>CloudCover               </td><td>7    </td><td>NA  </td><td>NA  </td><td>NA  </td><td>NA  </td><td>NA  </td><td>...</td><td>NA  </td><td>NA  </td><td>NA  </td><td>NA  </td><td>NA  </td><td>NA  </td><td>NA  </td><td>NA  </td><td>NA  </td><td>NA</td></tr>\n",
       "\t<tr><th scope=row>285</th><td>285</td><td>2015</td><td>12</td><td>Events                   </td><td>Rain </td><td>NA  </td><td>NA  </td><td>NA  </td><td>NA  </td><td>NA  </td><td>...</td><td>NA  </td><td>NA  </td><td>NA  </td><td>NA  </td><td>NA  </td><td>NA  </td><td>NA  </td><td>NA  </td><td>NA  </td><td>NA</td></tr>\n",
       "\t<tr><th scope=row>286</th><td>286</td><td>2015</td><td>12</td><td>WindDirDegrees           </td><td>109  </td><td>NA  </td><td>NA  </td><td>NA  </td><td>NA  </td><td>NA  </td><td>...</td><td>NA  </td><td>NA  </td><td>NA  </td><td>NA  </td><td>NA  </td><td>NA  </td><td>NA  </td><td>NA  </td><td>NA  </td><td>NA</td></tr>\n",
       "</tbody>\n",
       "</table>\n"
      ],
      "text/latex": [
       "A data.frame: 286 × 35\n",
       "\\begin{tabular}{r|lllllllllllllllllllll}\n",
       "  & X & year & month & measure & X1 & X2 & X3 & X4 & X5 & X6 & ... & X22 & X23 & X24 & X25 & X26 & X27 & X28 & X29 & X30 & X31\\\\\n",
       "  & <int> & <int> & <int> & <chr> & <chr> & <chr> & <chr> & <chr> & <chr> & <chr> & ... & <chr> & <chr> & <chr> & <chr> & <chr> & <chr> & <chr> & <chr> & <chr> & <chr>\\\\\n",
       "\\hline\n",
       "\t1 &  1 & 2014 & 12 & Max.TemperatureF          & 64    & 42        & 51    & 43    & 42    & 45    & ... & 44    & 47    & 46       & 59    & 50    & 52    & 52    & 41    & 30    & 30   \\\\\n",
       "\t2 &  2 & 2014 & 12 & Mean.TemperatureF         & 52    & 38        & 44    & 37    & 34    & 42    & ... & 39    & 45    & 44       & 52    & 44    & 45    & 46    & 36    & 26    & 25   \\\\\n",
       "\t3 &  3 & 2014 & 12 & Min.TemperatureF          & 39    & 33        & 37    & 30    & 26    & 38    & ... & 33    & 42    & 41       & 44    & 37    & 38    & 40    & 30    & 22    & 20   \\\\\n",
       "\t4 &  4 & 2014 & 12 & Max.Dew.PointF            & 46    & 40        & 49    & 24    & 37    & 45    & ... & 39    & 45    & 46       & 58    & 31    & 34    & 42    & 26    & 10    & 8    \\\\\n",
       "\t5 &  5 & 2014 & 12 & MeanDew.PointF            & 40    & 27        & 42    & 21    & 25    & 40    & ... & 34    & 42    & 44       & 43    & 29    & 31    & 35    & 20    & 4     & 5    \\\\\n",
       "\t6 &  6 & 2014 & 12 & Min.DewpointF             & 26    & 17        & 24    & 13    & 12    & 36    & ... & 25    & 37    & 41       & 29    & 28    & 29    & 27    & 10    & -6    & 1    \\\\\n",
       "\t7 &  7 & 2014 & 12 & Max.Humidity              & 74    & 92        & 100   & 69    & 85    & 100   & ... & 89    & 100   & 100      & 100   & 70    & 70    & 76    & 64    & 50    & 57   \\\\\n",
       "\t8 &  8 & 2014 & 12 & Mean.Humidity             & 63    & 72        & 79    & 54    & 66    & 93    & ... & 79    & 91    & 98       & 75    & 60    & 60    & 65    & 51    & 38    & 44   \\\\\n",
       "\t9 &  9 & 2014 & 12 & Min.Humidity              & 52    & 51        & 57    & 39    & 47    & 85    & ... & 69    & 82    & 96       & 49    & 49    & 50    & 53    & 37    & 26    & 31   \\\\\n",
       "\t10 & 10 & 2014 & 12 & Max.Sea.Level.PressureIn  & 30.45 & 30.71     & 30.4  & 30.56 & 30.68 & 30.42 & ... & 30.4  & 30.31 & 30.13    & 29.96 & 30.16 & 30.22 & 29.99 & 30.22 & 30.36 & 30.32\\\\\n",
       "\t11 & 11 & 2014 & 12 & Mean.Sea.Level.PressureIn & 30.13 & 30.59     & 30.07 & 30.33 & 30.59 & 30.24 & ... & 30.35 & 30.23 & 29.9     & 29.63 & 30.11 & 30.14 & 29.87 & 30.12 & 30.32 & 30.25\\\\\n",
       "\t12 & 12 & 2014 & 12 & Min.Sea.Level.PressureIn  & 30.01 & 30.4      & 29.87 & 30.09 & 30.45 & 30.16 & ... & 30.3  & 30.16 & 29.55    & 29.47 & 29.99 & 30.03 & 29.77 & 30    & 30.23 & 30.13\\\\\n",
       "\t13 & 13 & 2014 & 12 & Max.VisibilityMiles       & 10    & 10        & 10    & 10    & 10    & 10    & ... & 10    & 10    & 2        & 10    & 10    & 10    & 10    & 10    & 10    & 10   \\\\\n",
       "\t14 & 14 & 2014 & 12 & Mean.VisibilityMiles      & 10    & 8         & 5     & 10    & 10    & 4     & ... & 10    & 5     & 1        & 8     & 10    & 10    & 10    & 10    & 10    & 10   \\\\\n",
       "\t15 & 15 & 2014 & 12 & Min.VisibilityMiles       & 10    & 2         & 1     & 10    & 5     & 0     & ... & 4     & 1     & 0        & 1     & 10    & 10    & 10    & 10    & 10    & 10   \\\\\n",
       "\t16 & 16 & 2014 & 12 & Max.Wind.SpeedMPH         & 22    & 24        & 29    & 25    & 22    & 22    & ... & 18    & 20    & 13       & 28    & 18    & 17    & 22    & 15    & 16    & 17   \\\\\n",
       "\t17 & 17 & 2014 & 12 & Mean.Wind.SpeedMPH        & 13    & 15        & 12    & 12    & 10    & 8     & ... & 8     & 13    & 6        & 14    & 11    & 9     & 14    & 9     & 10    & 9    \\\\\n",
       "\t18 & 18 & 2014 & 12 & Max.Gust.SpeedMPH         & 29    & 29        & 38    & 33    & 26    & 25    & ... & 22    & 25    & 15       & 40    & 25    & 21    & 31    & 22    & 21    & 22   \\\\\n",
       "\t19 & 19 & 2014 & 12 & PrecipitationIn           & 0.01  & 0.10      & 0.44  & 0.00  & 0.11  & 1.09  & ... & 0.05  & 0.25  & 0.56     & 0.14  & 0.00  & 0.00  & 0.01  & 0.00  & 0.00  & 0.00 \\\\\n",
       "\t20 & 20 & 2014 & 12 & CloudCover                & 6     & 7         & 8     & 3     & 5     & 8     & ... & 7     & 8     & 8        & 6     & 1     & 3     & 8     & 4     & 2     & 1    \\\\\n",
       "\t21 & 21 & 2014 & 12 & Events                    & Rain  & Rain-Snow & Rain  &       & Rain  & Rain  & ... & Rain  & Rain  & Fog-Rain & Rain  &       &       & Rain  &       &       &      \\\\\n",
       "\t22 & 22 & 2014 & 12 & WindDirDegrees            & 268   & 62        & 254   & 292   & 61    & 313   & ... & 24    & 63    & 12       & 250   & 255   & 251   & 252   & 288   & 313   & 269  \\\\\n",
       "\t23 & 23 & 2015 &  1 & Max.TemperatureF          & 33    & 41        & 37    & 52    & 50    & 18    & ... & 37    & 37    & 34       & 38    & 29    & 19    & 24    & 32    & 34    & 21   \\\\\n",
       "\t24 & 24 & 2015 &  1 & Mean.TemperatureF         & 28    & 36        & 30    & 44    & 34    & 17    & ... & 33    & 31    & 33       & 29    & 20    & 17    & 19    & 21    & 27    & 16   \\\\\n",
       "\t25 & 25 & 2015 &  1 & Min.TemperatureF          & 22    & 31        & 22    & 35    & 17    & 15    & ... & 29    & 24    & 31       & 19    & 11    & 14    & 13    & 10    & 19    & 11   \\\\\n",
       "\t26 & 26 & 2015 &  1 & Max.Dew.PointF            & 16    & 17        & 36    & 50    & 39    & 11    & ... & 26    & 20    & 32       & 28    & 25    & 14    & 9     & 22    & 31    & 7    \\\\\n",
       "\t27 & 27 & 2015 &  1 & MeanDew.PointF            & 8     & 15        & 20    & 41    & 13    & 5     & ... & 22    & 15    & 29       & 17    & 15    & 11    & 6     & 10    & 26    & 0    \\\\\n",
       "\t28 & 28 & 2015 &  1 & Min.DewpointF             & 5     & 11        & 8     & 34    & -6    & -5    & ... & 19    & 9     & 21       & 4     & -2    & 7     & 0     & -2    & 7     & -8   \\\\\n",
       "\t29 & 29 & 2015 &  1 & Max.Humidity              & 53    & 53        & 100   & 100   & 65    & 80    & ... & 78    & 68    & 100      & 78    & 92    & 92    & 80    & 75    & 92    & 83   \\\\\n",
       "\t30 & 30 & 2015 &  1 & Mean.Humidity             & 43    & 45        & 72    & 95    & 47    & 59    & ... & 67    & 54    & 82       & 55    & 71    & 85    & 63    & 57    & 78    & 56   \\\\\n",
       "\t... & ... & ... & ... & ... & ... & ... & ... & ... & ... & ... &  & ... & ... & ... & ... & ... & ... & ... & ... & ... & ...\\\\\n",
       "\t257 & 257 & 2015 & 11 & Min.VisibilityMiles       & 10    & 10   & 10   & 10   & 5    & 10   & ... & 5    & 10   & 10   & 10   & 5    & 5    & 4    & 10   & 10   & NA\\\\\n",
       "\t258 & 258 & 2015 & 11 & Max.Wind.SpeedMPH         & 22    & 18   & 16   & 13   & 22   & 26   & ... & 20   & 22   & 15   & 14   & 22   & 26   & 18   & 16   & 14   & NA\\\\\n",
       "\t259 & 259 & 2015 & 11 & Mean.Wind.SpeedMPH        & 11    & 7    & 8    & 7    & 12   & 15   & ... & 7    & 13   & 8    & 6    & 10   & 14   & 10   & 10   & 9    & NA\\\\\n",
       "\t260 & 260 & 2015 & 11 & Max.Gust.SpeedMPH         & 28    & 23   & NA   & 16   & 31   & 32   & ... & 25   & 31   & 22   & 18   & 28   & 32   & 23   & 20   & 17   & NA\\\\\n",
       "\t261 & 261 & 2015 & 11 & PrecipitationIn           & T     & 0.00 & 0.00 & 0.00 & 0.00 & 0.00 & ... & 0.30 & 0.04 & 0.00 & 0.00 & 0.00 & 0.00 & 0.21 & 0.00 & 0.00 & NA\\\\\n",
       "\t262 & 262 & 2015 & 11 & CloudCover                & 6     & 2    & 1    & 0    & 4    & 4    & ... & 8    & 3    & 1    & 1    & 6    & 7    & 8    & 4    & 6    & NA\\\\\n",
       "\t263 & 263 & 2015 & 11 & Events                    & Rain  &      &      &      &      &      & ... & Rain & Rain &      &      &      &      & Rain &      &      & NA\\\\\n",
       "\t264 & 264 & 2015 & 11 & WindDirDegrees            & 207   & 251  & 281  & 129  & 224  & 222  & ... & 341  & 316  & 271  & 83   & 180  & 209  & 358  & 326  & 65   & NA\\\\\n",
       "\t265 & 265 & 2015 & 12 & Max.TemperatureF          & 45    & NA   & NA   & NA   & NA   & NA   & ... & NA   & NA   & NA   & NA   & NA   & NA   & NA   & NA   & NA   & NA\\\\\n",
       "\t266 & 266 & 2015 & 12 & Mean.TemperatureF         & 39    & NA   & NA   & NA   & NA   & NA   & ... & NA   & NA   & NA   & NA   & NA   & NA   & NA   & NA   & NA   & NA\\\\\n",
       "\t267 & 267 & 2015 & 12 & Min.TemperatureF          & 32    & NA   & NA   & NA   & NA   & NA   & ... & NA   & NA   & NA   & NA   & NA   & NA   & NA   & NA   & NA   & NA\\\\\n",
       "\t268 & 268 & 2015 & 12 & Max.Dew.PointF            & 43    & NA   & NA   & NA   & NA   & NA   & ... & NA   & NA   & NA   & NA   & NA   & NA   & NA   & NA   & NA   & NA\\\\\n",
       "\t269 & 269 & 2015 & 12 & MeanDew.PointF            & 35    & NA   & NA   & NA   & NA   & NA   & ... & NA   & NA   & NA   & NA   & NA   & NA   & NA   & NA   & NA   & NA\\\\\n",
       "\t270 & 270 & 2015 & 12 & Min.DewpointF             & 25    & NA   & NA   & NA   & NA   & NA   & ... & NA   & NA   & NA   & NA   & NA   & NA   & NA   & NA   & NA   & NA\\\\\n",
       "\t271 & 271 & 2015 & 12 & Max.Humidity              & 96    & NA   & NA   & NA   & NA   & NA   & ... & NA   & NA   & NA   & NA   & NA   & NA   & NA   & NA   & NA   & NA\\\\\n",
       "\t272 & 272 & 2015 & 12 & Mean.Humidity             & 83    & NA   & NA   & NA   & NA   & NA   & ... & NA   & NA   & NA   & NA   & NA   & NA   & NA   & NA   & NA   & NA\\\\\n",
       "\t273 & 273 & 2015 & 12 & Min.Humidity              & 69    & NA   & NA   & NA   & NA   & NA   & ... & NA   & NA   & NA   & NA   & NA   & NA   & NA   & NA   & NA   & NA\\\\\n",
       "\t274 & 274 & 2015 & 12 & Max.Sea.Level.PressureIn  & 30.4  & NA   & NA   & NA   & NA   & NA   & ... & NA   & NA   & NA   & NA   & NA   & NA   & NA   & NA   & NA   & NA\\\\\n",
       "\t275 & 275 & 2015 & 12 & Mean.Sea.Level.PressureIn & 30.24 & NA   & NA   & NA   & NA   & NA   & ... & NA   & NA   & NA   & NA   & NA   & NA   & NA   & NA   & NA   & NA\\\\\n",
       "\t276 & 276 & 2015 & 12 & Min.Sea.Level.PressureIn  & 30.01 & NA   & NA   & NA   & NA   & NA   & ... & NA   & NA   & NA   & NA   & NA   & NA   & NA   & NA   & NA   & NA\\\\\n",
       "\t277 & 277 & 2015 & 12 & Max.VisibilityMiles       & 10    & NA   & NA   & NA   & NA   & NA   & ... & NA   & NA   & NA   & NA   & NA   & NA   & NA   & NA   & NA   & NA\\\\\n",
       "\t278 & 278 & 2015 & 12 & Mean.VisibilityMiles      & 8     & NA   & NA   & NA   & NA   & NA   & ... & NA   & NA   & NA   & NA   & NA   & NA   & NA   & NA   & NA   & NA\\\\\n",
       "\t279 & 279 & 2015 & 12 & Min.VisibilityMiles       & 1     & NA   & NA   & NA   & NA   & NA   & ... & NA   & NA   & NA   & NA   & NA   & NA   & NA   & NA   & NA   & NA\\\\\n",
       "\t280 & 280 & 2015 & 12 & Max.Wind.SpeedMPH         & 15    & NA   & NA   & NA   & NA   & NA   & ... & NA   & NA   & NA   & NA   & NA   & NA   & NA   & NA   & NA   & NA\\\\\n",
       "\t281 & 281 & 2015 & 12 & Mean.Wind.SpeedMPH        & 6     & NA   & NA   & NA   & NA   & NA   & ... & NA   & NA   & NA   & NA   & NA   & NA   & NA   & NA   & NA   & NA\\\\\n",
       "\t282 & 282 & 2015 & 12 & Max.Gust.SpeedMPH         & 17    & NA   & NA   & NA   & NA   & NA   & ... & NA   & NA   & NA   & NA   & NA   & NA   & NA   & NA   & NA   & NA\\\\\n",
       "\t283 & 283 & 2015 & 12 & PrecipitationIn           & 0.14  & NA   & NA   & NA   & NA   & NA   & ... & NA   & NA   & NA   & NA   & NA   & NA   & NA   & NA   & NA   & NA\\\\\n",
       "\t284 & 284 & 2015 & 12 & CloudCover                & 7     & NA   & NA   & NA   & NA   & NA   & ... & NA   & NA   & NA   & NA   & NA   & NA   & NA   & NA   & NA   & NA\\\\\n",
       "\t285 & 285 & 2015 & 12 & Events                    & Rain  & NA   & NA   & NA   & NA   & NA   & ... & NA   & NA   & NA   & NA   & NA   & NA   & NA   & NA   & NA   & NA\\\\\n",
       "\t286 & 286 & 2015 & 12 & WindDirDegrees            & 109   & NA   & NA   & NA   & NA   & NA   & ... & NA   & NA   & NA   & NA   & NA   & NA   & NA   & NA   & NA   & NA\\\\\n",
       "\\end{tabular}\n"
      ],
      "text/markdown": [
       "\n",
       "A data.frame: 286 × 35\n",
       "\n",
       "| <!--/--> | X &lt;int&gt; | year &lt;int&gt; | month &lt;int&gt; | measure &lt;chr&gt; | X1 &lt;chr&gt; | X2 &lt;chr&gt; | X3 &lt;chr&gt; | X4 &lt;chr&gt; | X5 &lt;chr&gt; | X6 &lt;chr&gt; | ... ... | X22 &lt;chr&gt; | X23 &lt;chr&gt; | X24 &lt;chr&gt; | X25 &lt;chr&gt; | X26 &lt;chr&gt; | X27 &lt;chr&gt; | X28 &lt;chr&gt; | X29 &lt;chr&gt; | X30 &lt;chr&gt; | X31 &lt;chr&gt; |\n",
       "|---|---|---|---|---|---|---|---|---|---|---|---|---|---|---|---|---|---|---|---|---|---|\n",
       "| 1 |  1 | 2014 | 12 | Max.TemperatureF          | 64    | 42        | 51    | 43    | 42    | 45    | ... | 44    | 47    | 46       | 59    | 50    | 52    | 52    | 41    | 30    | 30    |\n",
       "| 2 |  2 | 2014 | 12 | Mean.TemperatureF         | 52    | 38        | 44    | 37    | 34    | 42    | ... | 39    | 45    | 44       | 52    | 44    | 45    | 46    | 36    | 26    | 25    |\n",
       "| 3 |  3 | 2014 | 12 | Min.TemperatureF          | 39    | 33        | 37    | 30    | 26    | 38    | ... | 33    | 42    | 41       | 44    | 37    | 38    | 40    | 30    | 22    | 20    |\n",
       "| 4 |  4 | 2014 | 12 | Max.Dew.PointF            | 46    | 40        | 49    | 24    | 37    | 45    | ... | 39    | 45    | 46       | 58    | 31    | 34    | 42    | 26    | 10    | 8     |\n",
       "| 5 |  5 | 2014 | 12 | MeanDew.PointF            | 40    | 27        | 42    | 21    | 25    | 40    | ... | 34    | 42    | 44       | 43    | 29    | 31    | 35    | 20    | 4     | 5     |\n",
       "| 6 |  6 | 2014 | 12 | Min.DewpointF             | 26    | 17        | 24    | 13    | 12    | 36    | ... | 25    | 37    | 41       | 29    | 28    | 29    | 27    | 10    | -6    | 1     |\n",
       "| 7 |  7 | 2014 | 12 | Max.Humidity              | 74    | 92        | 100   | 69    | 85    | 100   | ... | 89    | 100   | 100      | 100   | 70    | 70    | 76    | 64    | 50    | 57    |\n",
       "| 8 |  8 | 2014 | 12 | Mean.Humidity             | 63    | 72        | 79    | 54    | 66    | 93    | ... | 79    | 91    | 98       | 75    | 60    | 60    | 65    | 51    | 38    | 44    |\n",
       "| 9 |  9 | 2014 | 12 | Min.Humidity              | 52    | 51        | 57    | 39    | 47    | 85    | ... | 69    | 82    | 96       | 49    | 49    | 50    | 53    | 37    | 26    | 31    |\n",
       "| 10 | 10 | 2014 | 12 | Max.Sea.Level.PressureIn  | 30.45 | 30.71     | 30.4  | 30.56 | 30.68 | 30.42 | ... | 30.4  | 30.31 | 30.13    | 29.96 | 30.16 | 30.22 | 29.99 | 30.22 | 30.36 | 30.32 |\n",
       "| 11 | 11 | 2014 | 12 | Mean.Sea.Level.PressureIn | 30.13 | 30.59     | 30.07 | 30.33 | 30.59 | 30.24 | ... | 30.35 | 30.23 | 29.9     | 29.63 | 30.11 | 30.14 | 29.87 | 30.12 | 30.32 | 30.25 |\n",
       "| 12 | 12 | 2014 | 12 | Min.Sea.Level.PressureIn  | 30.01 | 30.4      | 29.87 | 30.09 | 30.45 | 30.16 | ... | 30.3  | 30.16 | 29.55    | 29.47 | 29.99 | 30.03 | 29.77 | 30    | 30.23 | 30.13 |\n",
       "| 13 | 13 | 2014 | 12 | Max.VisibilityMiles       | 10    | 10        | 10    | 10    | 10    | 10    | ... | 10    | 10    | 2        | 10    | 10    | 10    | 10    | 10    | 10    | 10    |\n",
       "| 14 | 14 | 2014 | 12 | Mean.VisibilityMiles      | 10    | 8         | 5     | 10    | 10    | 4     | ... | 10    | 5     | 1        | 8     | 10    | 10    | 10    | 10    | 10    | 10    |\n",
       "| 15 | 15 | 2014 | 12 | Min.VisibilityMiles       | 10    | 2         | 1     | 10    | 5     | 0     | ... | 4     | 1     | 0        | 1     | 10    | 10    | 10    | 10    | 10    | 10    |\n",
       "| 16 | 16 | 2014 | 12 | Max.Wind.SpeedMPH         | 22    | 24        | 29    | 25    | 22    | 22    | ... | 18    | 20    | 13       | 28    | 18    | 17    | 22    | 15    | 16    | 17    |\n",
       "| 17 | 17 | 2014 | 12 | Mean.Wind.SpeedMPH        | 13    | 15        | 12    | 12    | 10    | 8     | ... | 8     | 13    | 6        | 14    | 11    | 9     | 14    | 9     | 10    | 9     |\n",
       "| 18 | 18 | 2014 | 12 | Max.Gust.SpeedMPH         | 29    | 29        | 38    | 33    | 26    | 25    | ... | 22    | 25    | 15       | 40    | 25    | 21    | 31    | 22    | 21    | 22    |\n",
       "| 19 | 19 | 2014 | 12 | PrecipitationIn           | 0.01  | 0.10      | 0.44  | 0.00  | 0.11  | 1.09  | ... | 0.05  | 0.25  | 0.56     | 0.14  | 0.00  | 0.00  | 0.01  | 0.00  | 0.00  | 0.00  |\n",
       "| 20 | 20 | 2014 | 12 | CloudCover                | 6     | 7         | 8     | 3     | 5     | 8     | ... | 7     | 8     | 8        | 6     | 1     | 3     | 8     | 4     | 2     | 1     |\n",
       "| 21 | 21 | 2014 | 12 | Events                    | Rain  | Rain-Snow | Rain  | <!----> | Rain  | Rain  | ... | Rain  | Rain  | Fog-Rain | Rain  | <!----> | <!----> | Rain  | <!----> | <!----> | <!----> |\n",
       "| 22 | 22 | 2014 | 12 | WindDirDegrees            | 268   | 62        | 254   | 292   | 61    | 313   | ... | 24    | 63    | 12       | 250   | 255   | 251   | 252   | 288   | 313   | 269   |\n",
       "| 23 | 23 | 2015 |  1 | Max.TemperatureF          | 33    | 41        | 37    | 52    | 50    | 18    | ... | 37    | 37    | 34       | 38    | 29    | 19    | 24    | 32    | 34    | 21    |\n",
       "| 24 | 24 | 2015 |  1 | Mean.TemperatureF         | 28    | 36        | 30    | 44    | 34    | 17    | ... | 33    | 31    | 33       | 29    | 20    | 17    | 19    | 21    | 27    | 16    |\n",
       "| 25 | 25 | 2015 |  1 | Min.TemperatureF          | 22    | 31        | 22    | 35    | 17    | 15    | ... | 29    | 24    | 31       | 19    | 11    | 14    | 13    | 10    | 19    | 11    |\n",
       "| 26 | 26 | 2015 |  1 | Max.Dew.PointF            | 16    | 17        | 36    | 50    | 39    | 11    | ... | 26    | 20    | 32       | 28    | 25    | 14    | 9     | 22    | 31    | 7     |\n",
       "| 27 | 27 | 2015 |  1 | MeanDew.PointF            | 8     | 15        | 20    | 41    | 13    | 5     | ... | 22    | 15    | 29       | 17    | 15    | 11    | 6     | 10    | 26    | 0     |\n",
       "| 28 | 28 | 2015 |  1 | Min.DewpointF             | 5     | 11        | 8     | 34    | -6    | -5    | ... | 19    | 9     | 21       | 4     | -2    | 7     | 0     | -2    | 7     | -8    |\n",
       "| 29 | 29 | 2015 |  1 | Max.Humidity              | 53    | 53        | 100   | 100   | 65    | 80    | ... | 78    | 68    | 100      | 78    | 92    | 92    | 80    | 75    | 92    | 83    |\n",
       "| 30 | 30 | 2015 |  1 | Mean.Humidity             | 43    | 45        | 72    | 95    | 47    | 59    | ... | 67    | 54    | 82       | 55    | 71    | 85    | 63    | 57    | 78    | 56    |\n",
       "| ... | ... | ... | ... | ... | ... | ... | ... | ... | ... | ... | <!----> | ... | ... | ... | ... | ... | ... | ... | ... | ... | ... |\n",
       "| 257 | 257 | 2015 | 11 | Min.VisibilityMiles       | 10    | 10   | 10   | 10   | 5    | 10   | ... | 5    | 10   | 10   | 10   | 5    | 5    | 4    | 10   | 10   | NA |\n",
       "| 258 | 258 | 2015 | 11 | Max.Wind.SpeedMPH         | 22    | 18   | 16   | 13   | 22   | 26   | ... | 20   | 22   | 15   | 14   | 22   | 26   | 18   | 16   | 14   | NA |\n",
       "| 259 | 259 | 2015 | 11 | Mean.Wind.SpeedMPH        | 11    | 7    | 8    | 7    | 12   | 15   | ... | 7    | 13   | 8    | 6    | 10   | 14   | 10   | 10   | 9    | NA |\n",
       "| 260 | 260 | 2015 | 11 | Max.Gust.SpeedMPH         | 28    | 23   | NA   | 16   | 31   | 32   | ... | 25   | 31   | 22   | 18   | 28   | 32   | 23   | 20   | 17   | NA |\n",
       "| 261 | 261 | 2015 | 11 | PrecipitationIn           | T     | 0.00 | 0.00 | 0.00 | 0.00 | 0.00 | ... | 0.30 | 0.04 | 0.00 | 0.00 | 0.00 | 0.00 | 0.21 | 0.00 | 0.00 | NA |\n",
       "| 262 | 262 | 2015 | 11 | CloudCover                | 6     | 2    | 1    | 0    | 4    | 4    | ... | 8    | 3    | 1    | 1    | 6    | 7    | 8    | 4    | 6    | NA |\n",
       "| 263 | 263 | 2015 | 11 | Events                    | Rain  | <!----> | <!----> | <!----> | <!----> | <!----> | ... | Rain | Rain | <!----> | <!----> | <!----> | <!----> | Rain | <!----> | <!----> | NA |\n",
       "| 264 | 264 | 2015 | 11 | WindDirDegrees            | 207   | 251  | 281  | 129  | 224  | 222  | ... | 341  | 316  | 271  | 83   | 180  | 209  | 358  | 326  | 65   | NA |\n",
       "| 265 | 265 | 2015 | 12 | Max.TemperatureF          | 45    | NA   | NA   | NA   | NA   | NA   | ... | NA   | NA   | NA   | NA   | NA   | NA   | NA   | NA   | NA   | NA |\n",
       "| 266 | 266 | 2015 | 12 | Mean.TemperatureF         | 39    | NA   | NA   | NA   | NA   | NA   | ... | NA   | NA   | NA   | NA   | NA   | NA   | NA   | NA   | NA   | NA |\n",
       "| 267 | 267 | 2015 | 12 | Min.TemperatureF          | 32    | NA   | NA   | NA   | NA   | NA   | ... | NA   | NA   | NA   | NA   | NA   | NA   | NA   | NA   | NA   | NA |\n",
       "| 268 | 268 | 2015 | 12 | Max.Dew.PointF            | 43    | NA   | NA   | NA   | NA   | NA   | ... | NA   | NA   | NA   | NA   | NA   | NA   | NA   | NA   | NA   | NA |\n",
       "| 269 | 269 | 2015 | 12 | MeanDew.PointF            | 35    | NA   | NA   | NA   | NA   | NA   | ... | NA   | NA   | NA   | NA   | NA   | NA   | NA   | NA   | NA   | NA |\n",
       "| 270 | 270 | 2015 | 12 | Min.DewpointF             | 25    | NA   | NA   | NA   | NA   | NA   | ... | NA   | NA   | NA   | NA   | NA   | NA   | NA   | NA   | NA   | NA |\n",
       "| 271 | 271 | 2015 | 12 | Max.Humidity              | 96    | NA   | NA   | NA   | NA   | NA   | ... | NA   | NA   | NA   | NA   | NA   | NA   | NA   | NA   | NA   | NA |\n",
       "| 272 | 272 | 2015 | 12 | Mean.Humidity             | 83    | NA   | NA   | NA   | NA   | NA   | ... | NA   | NA   | NA   | NA   | NA   | NA   | NA   | NA   | NA   | NA |\n",
       "| 273 | 273 | 2015 | 12 | Min.Humidity              | 69    | NA   | NA   | NA   | NA   | NA   | ... | NA   | NA   | NA   | NA   | NA   | NA   | NA   | NA   | NA   | NA |\n",
       "| 274 | 274 | 2015 | 12 | Max.Sea.Level.PressureIn  | 30.4  | NA   | NA   | NA   | NA   | NA   | ... | NA   | NA   | NA   | NA   | NA   | NA   | NA   | NA   | NA   | NA |\n",
       "| 275 | 275 | 2015 | 12 | Mean.Sea.Level.PressureIn | 30.24 | NA   | NA   | NA   | NA   | NA   | ... | NA   | NA   | NA   | NA   | NA   | NA   | NA   | NA   | NA   | NA |\n",
       "| 276 | 276 | 2015 | 12 | Min.Sea.Level.PressureIn  | 30.01 | NA   | NA   | NA   | NA   | NA   | ... | NA   | NA   | NA   | NA   | NA   | NA   | NA   | NA   | NA   | NA |\n",
       "| 277 | 277 | 2015 | 12 | Max.VisibilityMiles       | 10    | NA   | NA   | NA   | NA   | NA   | ... | NA   | NA   | NA   | NA   | NA   | NA   | NA   | NA   | NA   | NA |\n",
       "| 278 | 278 | 2015 | 12 | Mean.VisibilityMiles      | 8     | NA   | NA   | NA   | NA   | NA   | ... | NA   | NA   | NA   | NA   | NA   | NA   | NA   | NA   | NA   | NA |\n",
       "| 279 | 279 | 2015 | 12 | Min.VisibilityMiles       | 1     | NA   | NA   | NA   | NA   | NA   | ... | NA   | NA   | NA   | NA   | NA   | NA   | NA   | NA   | NA   | NA |\n",
       "| 280 | 280 | 2015 | 12 | Max.Wind.SpeedMPH         | 15    | NA   | NA   | NA   | NA   | NA   | ... | NA   | NA   | NA   | NA   | NA   | NA   | NA   | NA   | NA   | NA |\n",
       "| 281 | 281 | 2015 | 12 | Mean.Wind.SpeedMPH        | 6     | NA   | NA   | NA   | NA   | NA   | ... | NA   | NA   | NA   | NA   | NA   | NA   | NA   | NA   | NA   | NA |\n",
       "| 282 | 282 | 2015 | 12 | Max.Gust.SpeedMPH         | 17    | NA   | NA   | NA   | NA   | NA   | ... | NA   | NA   | NA   | NA   | NA   | NA   | NA   | NA   | NA   | NA |\n",
       "| 283 | 283 | 2015 | 12 | PrecipitationIn           | 0.14  | NA   | NA   | NA   | NA   | NA   | ... | NA   | NA   | NA   | NA   | NA   | NA   | NA   | NA   | NA   | NA |\n",
       "| 284 | 284 | 2015 | 12 | CloudCover                | 7     | NA   | NA   | NA   | NA   | NA   | ... | NA   | NA   | NA   | NA   | NA   | NA   | NA   | NA   | NA   | NA |\n",
       "| 285 | 285 | 2015 | 12 | Events                    | Rain  | NA   | NA   | NA   | NA   | NA   | ... | NA   | NA   | NA   | NA   | NA   | NA   | NA   | NA   | NA   | NA |\n",
       "| 286 | 286 | 2015 | 12 | WindDirDegrees            | 109   | NA   | NA   | NA   | NA   | NA   | ... | NA   | NA   | NA   | NA   | NA   | NA   | NA   | NA   | NA   | NA |\n",
       "\n"
      ],
      "text/plain": [
       "    X   year month measure                   X1    X2        X3    X4    X5   \n",
       "1    1  2014 12    Max.TemperatureF          64    42        51    43    42   \n",
       "2    2  2014 12    Mean.TemperatureF         52    38        44    37    34   \n",
       "3    3  2014 12    Min.TemperatureF          39    33        37    30    26   \n",
       "4    4  2014 12    Max.Dew.PointF            46    40        49    24    37   \n",
       "5    5  2014 12    MeanDew.PointF            40    27        42    21    25   \n",
       "6    6  2014 12    Min.DewpointF             26    17        24    13    12   \n",
       "7    7  2014 12    Max.Humidity              74    92        100   69    85   \n",
       "8    8  2014 12    Mean.Humidity             63    72        79    54    66   \n",
       "9    9  2014 12    Min.Humidity              52    51        57    39    47   \n",
       "10  10  2014 12    Max.Sea.Level.PressureIn  30.45 30.71     30.4  30.56 30.68\n",
       "11  11  2014 12    Mean.Sea.Level.PressureIn 30.13 30.59     30.07 30.33 30.59\n",
       "12  12  2014 12    Min.Sea.Level.PressureIn  30.01 30.4      29.87 30.09 30.45\n",
       "13  13  2014 12    Max.VisibilityMiles       10    10        10    10    10   \n",
       "14  14  2014 12    Mean.VisibilityMiles      10    8         5     10    10   \n",
       "15  15  2014 12    Min.VisibilityMiles       10    2         1     10    5    \n",
       "16  16  2014 12    Max.Wind.SpeedMPH         22    24        29    25    22   \n",
       "17  17  2014 12    Mean.Wind.SpeedMPH        13    15        12    12    10   \n",
       "18  18  2014 12    Max.Gust.SpeedMPH         29    29        38    33    26   \n",
       "19  19  2014 12    PrecipitationIn           0.01  0.10      0.44  0.00  0.11 \n",
       "20  20  2014 12    CloudCover                6     7         8     3     5    \n",
       "21  21  2014 12    Events                    Rain  Rain-Snow Rain        Rain \n",
       "22  22  2014 12    WindDirDegrees            268   62        254   292   61   \n",
       "23  23  2015  1    Max.TemperatureF          33    41        37    52    50   \n",
       "24  24  2015  1    Mean.TemperatureF         28    36        30    44    34   \n",
       "25  25  2015  1    Min.TemperatureF          22    31        22    35    17   \n",
       "26  26  2015  1    Max.Dew.PointF            16    17        36    50    39   \n",
       "27  27  2015  1    MeanDew.PointF            8     15        20    41    13   \n",
       "28  28  2015  1    Min.DewpointF             5     11        8     34    -6   \n",
       "29  29  2015  1    Max.Humidity              53    53        100   100   65   \n",
       "30  30  2015  1    Mean.Humidity             43    45        72    95    47   \n",
       "... ... ...  ...   ...                       ...   ...       ...   ...   ...  \n",
       "257 257 2015 11    Min.VisibilityMiles       10    10        10    10    5    \n",
       "258 258 2015 11    Max.Wind.SpeedMPH         22    18        16    13    22   \n",
       "259 259 2015 11    Mean.Wind.SpeedMPH        11    7         8     7     12   \n",
       "260 260 2015 11    Max.Gust.SpeedMPH         28    23        NA    16    31   \n",
       "261 261 2015 11    PrecipitationIn           T     0.00      0.00  0.00  0.00 \n",
       "262 262 2015 11    CloudCover                6     2         1     0     4    \n",
       "263 263 2015 11    Events                    Rain                             \n",
       "264 264 2015 11    WindDirDegrees            207   251       281   129   224  \n",
       "265 265 2015 12    Max.TemperatureF          45    NA        NA    NA    NA   \n",
       "266 266 2015 12    Mean.TemperatureF         39    NA        NA    NA    NA   \n",
       "267 267 2015 12    Min.TemperatureF          32    NA        NA    NA    NA   \n",
       "268 268 2015 12    Max.Dew.PointF            43    NA        NA    NA    NA   \n",
       "269 269 2015 12    MeanDew.PointF            35    NA        NA    NA    NA   \n",
       "270 270 2015 12    Min.DewpointF             25    NA        NA    NA    NA   \n",
       "271 271 2015 12    Max.Humidity              96    NA        NA    NA    NA   \n",
       "272 272 2015 12    Mean.Humidity             83    NA        NA    NA    NA   \n",
       "273 273 2015 12    Min.Humidity              69    NA        NA    NA    NA   \n",
       "274 274 2015 12    Max.Sea.Level.PressureIn  30.4  NA        NA    NA    NA   \n",
       "275 275 2015 12    Mean.Sea.Level.PressureIn 30.24 NA        NA    NA    NA   \n",
       "276 276 2015 12    Min.Sea.Level.PressureIn  30.01 NA        NA    NA    NA   \n",
       "277 277 2015 12    Max.VisibilityMiles       10    NA        NA    NA    NA   \n",
       "278 278 2015 12    Mean.VisibilityMiles      8     NA        NA    NA    NA   \n",
       "279 279 2015 12    Min.VisibilityMiles       1     NA        NA    NA    NA   \n",
       "280 280 2015 12    Max.Wind.SpeedMPH         15    NA        NA    NA    NA   \n",
       "281 281 2015 12    Mean.Wind.SpeedMPH        6     NA        NA    NA    NA   \n",
       "282 282 2015 12    Max.Gust.SpeedMPH         17    NA        NA    NA    NA   \n",
       "283 283 2015 12    PrecipitationIn           0.14  NA        NA    NA    NA   \n",
       "284 284 2015 12    CloudCover                7     NA        NA    NA    NA   \n",
       "285 285 2015 12    Events                    Rain  NA        NA    NA    NA   \n",
       "286 286 2015 12    WindDirDegrees            109   NA        NA    NA    NA   \n",
       "    X6    ... X22   X23   X24      X25   X26   X27   X28   X29   X30   X31  \n",
       "1   45    ... 44    47    46       59    50    52    52    41    30    30   \n",
       "2   42    ... 39    45    44       52    44    45    46    36    26    25   \n",
       "3   38    ... 33    42    41       44    37    38    40    30    22    20   \n",
       "4   45    ... 39    45    46       58    31    34    42    26    10    8    \n",
       "5   40    ... 34    42    44       43    29    31    35    20    4     5    \n",
       "6   36    ... 25    37    41       29    28    29    27    10    -6    1    \n",
       "7   100   ... 89    100   100      100   70    70    76    64    50    57   \n",
       "8   93    ... 79    91    98       75    60    60    65    51    38    44   \n",
       "9   85    ... 69    82    96       49    49    50    53    37    26    31   \n",
       "10  30.42 ... 30.4  30.31 30.13    29.96 30.16 30.22 29.99 30.22 30.36 30.32\n",
       "11  30.24 ... 30.35 30.23 29.9     29.63 30.11 30.14 29.87 30.12 30.32 30.25\n",
       "12  30.16 ... 30.3  30.16 29.55    29.47 29.99 30.03 29.77 30    30.23 30.13\n",
       "13  10    ... 10    10    2        10    10    10    10    10    10    10   \n",
       "14  4     ... 10    5     1        8     10    10    10    10    10    10   \n",
       "15  0     ... 4     1     0        1     10    10    10    10    10    10   \n",
       "16  22    ... 18    20    13       28    18    17    22    15    16    17   \n",
       "17  8     ... 8     13    6        14    11    9     14    9     10    9    \n",
       "18  25    ... 22    25    15       40    25    21    31    22    21    22   \n",
       "19  1.09  ... 0.05  0.25  0.56     0.14  0.00  0.00  0.01  0.00  0.00  0.00 \n",
       "20  8     ... 7     8     8        6     1     3     8     4     2     1    \n",
       "21  Rain  ... Rain  Rain  Fog-Rain Rain              Rain                   \n",
       "22  313   ... 24    63    12       250   255   251   252   288   313   269  \n",
       "23  18    ... 37    37    34       38    29    19    24    32    34    21   \n",
       "24  17    ... 33    31    33       29    20    17    19    21    27    16   \n",
       "25  15    ... 29    24    31       19    11    14    13    10    19    11   \n",
       "26  11    ... 26    20    32       28    25    14    9     22    31    7    \n",
       "27  5     ... 22    15    29       17    15    11    6     10    26    0    \n",
       "28  -5    ... 19    9     21       4     -2    7     0     -2    7     -8   \n",
       "29  80    ... 78    68    100      78    92    92    80    75    92    83   \n",
       "30  59    ... 67    54    82       55    71    85    63    57    78    56   \n",
       "... ...       ...   ...   ...      ...   ...   ...   ...   ...   ...   ...  \n",
       "257 10    ... 5     10    10       10    5     5     4     10    10    NA   \n",
       "258 26    ... 20    22    15       14    22    26    18    16    14    NA   \n",
       "259 15    ... 7     13    8        6     10    14    10    10    9     NA   \n",
       "260 32    ... 25    31    22       18    28    32    23    20    17    NA   \n",
       "261 0.00  ... 0.30  0.04  0.00     0.00  0.00  0.00  0.21  0.00  0.00  NA   \n",
       "262 4     ... 8     3     1        1     6     7     8     4     6     NA   \n",
       "263       ... Rain  Rain                             Rain              NA   \n",
       "264 222   ... 341   316   271      83    180   209   358   326   65    NA   \n",
       "265 NA    ... NA    NA    NA       NA    NA    NA    NA    NA    NA    NA   \n",
       "266 NA    ... NA    NA    NA       NA    NA    NA    NA    NA    NA    NA   \n",
       "267 NA    ... NA    NA    NA       NA    NA    NA    NA    NA    NA    NA   \n",
       "268 NA    ... NA    NA    NA       NA    NA    NA    NA    NA    NA    NA   \n",
       "269 NA    ... NA    NA    NA       NA    NA    NA    NA    NA    NA    NA   \n",
       "270 NA    ... NA    NA    NA       NA    NA    NA    NA    NA    NA    NA   \n",
       "271 NA    ... NA    NA    NA       NA    NA    NA    NA    NA    NA    NA   \n",
       "272 NA    ... NA    NA    NA       NA    NA    NA    NA    NA    NA    NA   \n",
       "273 NA    ... NA    NA    NA       NA    NA    NA    NA    NA    NA    NA   \n",
       "274 NA    ... NA    NA    NA       NA    NA    NA    NA    NA    NA    NA   \n",
       "275 NA    ... NA    NA    NA       NA    NA    NA    NA    NA    NA    NA   \n",
       "276 NA    ... NA    NA    NA       NA    NA    NA    NA    NA    NA    NA   \n",
       "277 NA    ... NA    NA    NA       NA    NA    NA    NA    NA    NA    NA   \n",
       "278 NA    ... NA    NA    NA       NA    NA    NA    NA    NA    NA    NA   \n",
       "279 NA    ... NA    NA    NA       NA    NA    NA    NA    NA    NA    NA   \n",
       "280 NA    ... NA    NA    NA       NA    NA    NA    NA    NA    NA    NA   \n",
       "281 NA    ... NA    NA    NA       NA    NA    NA    NA    NA    NA    NA   \n",
       "282 NA    ... NA    NA    NA       NA    NA    NA    NA    NA    NA    NA   \n",
       "283 NA    ... NA    NA    NA       NA    NA    NA    NA    NA    NA    NA   \n",
       "284 NA    ... NA    NA    NA       NA    NA    NA    NA    NA    NA    NA   \n",
       "285 NA    ... NA    NA    NA       NA    NA    NA    NA    NA    NA    NA   \n",
       "286 NA    ... NA    NA    NA       NA    NA    NA    NA    NA    NA    NA   "
      ]
     },
     "metadata": {},
     "output_type": "display_data"
    }
   ],
   "source": [
    "df<-readRDS('weather.rds')\n",
    "head(df,286)"
   ]
  },
  {
   "cell_type": "markdown",
   "metadata": {},
   "source": [
    "<div dir = \"rtl\" style=\"direction:rtl;text-align:justify;line-height:300%;\">\n",
    "\t<font face=\"XB Zar\" size=5>\n",
    "\t\t<font color=#FF7500 size=6>\n",
    "        </font>\n",
    "        با استفاده از تابع <code>glimpse</code>\n",
    "        از کتابخانه <code>dplyr</code>\n",
    "        ساختار دیتاست را نمایش دهید.\n",
    "\t</font>\n",
    "</div>"
   ]
  },
  {
   "cell_type": "code",
   "execution_count": 15,
   "metadata": {},
   "outputs": [
    {
     "name": "stdout",
     "output_type": "stream",
     "text": [
      "Rows: 286\n",
      "Columns: 35\n",
      "$ X       \u001b[3m\u001b[90m<int>\u001b[39m\u001b[23m 1, 2, 3, 4, 5, 6, 7, 8, 9, 10, 11, 12, 13, 14, 15, 16, 17, ...\n",
      "$ year    \u001b[3m\u001b[90m<int>\u001b[39m\u001b[23m 2014, 2014, 2014, 2014, 2014, 2014, 2014, 2014, 2014, 2014,...\n",
      "$ month   \u001b[3m\u001b[90m<int>\u001b[39m\u001b[23m 12, 12, 12, 12, 12, 12, 12, 12, 12, 12, 12, 12, 12, 12, 12,...\n",
      "$ measure \u001b[3m\u001b[90m<chr>\u001b[39m\u001b[23m \"Max.TemperatureF\", \"Mean.TemperatureF\", \"Min.TemperatureF\"...\n",
      "$ X1      \u001b[3m\u001b[90m<chr>\u001b[39m\u001b[23m \"64\", \"52\", \"39\", \"46\", \"40\", \"26\", \"74\", \"63\", \"52\", \"30.4...\n",
      "$ X2      \u001b[3m\u001b[90m<chr>\u001b[39m\u001b[23m \"42\", \"38\", \"33\", \"40\", \"27\", \"17\", \"92\", \"72\", \"51\", \"30.7...\n",
      "$ X3      \u001b[3m\u001b[90m<chr>\u001b[39m\u001b[23m \"51\", \"44\", \"37\", \"49\", \"42\", \"24\", \"100\", \"79\", \"57\", \"30....\n",
      "$ X4      \u001b[3m\u001b[90m<chr>\u001b[39m\u001b[23m \"43\", \"37\", \"30\", \"24\", \"21\", \"13\", \"69\", \"54\", \"39\", \"30.5...\n",
      "$ X5      \u001b[3m\u001b[90m<chr>\u001b[39m\u001b[23m \"42\", \"34\", \"26\", \"37\", \"25\", \"12\", \"85\", \"66\", \"47\", \"30.6...\n",
      "$ X6      \u001b[3m\u001b[90m<chr>\u001b[39m\u001b[23m \"45\", \"42\", \"38\", \"45\", \"40\", \"36\", \"100\", \"93\", \"85\", \"30....\n",
      "$ X7      \u001b[3m\u001b[90m<chr>\u001b[39m\u001b[23m \"38\", \"30\", \"21\", \"36\", \"20\", \"-3\", \"92\", \"61\", \"29\", \"30.6...\n",
      "$ X8      \u001b[3m\u001b[90m<chr>\u001b[39m\u001b[23m \"29\", \"24\", \"18\", \"28\", \"16\", \"3\", \"92\", \"70\", \"47\", \"30.77...\n",
      "$ X9      \u001b[3m\u001b[90m<chr>\u001b[39m\u001b[23m \"49\", \"39\", \"29\", \"49\", \"41\", \"28\", \"100\", \"93\", \"86\", \"30....\n",
      "$ X10     \u001b[3m\u001b[90m<chr>\u001b[39m\u001b[23m \"48\", \"43\", \"38\", \"45\", \"39\", \"37\", \"100\", \"95\", \"89\", \"29....\n",
      "$ X11     \u001b[3m\u001b[90m<chr>\u001b[39m\u001b[23m \"39\", \"36\", \"32\", \"37\", \"31\", \"27\", \"92\", \"87\", \"82\", \"29.8...\n",
      "$ X12     \u001b[3m\u001b[90m<chr>\u001b[39m\u001b[23m \"39\", \"35\", \"31\", \"28\", \"27\", \"25\", \"85\", \"75\", \"64\", \"29.8...\n",
      "$ X13     \u001b[3m\u001b[90m<chr>\u001b[39m\u001b[23m \"42\", \"37\", \"32\", \"28\", \"26\", \"24\", \"75\", \"65\", \"55\", \"29.8...\n",
      "$ X14     \u001b[3m\u001b[90m<chr>\u001b[39m\u001b[23m \"45\", \"39\", \"33\", \"29\", \"27\", \"25\", \"82\", \"68\", \"53\", \"29.9...\n",
      "$ X15     \u001b[3m\u001b[90m<chr>\u001b[39m\u001b[23m \"42\", \"37\", \"32\", \"33\", \"29\", \"27\", \"89\", \"75\", \"60\", \"30.1...\n",
      "$ X16     \u001b[3m\u001b[90m<chr>\u001b[39m\u001b[23m \"44\", \"40\", \"35\", \"42\", \"36\", \"30\", \"96\", \"85\", \"73\", \"30.1...\n",
      "$ X17     \u001b[3m\u001b[90m<chr>\u001b[39m\u001b[23m \"49\", \"45\", \"41\", \"46\", \"41\", \"32\", \"100\", \"85\", \"70\", \"29....\n",
      "$ X18     \u001b[3m\u001b[90m<chr>\u001b[39m\u001b[23m \"44\", \"40\", \"36\", \"34\", \"30\", \"26\", \"89\", \"73\", \"57\", \"29.8...\n",
      "$ X19     \u001b[3m\u001b[90m<chr>\u001b[39m\u001b[23m \"37\", \"33\", \"29\", \"25\", \"22\", \"20\", \"69\", \"63\", \"56\", \"30.1...\n",
      "$ X20     \u001b[3m\u001b[90m<chr>\u001b[39m\u001b[23m \"36\", \"32\", \"27\", \"30\", \"24\", \"20\", \"89\", \"79\", \"69\", \"30.3...\n",
      "$ X21     \u001b[3m\u001b[90m<chr>\u001b[39m\u001b[23m \"36\", \"33\", \"30\", \"30\", \"27\", \"25\", \"85\", \"77\", \"69\", \"30.3...\n",
      "$ X22     \u001b[3m\u001b[90m<chr>\u001b[39m\u001b[23m \"44\", \"39\", \"33\", \"39\", \"34\", \"25\", \"89\", \"79\", \"69\", \"30.4...\n",
      "$ X23     \u001b[3m\u001b[90m<chr>\u001b[39m\u001b[23m \"47\", \"45\", \"42\", \"45\", \"42\", \"37\", \"100\", \"91\", \"82\", \"30....\n",
      "$ X24     \u001b[3m\u001b[90m<chr>\u001b[39m\u001b[23m \"46\", \"44\", \"41\", \"46\", \"44\", \"41\", \"100\", \"98\", \"96\", \"30....\n",
      "$ X25     \u001b[3m\u001b[90m<chr>\u001b[39m\u001b[23m \"59\", \"52\", \"44\", \"58\", \"43\", \"29\", \"100\", \"75\", \"49\", \"29....\n",
      "$ X26     \u001b[3m\u001b[90m<chr>\u001b[39m\u001b[23m \"50\", \"44\", \"37\", \"31\", \"29\", \"28\", \"70\", \"60\", \"49\", \"30.1...\n",
      "$ X27     \u001b[3m\u001b[90m<chr>\u001b[39m\u001b[23m \"52\", \"45\", \"38\", \"34\", \"31\", \"29\", \"70\", \"60\", \"50\", \"30.2...\n",
      "$ X28     \u001b[3m\u001b[90m<chr>\u001b[39m\u001b[23m \"52\", \"46\", \"40\", \"42\", \"35\", \"27\", \"76\", \"65\", \"53\", \"29.9...\n",
      "$ X29     \u001b[3m\u001b[90m<chr>\u001b[39m\u001b[23m \"41\", \"36\", \"30\", \"26\", \"20\", \"10\", \"64\", \"51\", \"37\", \"30.2...\n",
      "$ X30     \u001b[3m\u001b[90m<chr>\u001b[39m\u001b[23m \"30\", \"26\", \"22\", \"10\", \"4\", \"-6\", \"50\", \"38\", \"26\", \"30.36...\n",
      "$ X31     \u001b[3m\u001b[90m<chr>\u001b[39m\u001b[23m \"30\", \"25\", \"20\", \"8\", \"5\", \"1\", \"57\", \"44\", \"31\", \"30.32\",...\n"
     ]
    }
   ],
   "source": [
    "glimpse(df)"
   ]
  },
  {
   "cell_type": "markdown",
   "metadata": {},
   "source": [
    "<div dir = \"rtl\" style=\"direction:rtl;text-align:justify;line-height:300%;\">\n",
    "\t<font face=\"XB Zar\" size=5>\n",
    "\t\t<font color=#FF7500 size=6>\n",
    "        </font>\n",
    "        همانطور که مشاهده می‌کنید، این دیتاست شامل ۲۸۶ ردیف و ۳۵ ستون است. ستون‌های X1\n",
    "        تا X31\n",
    "        مانند روزهای ماه هستند که حاوی مقادیر اندازه‌گیری‌های مختلف آب و هوایی هستند که نوع اندازه گیری در ستون measure\n",
    "        مشخص شده است.\n",
    "        همچنین به نظر می‌رسد که ستون X،\n",
    "        یک ستون تکراری است و همان row index\n",
    "        را مشخص می‌کند. این ستون را از <code>dataframe</code>\n",
    "        حذف کرده و دوباره دیتاست را با <code>head</code>\n",
    "        نمایش دهید.\n",
    "\t</font>\n",
    "</div>"
   ]
  },
  {
   "cell_type": "code",
   "execution_count": 16,
   "metadata": {},
   "outputs": [
    {
     "data": {
      "text/html": [
       "<table>\n",
       "<caption>A data.frame: 6 × 34</caption>\n",
       "<thead>\n",
       "\t<tr><th></th><th scope=col>year</th><th scope=col>month</th><th scope=col>measure</th><th scope=col>X1</th><th scope=col>X2</th><th scope=col>X3</th><th scope=col>X4</th><th scope=col>X5</th><th scope=col>X6</th><th scope=col>X7</th><th scope=col>...</th><th scope=col>X22</th><th scope=col>X23</th><th scope=col>X24</th><th scope=col>X25</th><th scope=col>X26</th><th scope=col>X27</th><th scope=col>X28</th><th scope=col>X29</th><th scope=col>X30</th><th scope=col>X31</th></tr>\n",
       "\t<tr><th></th><th scope=col>&lt;int&gt;</th><th scope=col>&lt;int&gt;</th><th scope=col>&lt;chr&gt;</th><th scope=col>&lt;chr&gt;</th><th scope=col>&lt;chr&gt;</th><th scope=col>&lt;chr&gt;</th><th scope=col>&lt;chr&gt;</th><th scope=col>&lt;chr&gt;</th><th scope=col>&lt;chr&gt;</th><th scope=col>&lt;chr&gt;</th><th scope=col>...</th><th scope=col>&lt;chr&gt;</th><th scope=col>&lt;chr&gt;</th><th scope=col>&lt;chr&gt;</th><th scope=col>&lt;chr&gt;</th><th scope=col>&lt;chr&gt;</th><th scope=col>&lt;chr&gt;</th><th scope=col>&lt;chr&gt;</th><th scope=col>&lt;chr&gt;</th><th scope=col>&lt;chr&gt;</th><th scope=col>&lt;chr&gt;</th></tr>\n",
       "</thead>\n",
       "<tbody>\n",
       "\t<tr><th scope=row>1</th><td>2014</td><td>12</td><td>Max.TemperatureF </td><td>64</td><td>42</td><td>51</td><td>43</td><td>42</td><td>45</td><td>38</td><td>...</td><td>44</td><td>47</td><td>46</td><td>59</td><td>50</td><td>52</td><td>52</td><td>41</td><td>30</td><td>30</td></tr>\n",
       "\t<tr><th scope=row>2</th><td>2014</td><td>12</td><td>Mean.TemperatureF</td><td>52</td><td>38</td><td>44</td><td>37</td><td>34</td><td>42</td><td>30</td><td>...</td><td>39</td><td>45</td><td>44</td><td>52</td><td>44</td><td>45</td><td>46</td><td>36</td><td>26</td><td>25</td></tr>\n",
       "\t<tr><th scope=row>3</th><td>2014</td><td>12</td><td>Min.TemperatureF </td><td>39</td><td>33</td><td>37</td><td>30</td><td>26</td><td>38</td><td>21</td><td>...</td><td>33</td><td>42</td><td>41</td><td>44</td><td>37</td><td>38</td><td>40</td><td>30</td><td>22</td><td>20</td></tr>\n",
       "\t<tr><th scope=row>4</th><td>2014</td><td>12</td><td>Max.Dew.PointF   </td><td>46</td><td>40</td><td>49</td><td>24</td><td>37</td><td>45</td><td>36</td><td>...</td><td>39</td><td>45</td><td>46</td><td>58</td><td>31</td><td>34</td><td>42</td><td>26</td><td>10</td><td>8 </td></tr>\n",
       "\t<tr><th scope=row>5</th><td>2014</td><td>12</td><td>MeanDew.PointF   </td><td>40</td><td>27</td><td>42</td><td>21</td><td>25</td><td>40</td><td>20</td><td>...</td><td>34</td><td>42</td><td>44</td><td>43</td><td>29</td><td>31</td><td>35</td><td>20</td><td>4 </td><td>5 </td></tr>\n",
       "\t<tr><th scope=row>6</th><td>2014</td><td>12</td><td>Min.DewpointF    </td><td>26</td><td>17</td><td>24</td><td>13</td><td>12</td><td>36</td><td>-3</td><td>...</td><td>25</td><td>37</td><td>41</td><td>29</td><td>28</td><td>29</td><td>27</td><td>10</td><td>-6</td><td>1 </td></tr>\n",
       "</tbody>\n",
       "</table>\n"
      ],
      "text/latex": [
       "A data.frame: 6 × 34\n",
       "\\begin{tabular}{r|lllllllllllllllllllll}\n",
       "  & year & month & measure & X1 & X2 & X3 & X4 & X5 & X6 & X7 & ... & X22 & X23 & X24 & X25 & X26 & X27 & X28 & X29 & X30 & X31\\\\\n",
       "  & <int> & <int> & <chr> & <chr> & <chr> & <chr> & <chr> & <chr> & <chr> & <chr> & ... & <chr> & <chr> & <chr> & <chr> & <chr> & <chr> & <chr> & <chr> & <chr> & <chr>\\\\\n",
       "\\hline\n",
       "\t1 & 2014 & 12 & Max.TemperatureF  & 64 & 42 & 51 & 43 & 42 & 45 & 38 & ... & 44 & 47 & 46 & 59 & 50 & 52 & 52 & 41 & 30 & 30\\\\\n",
       "\t2 & 2014 & 12 & Mean.TemperatureF & 52 & 38 & 44 & 37 & 34 & 42 & 30 & ... & 39 & 45 & 44 & 52 & 44 & 45 & 46 & 36 & 26 & 25\\\\\n",
       "\t3 & 2014 & 12 & Min.TemperatureF  & 39 & 33 & 37 & 30 & 26 & 38 & 21 & ... & 33 & 42 & 41 & 44 & 37 & 38 & 40 & 30 & 22 & 20\\\\\n",
       "\t4 & 2014 & 12 & Max.Dew.PointF    & 46 & 40 & 49 & 24 & 37 & 45 & 36 & ... & 39 & 45 & 46 & 58 & 31 & 34 & 42 & 26 & 10 & 8 \\\\\n",
       "\t5 & 2014 & 12 & MeanDew.PointF    & 40 & 27 & 42 & 21 & 25 & 40 & 20 & ... & 34 & 42 & 44 & 43 & 29 & 31 & 35 & 20 & 4  & 5 \\\\\n",
       "\t6 & 2014 & 12 & Min.DewpointF     & 26 & 17 & 24 & 13 & 12 & 36 & -3 & ... & 25 & 37 & 41 & 29 & 28 & 29 & 27 & 10 & -6 & 1 \\\\\n",
       "\\end{tabular}\n"
      ],
      "text/markdown": [
       "\n",
       "A data.frame: 6 × 34\n",
       "\n",
       "| <!--/--> | year &lt;int&gt; | month &lt;int&gt; | measure &lt;chr&gt; | X1 &lt;chr&gt; | X2 &lt;chr&gt; | X3 &lt;chr&gt; | X4 &lt;chr&gt; | X5 &lt;chr&gt; | X6 &lt;chr&gt; | X7 &lt;chr&gt; | ... ... | X22 &lt;chr&gt; | X23 &lt;chr&gt; | X24 &lt;chr&gt; | X25 &lt;chr&gt; | X26 &lt;chr&gt; | X27 &lt;chr&gt; | X28 &lt;chr&gt; | X29 &lt;chr&gt; | X30 &lt;chr&gt; | X31 &lt;chr&gt; |\n",
       "|---|---|---|---|---|---|---|---|---|---|---|---|---|---|---|---|---|---|---|---|---|---|\n",
       "| 1 | 2014 | 12 | Max.TemperatureF  | 64 | 42 | 51 | 43 | 42 | 45 | 38 | ... | 44 | 47 | 46 | 59 | 50 | 52 | 52 | 41 | 30 | 30 |\n",
       "| 2 | 2014 | 12 | Mean.TemperatureF | 52 | 38 | 44 | 37 | 34 | 42 | 30 | ... | 39 | 45 | 44 | 52 | 44 | 45 | 46 | 36 | 26 | 25 |\n",
       "| 3 | 2014 | 12 | Min.TemperatureF  | 39 | 33 | 37 | 30 | 26 | 38 | 21 | ... | 33 | 42 | 41 | 44 | 37 | 38 | 40 | 30 | 22 | 20 |\n",
       "| 4 | 2014 | 12 | Max.Dew.PointF    | 46 | 40 | 49 | 24 | 37 | 45 | 36 | ... | 39 | 45 | 46 | 58 | 31 | 34 | 42 | 26 | 10 | 8  |\n",
       "| 5 | 2014 | 12 | MeanDew.PointF    | 40 | 27 | 42 | 21 | 25 | 40 | 20 | ... | 34 | 42 | 44 | 43 | 29 | 31 | 35 | 20 | 4  | 5  |\n",
       "| 6 | 2014 | 12 | Min.DewpointF     | 26 | 17 | 24 | 13 | 12 | 36 | -3 | ... | 25 | 37 | 41 | 29 | 28 | 29 | 27 | 10 | -6 | 1  |\n",
       "\n"
      ],
      "text/plain": [
       "  year month measure           X1 X2 X3 X4 X5 X6 X7 ... X22 X23 X24 X25 X26 X27\n",
       "1 2014 12    Max.TemperatureF  64 42 51 43 42 45 38 ... 44  47  46  59  50  52 \n",
       "2 2014 12    Mean.TemperatureF 52 38 44 37 34 42 30 ... 39  45  44  52  44  45 \n",
       "3 2014 12    Min.TemperatureF  39 33 37 30 26 38 21 ... 33  42  41  44  37  38 \n",
       "4 2014 12    Max.Dew.PointF    46 40 49 24 37 45 36 ... 39  45  46  58  31  34 \n",
       "5 2014 12    MeanDew.PointF    40 27 42 21 25 40 20 ... 34  42  44  43  29  31 \n",
       "6 2014 12    Min.DewpointF     26 17 24 13 12 36 -3 ... 25  37  41  29  28  29 \n",
       "  X28 X29 X30 X31\n",
       "1 52  41  30  30 \n",
       "2 46  36  26  25 \n",
       "3 40  30  22  20 \n",
       "4 42  26  10  8  \n",
       "5 35  20  4   5  \n",
       "6 27  10  -6  1  "
      ]
     },
     "metadata": {},
     "output_type": "display_data"
    }
   ],
   "source": [
    "df <- select(df,-X)\n",
    "head(df)"
   ]
  },
  {
   "cell_type": "markdown",
   "metadata": {},
   "source": [
    "<div dir = \"rtl\" style=\"direction:rtl;text-align:justify;line-height:300%;\">\n",
    "\t<font face=\"XB Zar\" size=5>\n",
    "\t\t<font color=#FF7500 size=6>\n",
    "        </font>\n",
    "        <h4>مرتب‌سازی با <code>gather</code>\n",
    "            و <code>spread</code>\n",
    "        </h4>\n",
    "        به نظر می رسد مقادیر اندازه گیری هوا (ستون measure)\n",
    "        برای هر روز از ماه در ستون های X1\n",
    "        تا X31\n",
    "        ذخیره می شود. از نظر تمیز‌سازی داده، این دیتاست نامرتب است، زیرا:\n",
    "        <ul>\n",
    "            <li>\n",
    "                نام ستون‌ها، حاوی مقادیر است. ($X_i$)\n",
    "            </li>\n",
    "            <li>\n",
    "                نام متغیرها بعنوان مقدار ذخیره شده اند. (ستون measure)\n",
    "            </li>\n",
    "        </ul>\n",
    "        در هر مورد، از توابع <code>gather</code>\n",
    "        و <code>spread</code>\n",
    "        از کتابخانه‌ی <code>tidyr</code>\n",
    "        استفاده می‌کنیم. عملکرد این دو تابع را در انیمیشن زیر می‌توانید مشاهده کنید:\n",
    "        <img src=\"gather_spread.gif\">\n",
    "        <b>۱. نام ستون‌ها، حاوی مقادیر است.</b>\n",
    "        <br>\n",
    "        نام ستون‌های X1-X31\n",
    "        نشان دهنده روزهای ماه هستند که باید مقادیر ستون جدیدی به نام <code>day</code>\n",
    "        باشند و مقدار اندازه گیری در هر روز هم در ستون جدیدی به نام <code>value</code>\n",
    "        باشند. با استفاده از توابع ذکر شده، dataframe\n",
    "        را تغییر دهید و آن را نمایش دهید.\n",
    "\t</font>\n",
    "</div>"
   ]
  },
  {
   "cell_type": "code",
   "execution_count": 19,
   "metadata": {},
   "outputs": [
    {
     "data": {
      "text/html": [
       "<table>\n",
       "<caption>A data.frame: 6 × 5</caption>\n",
       "<thead>\n",
       "\t<tr><th></th><th scope=col>year</th><th scope=col>month</th><th scope=col>measure</th><th scope=col>day</th><th scope=col>value</th></tr>\n",
       "\t<tr><th></th><th scope=col>&lt;int&gt;</th><th scope=col>&lt;int&gt;</th><th scope=col>&lt;chr&gt;</th><th scope=col>&lt;chr&gt;</th><th scope=col>&lt;chr&gt;</th></tr>\n",
       "</thead>\n",
       "<tbody>\n",
       "\t<tr><th scope=row>1</th><td>2014</td><td>12</td><td>Max.TemperatureF </td><td>X1</td><td>64</td></tr>\n",
       "\t<tr><th scope=row>2</th><td>2014</td><td>12</td><td>Mean.TemperatureF</td><td>X1</td><td>52</td></tr>\n",
       "\t<tr><th scope=row>3</th><td>2014</td><td>12</td><td>Min.TemperatureF </td><td>X1</td><td>39</td></tr>\n",
       "\t<tr><th scope=row>4</th><td>2014</td><td>12</td><td>Max.Dew.PointF   </td><td>X1</td><td>46</td></tr>\n",
       "\t<tr><th scope=row>5</th><td>2014</td><td>12</td><td>MeanDew.PointF   </td><td>X1</td><td>40</td></tr>\n",
       "\t<tr><th scope=row>6</th><td>2014</td><td>12</td><td>Min.DewpointF    </td><td>X1</td><td>26</td></tr>\n",
       "</tbody>\n",
       "</table>\n"
      ],
      "text/latex": [
       "A data.frame: 6 × 5\n",
       "\\begin{tabular}{r|lllll}\n",
       "  & year & month & measure & day & value\\\\\n",
       "  & <int> & <int> & <chr> & <chr> & <chr>\\\\\n",
       "\\hline\n",
       "\t1 & 2014 & 12 & Max.TemperatureF  & X1 & 64\\\\\n",
       "\t2 & 2014 & 12 & Mean.TemperatureF & X1 & 52\\\\\n",
       "\t3 & 2014 & 12 & Min.TemperatureF  & X1 & 39\\\\\n",
       "\t4 & 2014 & 12 & Max.Dew.PointF    & X1 & 46\\\\\n",
       "\t5 & 2014 & 12 & MeanDew.PointF    & X1 & 40\\\\\n",
       "\t6 & 2014 & 12 & Min.DewpointF     & X1 & 26\\\\\n",
       "\\end{tabular}\n"
      ],
      "text/markdown": [
       "\n",
       "A data.frame: 6 × 5\n",
       "\n",
       "| <!--/--> | year &lt;int&gt; | month &lt;int&gt; | measure &lt;chr&gt; | day &lt;chr&gt; | value &lt;chr&gt; |\n",
       "|---|---|---|---|---|---|\n",
       "| 1 | 2014 | 12 | Max.TemperatureF  | X1 | 64 |\n",
       "| 2 | 2014 | 12 | Mean.TemperatureF | X1 | 52 |\n",
       "| 3 | 2014 | 12 | Min.TemperatureF  | X1 | 39 |\n",
       "| 4 | 2014 | 12 | Max.Dew.PointF    | X1 | 46 |\n",
       "| 5 | 2014 | 12 | MeanDew.PointF    | X1 | 40 |\n",
       "| 6 | 2014 | 12 | Min.DewpointF     | X1 | 26 |\n",
       "\n"
      ],
      "text/plain": [
       "  year month measure           day value\n",
       "1 2014 12    Max.TemperatureF  X1  64   \n",
       "2 2014 12    Mean.TemperatureF X1  52   \n",
       "3 2014 12    Min.TemperatureF  X1  39   \n",
       "4 2014 12    Max.Dew.PointF    X1  46   \n",
       "5 2014 12    MeanDew.PointF    X1  40   \n",
       "6 2014 12    Min.DewpointF     X1  26   "
      ]
     },
     "metadata": {},
     "output_type": "display_data"
    }
   ],
   "source": [
    "df<- gather(df,X1:X31,key = \"day\",value = \"value\")\n",
    "head(df)"
   ]
  },
  {
   "cell_type": "markdown",
   "metadata": {},
   "source": [
    "<div dir = \"rtl\" style=\"direction:rtl;text-align:justify;line-height:300%;\">\n",
    "\t<font face=\"XB Zar\" size=5>\n",
    "\t\t<font color=#FF7500 size=6>\n",
    "        </font>\n",
    "        <b>۲. نام متغیرها بعنوان مقدار ذخیره شده اند.</b>\n",
    "        <br>\n",
    "        مقادیر موجود در ستون measure\n",
    "        باید هر کدام، یک ستون باشند. با استفاده از توابع ذکر شده، dataframe\n",
    "        را تغییر دهید و آن را نمایش دهید.\n",
    "\t</font>\n",
    "</div>"
   ]
  },
  {
   "cell_type": "code",
   "execution_count": 20,
   "metadata": {
    "scrolled": true
   },
   "outputs": [
    {
     "data": {
      "text/html": [
       "<table>\n",
       "<caption>A data.frame: 6 × 25</caption>\n",
       "<thead>\n",
       "\t<tr><th></th><th scope=col>year</th><th scope=col>month</th><th scope=col>day</th><th scope=col>CloudCover</th><th scope=col>Events</th><th scope=col>Max.Dew.PointF</th><th scope=col>Max.Gust.SpeedMPH</th><th scope=col>Max.Humidity</th><th scope=col>Max.Sea.Level.PressureIn</th><th scope=col>Max.TemperatureF</th><th scope=col>...</th><th scope=col>Mean.VisibilityMiles</th><th scope=col>Mean.Wind.SpeedMPH</th><th scope=col>MeanDew.PointF</th><th scope=col>Min.DewpointF</th><th scope=col>Min.Humidity</th><th scope=col>Min.Sea.Level.PressureIn</th><th scope=col>Min.TemperatureF</th><th scope=col>Min.VisibilityMiles</th><th scope=col>PrecipitationIn</th><th scope=col>WindDirDegrees</th></tr>\n",
       "\t<tr><th></th><th scope=col>&lt;int&gt;</th><th scope=col>&lt;int&gt;</th><th scope=col>&lt;chr&gt;</th><th scope=col>&lt;chr&gt;</th><th scope=col>&lt;chr&gt;</th><th scope=col>&lt;chr&gt;</th><th scope=col>&lt;chr&gt;</th><th scope=col>&lt;chr&gt;</th><th scope=col>&lt;chr&gt;</th><th scope=col>&lt;chr&gt;</th><th scope=col>...</th><th scope=col>&lt;chr&gt;</th><th scope=col>&lt;chr&gt;</th><th scope=col>&lt;chr&gt;</th><th scope=col>&lt;chr&gt;</th><th scope=col>&lt;chr&gt;</th><th scope=col>&lt;chr&gt;</th><th scope=col>&lt;chr&gt;</th><th scope=col>&lt;chr&gt;</th><th scope=col>&lt;chr&gt;</th><th scope=col>&lt;chr&gt;</th></tr>\n",
       "</thead>\n",
       "<tbody>\n",
       "\t<tr><th scope=row>1</th><td>2014</td><td>12</td><td>X1 </td><td>6</td><td>Rain     </td><td>46</td><td>29</td><td>74 </td><td>30.45</td><td>64</td><td>...</td><td>10</td><td>13</td><td>40</td><td>26</td><td>52</td><td>30.01</td><td>39</td><td>10</td><td>0.01</td><td>268</td></tr>\n",
       "\t<tr><th scope=row>2</th><td>2014</td><td>12</td><td>X10</td><td>8</td><td>Rain     </td><td>45</td><td>29</td><td>100</td><td>29.58</td><td>48</td><td>...</td><td>3 </td><td>13</td><td>39</td><td>37</td><td>89</td><td>29.43</td><td>38</td><td>1 </td><td>0.28</td><td>357</td></tr>\n",
       "\t<tr><th scope=row>3</th><td>2014</td><td>12</td><td>X11</td><td>8</td><td>Rain-Snow</td><td>37</td><td>28</td><td>92 </td><td>29.81</td><td>39</td><td>...</td><td>7 </td><td>13</td><td>31</td><td>27</td><td>82</td><td>29.44</td><td>32</td><td>1 </td><td>0.02</td><td>230</td></tr>\n",
       "\t<tr><th scope=row>4</th><td>2014</td><td>12</td><td>X12</td><td>7</td><td>Snow     </td><td>28</td><td>21</td><td>85 </td><td>29.88</td><td>39</td><td>...</td><td>10</td><td>11</td><td>27</td><td>25</td><td>64</td><td>29.81</td><td>31</td><td>7 </td><td>T   </td><td>286</td></tr>\n",
       "\t<tr><th scope=row>5</th><td>2014</td><td>12</td><td>X13</td><td>5</td><td>         </td><td>28</td><td>23</td><td>75 </td><td>29.86</td><td>42</td><td>...</td><td>10</td><td>12</td><td>26</td><td>24</td><td>55</td><td>29.78</td><td>32</td><td>10</td><td>T   </td><td>298</td></tr>\n",
       "\t<tr><th scope=row>6</th><td>2014</td><td>12</td><td>X14</td><td>4</td><td>         </td><td>29</td><td>20</td><td>82 </td><td>29.91</td><td>45</td><td>...</td><td>10</td><td>10</td><td>27</td><td>25</td><td>53</td><td>29.78</td><td>33</td><td>10</td><td>0.00</td><td>306</td></tr>\n",
       "</tbody>\n",
       "</table>\n"
      ],
      "text/latex": [
       "A data.frame: 6 × 25\n",
       "\\begin{tabular}{r|lllllllllllllllllllll}\n",
       "  & year & month & day & CloudCover & Events & Max.Dew.PointF & Max.Gust.SpeedMPH & Max.Humidity & Max.Sea.Level.PressureIn & Max.TemperatureF & ... & Mean.VisibilityMiles & Mean.Wind.SpeedMPH & MeanDew.PointF & Min.DewpointF & Min.Humidity & Min.Sea.Level.PressureIn & Min.TemperatureF & Min.VisibilityMiles & PrecipitationIn & WindDirDegrees\\\\\n",
       "  & <int> & <int> & <chr> & <chr> & <chr> & <chr> & <chr> & <chr> & <chr> & <chr> & ... & <chr> & <chr> & <chr> & <chr> & <chr> & <chr> & <chr> & <chr> & <chr> & <chr>\\\\\n",
       "\\hline\n",
       "\t1 & 2014 & 12 & X1  & 6 & Rain      & 46 & 29 & 74  & 30.45 & 64 & ... & 10 & 13 & 40 & 26 & 52 & 30.01 & 39 & 10 & 0.01 & 268\\\\\n",
       "\t2 & 2014 & 12 & X10 & 8 & Rain      & 45 & 29 & 100 & 29.58 & 48 & ... & 3  & 13 & 39 & 37 & 89 & 29.43 & 38 & 1  & 0.28 & 357\\\\\n",
       "\t3 & 2014 & 12 & X11 & 8 & Rain-Snow & 37 & 28 & 92  & 29.81 & 39 & ... & 7  & 13 & 31 & 27 & 82 & 29.44 & 32 & 1  & 0.02 & 230\\\\\n",
       "\t4 & 2014 & 12 & X12 & 7 & Snow      & 28 & 21 & 85  & 29.88 & 39 & ... & 10 & 11 & 27 & 25 & 64 & 29.81 & 31 & 7  & T    & 286\\\\\n",
       "\t5 & 2014 & 12 & X13 & 5 &           & 28 & 23 & 75  & 29.86 & 42 & ... & 10 & 12 & 26 & 24 & 55 & 29.78 & 32 & 10 & T    & 298\\\\\n",
       "\t6 & 2014 & 12 & X14 & 4 &           & 29 & 20 & 82  & 29.91 & 45 & ... & 10 & 10 & 27 & 25 & 53 & 29.78 & 33 & 10 & 0.00 & 306\\\\\n",
       "\\end{tabular}\n"
      ],
      "text/markdown": [
       "\n",
       "A data.frame: 6 × 25\n",
       "\n",
       "| <!--/--> | year &lt;int&gt; | month &lt;int&gt; | day &lt;chr&gt; | CloudCover &lt;chr&gt; | Events &lt;chr&gt; | Max.Dew.PointF &lt;chr&gt; | Max.Gust.SpeedMPH &lt;chr&gt; | Max.Humidity &lt;chr&gt; | Max.Sea.Level.PressureIn &lt;chr&gt; | Max.TemperatureF &lt;chr&gt; | ... ... | Mean.VisibilityMiles &lt;chr&gt; | Mean.Wind.SpeedMPH &lt;chr&gt; | MeanDew.PointF &lt;chr&gt; | Min.DewpointF &lt;chr&gt; | Min.Humidity &lt;chr&gt; | Min.Sea.Level.PressureIn &lt;chr&gt; | Min.TemperatureF &lt;chr&gt; | Min.VisibilityMiles &lt;chr&gt; | PrecipitationIn &lt;chr&gt; | WindDirDegrees &lt;chr&gt; |\n",
       "|---|---|---|---|---|---|---|---|---|---|---|---|---|---|---|---|---|---|---|---|---|---|\n",
       "| 1 | 2014 | 12 | X1  | 6 | Rain      | 46 | 29 | 74  | 30.45 | 64 | ... | 10 | 13 | 40 | 26 | 52 | 30.01 | 39 | 10 | 0.01 | 268 |\n",
       "| 2 | 2014 | 12 | X10 | 8 | Rain      | 45 | 29 | 100 | 29.58 | 48 | ... | 3  | 13 | 39 | 37 | 89 | 29.43 | 38 | 1  | 0.28 | 357 |\n",
       "| 3 | 2014 | 12 | X11 | 8 | Rain-Snow | 37 | 28 | 92  | 29.81 | 39 | ... | 7  | 13 | 31 | 27 | 82 | 29.44 | 32 | 1  | 0.02 | 230 |\n",
       "| 4 | 2014 | 12 | X12 | 7 | Snow      | 28 | 21 | 85  | 29.88 | 39 | ... | 10 | 11 | 27 | 25 | 64 | 29.81 | 31 | 7  | T    | 286 |\n",
       "| 5 | 2014 | 12 | X13 | 5 | <!----> | 28 | 23 | 75  | 29.86 | 42 | ... | 10 | 12 | 26 | 24 | 55 | 29.78 | 32 | 10 | T    | 298 |\n",
       "| 6 | 2014 | 12 | X14 | 4 | <!----> | 29 | 20 | 82  | 29.91 | 45 | ... | 10 | 10 | 27 | 25 | 53 | 29.78 | 33 | 10 | 0.00 | 306 |\n",
       "\n"
      ],
      "text/plain": [
       "  year month day CloudCover Events    Max.Dew.PointF Max.Gust.SpeedMPH\n",
       "1 2014 12    X1  6          Rain      46             29               \n",
       "2 2014 12    X10 8          Rain      45             29               \n",
       "3 2014 12    X11 8          Rain-Snow 37             28               \n",
       "4 2014 12    X12 7          Snow      28             21               \n",
       "5 2014 12    X13 5                    28             23               \n",
       "6 2014 12    X14 4                    29             20               \n",
       "  Max.Humidity Max.Sea.Level.PressureIn Max.TemperatureF ...\n",
       "1 74           30.45                    64               ...\n",
       "2 100          29.58                    48               ...\n",
       "3 92           29.81                    39               ...\n",
       "4 85           29.88                    39               ...\n",
       "5 75           29.86                    42               ...\n",
       "6 82           29.91                    45               ...\n",
       "  Mean.VisibilityMiles Mean.Wind.SpeedMPH MeanDew.PointF Min.DewpointF\n",
       "1 10                   13                 40             26           \n",
       "2 3                    13                 39             37           \n",
       "3 7                    13                 31             27           \n",
       "4 10                   11                 27             25           \n",
       "5 10                   12                 26             24           \n",
       "6 10                   10                 27             25           \n",
       "  Min.Humidity Min.Sea.Level.PressureIn Min.TemperatureF Min.VisibilityMiles\n",
       "1 52           30.01                    39               10                 \n",
       "2 89           29.43                    38               1                  \n",
       "3 82           29.44                    32               1                  \n",
       "4 64           29.81                    31               7                  \n",
       "5 55           29.78                    32               10                 \n",
       "6 53           29.78                    33               10                 \n",
       "  PrecipitationIn WindDirDegrees\n",
       "1 0.01            268           \n",
       "2 0.28            357           \n",
       "3 0.02            230           \n",
       "4 T               286           \n",
       "5 T               298           \n",
       "6 0.00            306           "
      ]
     },
     "metadata": {},
     "output_type": "display_data"
    }
   ],
   "source": [
    "df <- spread(df,measure,value)\n",
    "head(df)"
   ]
  },
  {
   "cell_type": "markdown",
   "metadata": {},
   "source": [
    "<div dir = \"rtl\" style=\"direction:rtl;text-align:justify;line-height:300%;\">\n",
    "\t<font face=\"XB Zar\" size=5>\n",
    "\t\t<font color=#FF7500 size=6>\n",
    "        </font>\n",
    "        اکنون، می‌توانیم ببینیم که هر ردیف، نشان‌دهنده اندازه‌گیری‌های مختلف آب و هوایی برای یک روز از ماه است.\n",
    "        <h4>آماده‌سازی برای تحلیل داده</h4>\n",
    "        مرحله‌ی پس از مرتب‌سازی داده‌ها، آماده‌سازی برای تحلیل داده‌ها با بررسی data type\n",
    "        ها، مقدار و دامنه هر ستون و تبدیل data type\n",
    "        ها و مقادیر لازم و ترکیب یا جدا کردن ستون‌هاست.\n",
    "        <br>\n",
    "        <b>تمیزسازی تاریخ</b>\n",
    "        <br>\n",
    "        ابتدا در ستون <code>day</code>،\n",
    "        کاراکتر X\n",
    "        را حذف کنید. سپس سه ستون <code>year</code>, <code>month</code>, <code>day</code>\n",
    "        را در یک ستون و با فرمت <code>y-m-d</code>\n",
    "        ترکیب کنید. سپس دیتافریم را نمایش دهید. (راهنمایی: برای جایگزین کردن مقادیر در <code>string</code>\n",
    "        ها، می‌توانید از کتابخانه‌ی <code>stringr</code>\n",
    "        استفاده کنید.)\n",
    "\t</font>\n",
    "</div>"
   ]
  },
  {
   "cell_type": "code",
   "execution_count": 21,
   "metadata": {},
   "outputs": [],
   "source": [
    "library('stringr')"
   ]
  },
  {
   "cell_type": "code",
   "execution_count": 22,
   "metadata": {
    "scrolled": true
   },
   "outputs": [
    {
     "data": {
      "text/html": [
       "<table>\n",
       "<caption>A data.frame: 6 × 23</caption>\n",
       "<thead>\n",
       "\t<tr><th></th><th scope=col>day</th><th scope=col>CloudCover</th><th scope=col>Events</th><th scope=col>Max.Dew.PointF</th><th scope=col>Max.Gust.SpeedMPH</th><th scope=col>Max.Humidity</th><th scope=col>Max.Sea.Level.PressureIn</th><th scope=col>Max.TemperatureF</th><th scope=col>Max.VisibilityMiles</th><th scope=col>Max.Wind.SpeedMPH</th><th scope=col>...</th><th scope=col>Mean.VisibilityMiles</th><th scope=col>Mean.Wind.SpeedMPH</th><th scope=col>MeanDew.PointF</th><th scope=col>Min.DewpointF</th><th scope=col>Min.Humidity</th><th scope=col>Min.Sea.Level.PressureIn</th><th scope=col>Min.TemperatureF</th><th scope=col>Min.VisibilityMiles</th><th scope=col>PrecipitationIn</th><th scope=col>WindDirDegrees</th></tr>\n",
       "\t<tr><th></th><th scope=col>&lt;chr&gt;</th><th scope=col>&lt;chr&gt;</th><th scope=col>&lt;chr&gt;</th><th scope=col>&lt;chr&gt;</th><th scope=col>&lt;chr&gt;</th><th scope=col>&lt;chr&gt;</th><th scope=col>&lt;chr&gt;</th><th scope=col>&lt;chr&gt;</th><th scope=col>&lt;chr&gt;</th><th scope=col>&lt;chr&gt;</th><th scope=col>...</th><th scope=col>&lt;chr&gt;</th><th scope=col>&lt;chr&gt;</th><th scope=col>&lt;chr&gt;</th><th scope=col>&lt;chr&gt;</th><th scope=col>&lt;chr&gt;</th><th scope=col>&lt;chr&gt;</th><th scope=col>&lt;chr&gt;</th><th scope=col>&lt;chr&gt;</th><th scope=col>&lt;chr&gt;</th><th scope=col>&lt;chr&gt;</th></tr>\n",
       "</thead>\n",
       "<tbody>\n",
       "\t<tr><th scope=row>1</th><td>2014-12-1 </td><td>6</td><td>Rain     </td><td>46</td><td>29</td><td>74 </td><td>30.45</td><td>64</td><td>10</td><td>22</td><td>...</td><td>10</td><td>13</td><td>40</td><td>26</td><td>52</td><td>30.01</td><td>39</td><td>10</td><td>0.01</td><td>268</td></tr>\n",
       "\t<tr><th scope=row>2</th><td>2014-12-10</td><td>8</td><td>Rain     </td><td>45</td><td>29</td><td>100</td><td>29.58</td><td>48</td><td>10</td><td>23</td><td>...</td><td>3 </td><td>13</td><td>39</td><td>37</td><td>89</td><td>29.43</td><td>38</td><td>1 </td><td>0.28</td><td>357</td></tr>\n",
       "\t<tr><th scope=row>3</th><td>2014-12-11</td><td>8</td><td>Rain-Snow</td><td>37</td><td>28</td><td>92 </td><td>29.81</td><td>39</td><td>10</td><td>21</td><td>...</td><td>7 </td><td>13</td><td>31</td><td>27</td><td>82</td><td>29.44</td><td>32</td><td>1 </td><td>0.02</td><td>230</td></tr>\n",
       "\t<tr><th scope=row>4</th><td>2014-12-12</td><td>7</td><td>Snow     </td><td>28</td><td>21</td><td>85 </td><td>29.88</td><td>39</td><td>10</td><td>16</td><td>...</td><td>10</td><td>11</td><td>27</td><td>25</td><td>64</td><td>29.81</td><td>31</td><td>7 </td><td>T   </td><td>286</td></tr>\n",
       "\t<tr><th scope=row>5</th><td>2014-12-13</td><td>5</td><td>         </td><td>28</td><td>23</td><td>75 </td><td>29.86</td><td>42</td><td>10</td><td>17</td><td>...</td><td>10</td><td>12</td><td>26</td><td>24</td><td>55</td><td>29.78</td><td>32</td><td>10</td><td>T   </td><td>298</td></tr>\n",
       "\t<tr><th scope=row>6</th><td>2014-12-14</td><td>4</td><td>         </td><td>29</td><td>20</td><td>82 </td><td>29.91</td><td>45</td><td>10</td><td>15</td><td>...</td><td>10</td><td>10</td><td>27</td><td>25</td><td>53</td><td>29.78</td><td>33</td><td>10</td><td>0.00</td><td>306</td></tr>\n",
       "</tbody>\n",
       "</table>\n"
      ],
      "text/latex": [
       "A data.frame: 6 × 23\n",
       "\\begin{tabular}{r|lllllllllllllllllllll}\n",
       "  & day & CloudCover & Events & Max.Dew.PointF & Max.Gust.SpeedMPH & Max.Humidity & Max.Sea.Level.PressureIn & Max.TemperatureF & Max.VisibilityMiles & Max.Wind.SpeedMPH & ... & Mean.VisibilityMiles & Mean.Wind.SpeedMPH & MeanDew.PointF & Min.DewpointF & Min.Humidity & Min.Sea.Level.PressureIn & Min.TemperatureF & Min.VisibilityMiles & PrecipitationIn & WindDirDegrees\\\\\n",
       "  & <chr> & <chr> & <chr> & <chr> & <chr> & <chr> & <chr> & <chr> & <chr> & <chr> & ... & <chr> & <chr> & <chr> & <chr> & <chr> & <chr> & <chr> & <chr> & <chr> & <chr>\\\\\n",
       "\\hline\n",
       "\t1 & 2014-12-1  & 6 & Rain      & 46 & 29 & 74  & 30.45 & 64 & 10 & 22 & ... & 10 & 13 & 40 & 26 & 52 & 30.01 & 39 & 10 & 0.01 & 268\\\\\n",
       "\t2 & 2014-12-10 & 8 & Rain      & 45 & 29 & 100 & 29.58 & 48 & 10 & 23 & ... & 3  & 13 & 39 & 37 & 89 & 29.43 & 38 & 1  & 0.28 & 357\\\\\n",
       "\t3 & 2014-12-11 & 8 & Rain-Snow & 37 & 28 & 92  & 29.81 & 39 & 10 & 21 & ... & 7  & 13 & 31 & 27 & 82 & 29.44 & 32 & 1  & 0.02 & 230\\\\\n",
       "\t4 & 2014-12-12 & 7 & Snow      & 28 & 21 & 85  & 29.88 & 39 & 10 & 16 & ... & 10 & 11 & 27 & 25 & 64 & 29.81 & 31 & 7  & T    & 286\\\\\n",
       "\t5 & 2014-12-13 & 5 &           & 28 & 23 & 75  & 29.86 & 42 & 10 & 17 & ... & 10 & 12 & 26 & 24 & 55 & 29.78 & 32 & 10 & T    & 298\\\\\n",
       "\t6 & 2014-12-14 & 4 &           & 29 & 20 & 82  & 29.91 & 45 & 10 & 15 & ... & 10 & 10 & 27 & 25 & 53 & 29.78 & 33 & 10 & 0.00 & 306\\\\\n",
       "\\end{tabular}\n"
      ],
      "text/markdown": [
       "\n",
       "A data.frame: 6 × 23\n",
       "\n",
       "| <!--/--> | day &lt;chr&gt; | CloudCover &lt;chr&gt; | Events &lt;chr&gt; | Max.Dew.PointF &lt;chr&gt; | Max.Gust.SpeedMPH &lt;chr&gt; | Max.Humidity &lt;chr&gt; | Max.Sea.Level.PressureIn &lt;chr&gt; | Max.TemperatureF &lt;chr&gt; | Max.VisibilityMiles &lt;chr&gt; | Max.Wind.SpeedMPH &lt;chr&gt; | ... ... | Mean.VisibilityMiles &lt;chr&gt; | Mean.Wind.SpeedMPH &lt;chr&gt; | MeanDew.PointF &lt;chr&gt; | Min.DewpointF &lt;chr&gt; | Min.Humidity &lt;chr&gt; | Min.Sea.Level.PressureIn &lt;chr&gt; | Min.TemperatureF &lt;chr&gt; | Min.VisibilityMiles &lt;chr&gt; | PrecipitationIn &lt;chr&gt; | WindDirDegrees &lt;chr&gt; |\n",
       "|---|---|---|---|---|---|---|---|---|---|---|---|---|---|---|---|---|---|---|---|---|---|\n",
       "| 1 | 2014-12-1  | 6 | Rain      | 46 | 29 | 74  | 30.45 | 64 | 10 | 22 | ... | 10 | 13 | 40 | 26 | 52 | 30.01 | 39 | 10 | 0.01 | 268 |\n",
       "| 2 | 2014-12-10 | 8 | Rain      | 45 | 29 | 100 | 29.58 | 48 | 10 | 23 | ... | 3  | 13 | 39 | 37 | 89 | 29.43 | 38 | 1  | 0.28 | 357 |\n",
       "| 3 | 2014-12-11 | 8 | Rain-Snow | 37 | 28 | 92  | 29.81 | 39 | 10 | 21 | ... | 7  | 13 | 31 | 27 | 82 | 29.44 | 32 | 1  | 0.02 | 230 |\n",
       "| 4 | 2014-12-12 | 7 | Snow      | 28 | 21 | 85  | 29.88 | 39 | 10 | 16 | ... | 10 | 11 | 27 | 25 | 64 | 29.81 | 31 | 7  | T    | 286 |\n",
       "| 5 | 2014-12-13 | 5 | <!----> | 28 | 23 | 75  | 29.86 | 42 | 10 | 17 | ... | 10 | 12 | 26 | 24 | 55 | 29.78 | 32 | 10 | T    | 298 |\n",
       "| 6 | 2014-12-14 | 4 | <!----> | 29 | 20 | 82  | 29.91 | 45 | 10 | 15 | ... | 10 | 10 | 27 | 25 | 53 | 29.78 | 33 | 10 | 0.00 | 306 |\n",
       "\n"
      ],
      "text/plain": [
       "  day        CloudCover Events    Max.Dew.PointF Max.Gust.SpeedMPH Max.Humidity\n",
       "1 2014-12-1  6          Rain      46             29                74          \n",
       "2 2014-12-10 8          Rain      45             29                100         \n",
       "3 2014-12-11 8          Rain-Snow 37             28                92          \n",
       "4 2014-12-12 7          Snow      28             21                85          \n",
       "5 2014-12-13 5                    28             23                75          \n",
       "6 2014-12-14 4                    29             20                82          \n",
       "  Max.Sea.Level.PressureIn Max.TemperatureF Max.VisibilityMiles\n",
       "1 30.45                    64               10                 \n",
       "2 29.58                    48               10                 \n",
       "3 29.81                    39               10                 \n",
       "4 29.88                    39               10                 \n",
       "5 29.86                    42               10                 \n",
       "6 29.91                    45               10                 \n",
       "  Max.Wind.SpeedMPH ... Mean.VisibilityMiles Mean.Wind.SpeedMPH MeanDew.PointF\n",
       "1 22                ... 10                   13                 40            \n",
       "2 23                ... 3                    13                 39            \n",
       "3 21                ... 7                    13                 31            \n",
       "4 16                ... 10                   11                 27            \n",
       "5 17                ... 10                   12                 26            \n",
       "6 15                ... 10                   10                 27            \n",
       "  Min.DewpointF Min.Humidity Min.Sea.Level.PressureIn Min.TemperatureF\n",
       "1 26            52           30.01                    39              \n",
       "2 37            89           29.43                    38              \n",
       "3 27            82           29.44                    32              \n",
       "4 25            64           29.81                    31              \n",
       "5 24            55           29.78                    32              \n",
       "6 25            53           29.78                    33              \n",
       "  Min.VisibilityMiles PrecipitationIn WindDirDegrees\n",
       "1 10                  0.01            268           \n",
       "2 1                   0.28            357           \n",
       "3 1                   0.02            230           \n",
       "4 7                   T               286           \n",
       "5 10                  T               298           \n",
       "6 10                  0.00            306           "
      ]
     },
     "metadata": {},
     "output_type": "display_data"
    }
   ],
   "source": [
    "df$day <- str_sub(df$day,2)\n",
    "df <- unite(df,year,month,day,col = \"day\",sep = \"-\")\n",
    "head(df)"
   ]
  },
  {
   "cell_type": "markdown",
   "metadata": {},
   "source": [
    "<div dir = \"rtl\" style=\"direction:rtl;text-align:justify;line-height:300%;\">\n",
    "\t<font face=\"XB Zar\" size=5>\n",
    "\t\t<font color=#FF7500 size=6>\n",
    "        </font>\n",
    "        همانطور که مشاهده می‌کنید،\n",
    "        ستون <code>date</code>\n",
    "        از نوع <code>chr</code>\n",
    "        می‌باشد. با استفاده از تابع <code>as.Date</code>،\n",
    "        این ستون را به <code>date</code>\n",
    "        تبدیل کنید. سپس با دستور <code>glimpse</code>\n",
    "        آن را نمایش دهید.\n",
    "\t</font>\n",
    "</div>"
   ]
  },
  {
   "cell_type": "code",
   "execution_count": 23,
   "metadata": {
    "scrolled": false
   },
   "outputs": [
    {
     "name": "stdout",
     "output_type": "stream",
     "text": [
      "Rows: 403\n",
      "Columns: 23\n",
      "$ day                       \u001b[3m\u001b[90m<date>\u001b[39m\u001b[23m 2014-12-01, 2014-12-10, 2014-12-11, 2014...\n",
      "$ CloudCover                \u001b[3m\u001b[90m<chr>\u001b[39m\u001b[23m \"6\", \"8\", \"8\", \"7\", \"5\", \"4\", \"2\", \"8\", \"...\n",
      "$ Events                    \u001b[3m\u001b[90m<chr>\u001b[39m\u001b[23m \"Rain\", \"Rain\", \"Rain-Snow\", \"Snow\", \"\", ...\n",
      "$ Max.Dew.PointF            \u001b[3m\u001b[90m<chr>\u001b[39m\u001b[23m \"46\", \"45\", \"37\", \"28\", \"28\", \"29\", \"33\",...\n",
      "$ Max.Gust.SpeedMPH         \u001b[3m\u001b[90m<chr>\u001b[39m\u001b[23m \"29\", \"29\", \"28\", \"21\", \"23\", \"20\", \"21\",...\n",
      "$ Max.Humidity              \u001b[3m\u001b[90m<chr>\u001b[39m\u001b[23m \"74\", \"100\", \"92\", \"85\", \"75\", \"82\", \"89\"...\n",
      "$ Max.Sea.Level.PressureIn  \u001b[3m\u001b[90m<chr>\u001b[39m\u001b[23m \"30.45\", \"29.58\", \"29.81\", \"29.88\", \"29.8...\n",
      "$ Max.TemperatureF          \u001b[3m\u001b[90m<chr>\u001b[39m\u001b[23m \"64\", \"48\", \"39\", \"39\", \"42\", \"45\", \"42\",...\n",
      "$ Max.VisibilityMiles       \u001b[3m\u001b[90m<chr>\u001b[39m\u001b[23m \"10\", \"10\", \"10\", \"10\", \"10\", \"10\", \"10\",...\n",
      "$ Max.Wind.SpeedMPH         \u001b[3m\u001b[90m<chr>\u001b[39m\u001b[23m \"22\", \"23\", \"21\", \"16\", \"17\", \"15\", \"15\",...\n",
      "$ Mean.Humidity             \u001b[3m\u001b[90m<chr>\u001b[39m\u001b[23m \"63\", \"95\", \"87\", \"75\", \"65\", \"68\", \"75\",...\n",
      "$ Mean.Sea.Level.PressureIn \u001b[3m\u001b[90m<chr>\u001b[39m\u001b[23m \"30.13\", \"29.5\", \"29.61\", \"29.85\", \"29.82...\n",
      "$ Mean.TemperatureF         \u001b[3m\u001b[90m<chr>\u001b[39m\u001b[23m \"52\", \"43\", \"36\", \"35\", \"37\", \"39\", \"37\",...\n",
      "$ Mean.VisibilityMiles      \u001b[3m\u001b[90m<chr>\u001b[39m\u001b[23m \"10\", \"3\", \"7\", \"10\", \"10\", \"10\", \"10\", \"...\n",
      "$ Mean.Wind.SpeedMPH        \u001b[3m\u001b[90m<chr>\u001b[39m\u001b[23m \"13\", \"13\", \"13\", \"11\", \"12\", \"10\", \"6\", ...\n",
      "$ MeanDew.PointF            \u001b[3m\u001b[90m<chr>\u001b[39m\u001b[23m \"40\", \"39\", \"31\", \"27\", \"26\", \"27\", \"29\",...\n",
      "$ Min.DewpointF             \u001b[3m\u001b[90m<chr>\u001b[39m\u001b[23m \"26\", \"37\", \"27\", \"25\", \"24\", \"25\", \"27\",...\n",
      "$ Min.Humidity              \u001b[3m\u001b[90m<chr>\u001b[39m\u001b[23m \"52\", \"89\", \"82\", \"64\", \"55\", \"53\", \"60\",...\n",
      "$ Min.Sea.Level.PressureIn  \u001b[3m\u001b[90m<chr>\u001b[39m\u001b[23m \"30.01\", \"29.43\", \"29.44\", \"29.81\", \"29.7...\n",
      "$ Min.TemperatureF          \u001b[3m\u001b[90m<chr>\u001b[39m\u001b[23m \"39\", \"38\", \"32\", \"31\", \"32\", \"33\", \"32\",...\n",
      "$ Min.VisibilityMiles       \u001b[3m\u001b[90m<chr>\u001b[39m\u001b[23m \"10\", \"1\", \"1\", \"7\", \"10\", \"10\", \"10\", \"5...\n",
      "$ PrecipitationIn           \u001b[3m\u001b[90m<chr>\u001b[39m\u001b[23m \"0.01\", \"0.28\", \"0.02\", \"T\", \"T\", \"0.00\",...\n",
      "$ WindDirDegrees            \u001b[3m\u001b[90m<chr>\u001b[39m\u001b[23m \"268\", \"357\", \"230\", \"286\", \"298\", \"306\",...\n"
     ]
    }
   ],
   "source": [
    "df$day<-as.Date(df$day,format = '%Y-%m-%d')\n",
    "glimpse(df)"
   ]
  },
  {
   "cell_type": "markdown",
   "metadata": {},
   "source": [
    "<div dir = \"rtl\" style=\"direction:rtl;text-align:justify;line-height:300%;\">\n",
    "\t<font face=\"XB Zar\" size=5>\n",
    "\t\t<font color=#FF7500 size=6>\n",
    "        </font>\n",
    "        <b>تبدیل ستون‌های عددی</b>\n",
    "        <br>\n",
    "        به نظر می‌رسد تمام ستون‌های مربوط به اندازه‌گیری‌ها، به جز <code>Events</code>\n",
    "        عددی هستند، ولی data type\n",
    "        آن‌ها <code>chr</code>\n",
    "        است. در نتیجه، این ستون‌ها را به نوع <code>numeric</code>\n",
    "        تبدیل کنید. برای راحتی کار، ستون <code>Events</code>\n",
    "        را در جایگاه ستون دوم قرار دهید تا از بعد آن، تمامی ستون‌ها عددی باشند. (از تابع <code>select</code>\n",
    "        استفاده کنید.) قبل از آن، توجه کنید که در ستون <code>PrecipitationIn</code>،\n",
    "        از مقدار T\n",
    "        استفاده شده است، که در واقع به معنی اعداد خیلی کوچک است. این مقادیر را به 0 تغییر دهید. در نهایت نتیجه را با <code>glimpse</code>\n",
    "        نشان دهید. (راهنمایی: برای این کار، از توابع <code>mutate</code>\n",
    "        و <code>across</code>\n",
    "        می‌توانید کمک بگیرید.)\n",
    "\t</font>\n",
    "</div>"
   ]
  },
  {
   "cell_type": "code",
   "execution_count": 24,
   "metadata": {},
   "outputs": [
    {
     "name": "stdout",
     "output_type": "stream",
     "text": [
      "Rows: 403\n",
      "Columns: 23\n",
      "Groups: Events [13]\n",
      "$ day                       \u001b[3m\u001b[90m<date>\u001b[39m\u001b[23m 2014-12-01, 2014-12-10, 2014-12-11, 2014...\n",
      "$ Events                    \u001b[3m\u001b[90m<chr>\u001b[39m\u001b[23m \"Rain\", \"Rain\", \"Rain-Snow\", \"Snow\", \"\", ...\n",
      "$ CloudCover                \u001b[3m\u001b[90m<dbl>\u001b[39m\u001b[23m 6, 8, 8, 7, 5, 4, 2, 8, 8, 7, 4, 7, 6, 8,...\n",
      "$ Max.Dew.PointF            \u001b[3m\u001b[90m<dbl>\u001b[39m\u001b[23m 46, 45, 37, 28, 28, 29, 33, 42, 46, 34, 2...\n",
      "$ Max.Gust.SpeedMPH         \u001b[3m\u001b[90m<dbl>\u001b[39m\u001b[23m 29, 29, 28, 21, 23, 20, 21, 10, 26, 30, 2...\n",
      "$ Max.Humidity              \u001b[3m\u001b[90m<dbl>\u001b[39m\u001b[23m 74, 100, 92, 85, 75, 82, 89, 96, 100, 89,...\n",
      "$ Max.Sea.Level.PressureIn  \u001b[3m\u001b[90m<dbl>\u001b[39m\u001b[23m 30.45, 29.58, 29.81, 29.88, 29.86, 29.91,...\n",
      "$ Max.TemperatureF          \u001b[3m\u001b[90m<dbl>\u001b[39m\u001b[23m 64, 48, 39, 39, 42, 45, 42, 44, 49, 44, 3...\n",
      "$ Max.VisibilityMiles       \u001b[3m\u001b[90m<dbl>\u001b[39m\u001b[23m 10, 10, 10, 10, 10, 10, 10, 10, 10, 10, 1...\n",
      "$ Max.Wind.SpeedMPH         \u001b[3m\u001b[90m<dbl>\u001b[39m\u001b[23m 22, 23, 21, 16, 17, 15, 15, 8, 20, 23, 17...\n",
      "$ Mean.Humidity             \u001b[3m\u001b[90m<dbl>\u001b[39m\u001b[23m 63, 95, 87, 75, 65, 68, 75, 85, 85, 73, 6...\n",
      "$ Mean.Sea.Level.PressureIn \u001b[3m\u001b[90m<dbl>\u001b[39m\u001b[23m 30.13, 29.50, 29.61, 29.85, 29.82, 29.83,...\n",
      "$ Mean.TemperatureF         \u001b[3m\u001b[90m<dbl>\u001b[39m\u001b[23m 52, 43, 36, 35, 37, 39, 37, 40, 45, 40, 3...\n",
      "$ Mean.VisibilityMiles      \u001b[3m\u001b[90m<dbl>\u001b[39m\u001b[23m 10, 3, 7, 10, 10, 10, 10, 9, 6, 10, 10, 8...\n",
      "$ Mean.Wind.SpeedMPH        \u001b[3m\u001b[90m<dbl>\u001b[39m\u001b[23m 13, 13, 13, 11, 12, 10, 6, 4, 11, 14, 11,...\n",
      "$ MeanDew.PointF            \u001b[3m\u001b[90m<dbl>\u001b[39m\u001b[23m 40, 39, 31, 27, 26, 27, 29, 36, 41, 30, 2...\n",
      "$ Min.DewpointF             \u001b[3m\u001b[90m<dbl>\u001b[39m\u001b[23m 26, 37, 27, 25, 24, 25, 27, 30, 32, 26, 2...\n",
      "$ Min.Humidity              \u001b[3m\u001b[90m<dbl>\u001b[39m\u001b[23m 52, 89, 82, 64, 55, 53, 60, 73, 70, 57, 5...\n",
      "$ Min.Sea.Level.PressureIn  \u001b[3m\u001b[90m<dbl>\u001b[39m\u001b[23m 30.01, 29.43, 29.44, 29.81, 29.78, 29.78,...\n",
      "$ Min.TemperatureF          \u001b[3m\u001b[90m<dbl>\u001b[39m\u001b[23m 39, 38, 32, 31, 32, 33, 32, 35, 41, 36, 2...\n",
      "$ Min.VisibilityMiles       \u001b[3m\u001b[90m<dbl>\u001b[39m\u001b[23m 10, 1, 1, 7, 10, 10, 10, 5, 1, 10, 10, 2,...\n",
      "$ PrecipitationIn           \u001b[3m\u001b[90m<dbl>\u001b[39m\u001b[23m 0.01, 0.28, 0.02, 0.00, 0.00, 0.00, 0.00,...\n",
      "$ WindDirDegrees            \u001b[3m\u001b[90m<dbl>\u001b[39m\u001b[23m 268, 357, 230, 286, 298, 306, 324, 79, 31...\n"
     ]
    }
   ],
   "source": [
    "df<-df %>% mutate(PrecipitationIn = replace(PrecipitationIn, PrecipitationIn == \"T\", 0))\n",
    "df<-df%>%relocate(Events,.after = day)\n",
    "df<- df%>%group_by(Events)%>%mutate(across(where(is.character),as.numeric))\n",
    "glimpse(df)"
   ]
  },
  {
   "cell_type": "markdown",
   "metadata": {},
   "source": [
    "<div dir = \"rtl\" style=\"direction:rtl;text-align:justify;line-height:300%;\">\n",
    "\t<font face=\"XB Zar\" size=5>\n",
    "\t\t<font color=#FF7500 size=6>\n",
    "        </font>\n",
    "        نمودارهای <code>Max.Wind.SpeedMPH</code>\n",
    "        و <code>Max.Gust.SpeedMPH</code>\n",
    "        را بر حسب <code>date</code>\n",
    "        نمایش داده و مقدار correlation\n",
    "        بین این دو ستون را چاپ کنید.\n",
    "\t</font>\n",
    "</div>"
   ]
  },
  {
   "cell_type": "code",
   "execution_count": 25,
   "metadata": {},
   "outputs": [
    {
     "data": {
      "text/html": [
       "0.823774652339077"
      ],
      "text/latex": [
       "0.823774652339077"
      ],
      "text/markdown": [
       "0.823774652339077"
      ],
      "text/plain": [
       "[1] 0.8237747"
      ]
     },
     "metadata": {},
     "output_type": "display_data"
    },
    {
     "name": "stderr",
     "output_type": "stream",
     "text": [
      "Warning message:\n",
      "\"Removed 37 rows containing missing values (geom_point).\"\n",
      "Warning message:\n",
      "\"Removed 43 rows containing missing values (geom_point).\"\n"
     ]
    },
    {
     "data": {
      "image/png": "[encoded data removed]",
      "text/plain": [
       "plot without title"
      ]
     },
     "metadata": {
      "image/png": {
       "height": 420,
       "width": 420
      }
     },
     "output_type": "display_data"
    }
   ],
   "source": [
    "cor(df$Max.Gust.SpeedMPH,df$Max.Wind.SpeedMPH,use = \"na.or.complete\")\n",
    "ggplot(data = df)+geom_point(mapping = aes(x = day,y = Max.Wind.SpeedMPH),color = \"red\")+geom_point(mapping = aes(x = day,y = Max.Gust.SpeedMPH),color = \"green\")"
   ]
  }
 ],
 "metadata": {
  "kernelspec": {
   "display_name": "R",
   "language": "R",
   "name": "ir"
  },
  "language_info": {
   "codemirror_mode": "r",
   "file_extension": ".r",
   "mimetype": "text/x-r-source",
   "name": "R",
   "pygments_lexer": "r",
   "version": "4.0.2"
  },
  "latex_envs": {
   "LaTeX_envs_menu_present": true,
   "autoclose": false,
   "autocomplete": true,
   "bibliofile": "biblio.bib",
   "cite_by": "apalike",
   "current_citInitial": 1,
   "eqLabelWithNumbers": true,
   "eqNumInitial": 1,
   "hotkeys": {
    "equation": "Ctrl-E",
    "itemize": "Ctrl-I"
   },
   "labels_anchors": false,
   "latex_user_defs": false,
   "report_style_numbering": false,
   "user_envs_cfg": false
  },
  "toc": {
   "base_numbering": 1,
   "nav_menu": {},
   "number_sections": true,
   "sideBar": true,
   "skip_h1_title": false,
   "title_cell": "Table of Contents",
   "title_sidebar": "Contents",
   "toc_cell": false,
   "toc_position": {},
   "toc_section_display": true,
   "toc_window_display": false
  },
  "varInspector": {
   "cols": {
    "lenName": 16,
    "lenType": 16,
    "lenVar": 40
   },
   "kernels_config": {
    "python": {
     "delete_cmd_postfix": "",
     "delete_cmd_prefix": "del ",
     "library": "var_list.py",
     "varRefreshCmd": "print(var_dic_list())"
    },
    "r": {
     "delete_cmd_postfix": ") ",
     "delete_cmd_prefix": "rm(",
     "library": "var_list.r",
     "varRefreshCmd": "cat(var_dic_list()) "
    }
   },
   "types_to_exclude": [
    "module",
    "function",
    "builtin_function_or_method",
    "instance",
    "_Feature"
   ],
   "window_display": false
  }
 },
 "nbformat": 4,
 "nbformat_minor": 2
}
