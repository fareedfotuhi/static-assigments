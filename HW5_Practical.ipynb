{
 "cells": [
  {
   "cell_type": "markdown",
   "metadata": {},
   "source": [
    "<div style=\"direction:rtl;line-height:300%;\">\n",
    "\t<font face=\"XB Zar\" size=5>\n",
    "\t\t<div align=center>\n",
    "\t\t\t<font face=\"IranNastaliq\" size=30>\n",
    "\t\t\t\t<p></p>\n",
    "\t\t\t\t<p></p>\n",
    "به نام خدا\n",
    "\t\t\t\t<p></p>\n",
    "\t\t\t</font>\n",
    "\t\t\t<font color=#FF7500>\n",
    "دانشگاه صنعتی شریف - دانشکده مهندسی کامپیوتر\n",
    "            </font>\n",
    "\t\t\t<p></p>\n",
    "\t\t\t<font color=blue>\n",
    "آمار و احتمال مهندسی\n",
    "            </font>\n",
    "\t\t\t<br />\n",
    "\t\t\t<br />\n",
    "پاییز ۱۳۹۹\n",
    "\t\t</div>\n",
    "\t\t<hr/>\n",
    "\t\t<div align=center>\n",
    "\t\t    <font color=red size=6>\n",
    "\t\t\t    <br />\n",
    "تمرین عملی پنج\n",
    "            \t<br/>\n",
    "\t\t\t</font>\n",
    "طراح: کورش شریعت - وحید زهتاب \n",
    "\t\t\t<br/><br/> \n",
    "موعد تحویل: ۲۲ آذر \n",
    "                <br/>\n",
    "                همفکری در تمامی تمرین‌های درس توصیه می‌شود. در عین حال از شما انتظار می‌رود تمام پیاده‌سازی را به تنهایی و بدون مشاهده کد دیگران انجام دهید.\n",
    "                <br/><br/>\n",
    "                <font color=red>\n",
    "                لطفا در فایل ارسالی تمام بلوک‌های کد اجرا شده و شامل نمودار‌ها و خروجی‌های لازم باشند.\n",
    "     </font>\n",
    "                <br/>\n",
    "        </style>\n",
    "\t</font>\n",
    "</div>"
   ]
  },
  {
   "cell_type": "raw",
   "metadata": {},
   "source": [
    "فرید فتوحی فیروزآباد"
   ]
  },
  {
   "cell_type": "raw",
   "metadata": {},
   "source": [
    "98110073"
   ]
  },
  {
   "cell_type": "raw",
   "metadata": {},
   "source": [
    "نام افرادی که با آنها مشورت کرده اید"
   ]
  },
  {
   "cell_type": "markdown",
   "metadata": {},
   "source": [
    "<div dir = \"rtl\" style=\"direction:rtl;line-height:300%;\">\n",
    "\t<font face=\"XB Zar\" size=5>\n",
    "\t\t<font color=#FF7500 size=6>\n",
    "            تخمین‌گرهای واریانس\n",
    "        </font>\n",
    "        <hr>\n",
    "             در این سوال به بررسی دو تخمین‌گر رایج واریانس می‌پردازیم. اولین تخمین‌گر مربوط به MLE است:\n",
    "        $$\\hat{\\sigma^2} = \\frac{1}{n}\\sum_{i=1}^{n}(x_i-\\bar{x})^2$$\n",
    "        تخمین‌گر بعدی شامل تصحیح بسل می‌باشد:\n",
    "        $$\\hat{\\sigma^2} = \\frac{1}{n-1}\\sum_{i=1}^{n}(x_i-\\bar{x})^2$$\n",
    "    </font>\n",
    "</div>"
   ]
  },
  {
   "cell_type": "markdown",
   "metadata": {},
   "source": [
    "<div dir = \"rtl\" style=\"direction:rtl;line-height:300%;\">\n",
    "\t<font face=\"XB Zar\" size=5>\n",
    "        <ul>\n",
    "            <li>\n",
    "                نمونه‌هایی از یک توزیع \n",
    "                $\\mathcal{N}(2, 2)$\n",
    "                با اندازه ۲ تا ۱۰۰۰ تولید کرده و برای هر  کدام  بایاس را محاسبه کنید.\n",
    "            </li>\n",
    "        </ul>\n",
    "\t</font>\n",
    "</div>"
   ]
  },
  {
   "cell_type": "markdown",
   "metadata": {},
   "source": [
    "<div dir = \"rtl\" style=\"direction:rtl;line-height:300%;\">\n",
    "\t<font face=\"XB Zar\" size=5>\n",
    "\t\t<font color=#FF7500 size=6>\n",
    "        </font>\n",
    "        پاسخ:\n",
    "\t</font>\n",
    "</div>"
   ]
  },
  {
   "cell_type": "code",
   "execution_count": 1,
   "metadata": {},
   "outputs": [],
   "source": [
    "var1=c()\n",
    "var2=c()\n",
    "b1=c()\n",
    "b2=c()\n",
    "for(i in 2:1000){\n",
    "a=rnorm(i,2,2) # sd=2 ---> var=4\n",
    "v1=(sum((a-mean(a))^2))/length(a)\n",
    "v2=(sum((a-mean(a))^2))/(length(a)-1)\n",
    "var1=c(var1,v1)\n",
    "var2=c(var2,v2)\n",
    "ba1=v1-4\n",
    "ba2=v2-4\n",
    "b1=c(b1,ba1)\n",
    "b2=c(b2,ba2)\n",
    "}\n",
    "\n",
    "\n",
    "\n",
    "##########\n",
    "\n",
    "\n",
    "#\n"
   ]
  },
  {
   "cell_type": "markdown",
   "metadata": {},
   "source": [
    "<div dir = \"rtl\" style=\"direction:rtl;line-height:300%;\">\n",
    "\t<font face=\"XB Zar\" size=5>\n",
    "        <ul>\n",
    "            <li>\n",
    "                 حال این مقادیر را در نمودار رسم کنید.\n",
    "            </li>\n",
    "            <li>\n",
    "با توجه به این نمودار ها آیا این دو تخمین‌گر سازگار هستند؟\n",
    "            </li>\n",
    "        </ul>\n",
    "\t</font>\n",
    "</div>"
   ]
  },
  {
   "cell_type": "markdown",
   "metadata": {},
   "source": [
    "<div dir = \"rtl\" style=\"direction:rtl;line-height:300%;\">\n",
    "\t<font face=\"XB Zar\" size=5>\n",
    "\t\t<font color=#FF7500 size=6>\n",
    "        </font>\n",
    "        پاسخ:\n",
    "\t</font>\n",
    "</div>"
   ]
  },
  {
   "cell_type": "code",
   "execution_count": 2,
   "metadata": {},
   "outputs": [
    {
     "data": {
      "image/png": "[encoded data removed]",
      "text/plain": [
       "plot without title"
      ]
     },
     "metadata": {
      "image/png": {
       "height": 420,
       "width": 420
      }
     },
     "output_type": "display_data"
    },
    {
     "data": {
      "image/png": "[encoded data removed]",
      "text/plain": [
       "plot without title"
      ]
     },
     "metadata": {
      "image/png": {
       "height": 420,
       "width": 420
      }
     },
     "output_type": "display_data"
    }
   ],
   "source": [
    "num=2:1000\n",
    "plot(var2~num,type='l',col='red', ylim=c(0,14), yaxp=c(0,14,14))\n",
    "par(new=TRUE)\n",
    "points(var1~num,type='l',col='blue')\n",
    "abline(h=4)\n",
    "\n",
    "num=2:1000\n",
    "plot(b2~num,type='l',col='red', ylim=c(-10,10), yaxp=c(-10,10,20))\n",
    "par(new=TRUE)\n",
    "points(b1~num,type='l',col='blue')\n",
    "abline(h=0)"
   ]
  },
  {
   "cell_type": "markdown",
   "metadata": {},
   "source": [
    "<div dir = \"rtl\" style=\"direction:rtl;line-height:300%;\">\n",
    "\t<font face=\"XB Zar\" size=5>\n",
    "\t\t<font color=#FF7500 size=6>\n",
    "        </font>\n",
    "        توضیح:\n",
    "\t</font>\n",
    "</div>"
   ]
  },
  {
   "cell_type": "markdown",
   "metadata": {},
   "source": [
    "خیر"
   ]
  },
  {
   "cell_type": "markdown",
   "metadata": {},
   "source": [
    "<div dir = \"rtl\" style=\"direction:rtl;line-height:300%;\">\n",
    "\t<font face=\"XB Zar\" size=5>\n",
    "        <ul>\n",
    "            <li>\n",
    "                 این بار صد هزار نمونه ده‌تایی از همان توزیع تولید کنید و میانگین بایاس را محاسبه کنید.\n",
    "            </li>\n",
    "            <li>\n",
    "                با توجه به این مقادیر آیا این دو تخمین‌گر unbiased هستند؟\n",
    "            </li>\n",
    "        </ul>\n",
    "\t</font>\n",
    "</div>"
   ]
  },
  {
   "cell_type": "markdown",
   "metadata": {},
   "source": [
    "<div dir = \"rtl\" style=\"direction:rtl;line-height:300%;\">\n",
    "\t<font face=\"XB Zar\" size=5>\n",
    "\t\t<font color=#FF7500 size=6>\n",
    "        </font>\n",
    "        پاسخ:\n",
    "\t</font>\n",
    "</div>"
   ]
  },
  {
   "cell_type": "code",
   "execution_count": 3,
   "metadata": {},
   "outputs": [
    {
     "data": {
      "text/html": [
       "-0.395775454592694"
      ],
      "text/latex": [
       "-0.395775454592694"
      ],
      "text/markdown": [
       "-0.395775454592694"
      ],
      "text/plain": [
       "[1] -0.3957755"
      ]
     },
     "metadata": {},
     "output_type": "display_data"
    },
    {
     "data": {
      "text/html": [
       "0.00469393934145099"
      ],
      "text/latex": [
       "0.00469393934145099"
      ],
      "text/markdown": [
       "0.00469393934145099"
      ],
      "text/plain": [
       "[1] 0.004693939"
      ]
     },
     "metadata": {},
     "output_type": "display_data"
    }
   ],
   "source": [
    "var1=c()\n",
    "var2=c()\n",
    "b1=c()\n",
    "b2=c()\n",
    "for(i in 1:100000){\n",
    "a=rnorm(10,2,2) # sd=2 ---> var=4\n",
    "v1=(sum((a-mean(a))^2))/length(a)\n",
    "v2=(sum((a-mean(a))^2))/(length(a)-1)\n",
    "var1=c(var1,v1)\n",
    "var2=c(var2,v2)\n",
    "ba1=v1-4\n",
    "ba2=v2-4\n",
    "b1=c(b1,ba1)\n",
    "b2=c(b2,ba2)\n",
    "}\n",
    "mean(b1)\n",
    "mean(b2)\n"
   ]
  },
  {
   "cell_type": "markdown",
   "metadata": {},
   "source": [
    "<div dir = \"rtl\" style=\"direction:rtl;line-height:300%;\">\n",
    "\t<font face=\"XB Zar\" size=5>\n",
    "\t\t<font color=#FF7500 size=6>\n",
    "        </font>\n",
    "        توضیح:\n",
    "\t</font>\n",
    "</div>"
   ]
  },
  {
   "cell_type": "code",
   "execution_count": null,
   "metadata": {},
   "outputs": [],
   "source": [
    "خیر فقط دومی نا اریب هست"
   ]
  }
 ],
 "metadata": {
  "kernelspec": {
   "display_name": "R",
   "language": "R",
   "name": "ir"
  },
  "language_info": {
   "codemirror_mode": "r",
   "file_extension": ".r",
   "mimetype": "text/x-r-source",
   "name": "R",
   "pygments_lexer": "r",
   "version": "4.0.2"
  }
 },
 "nbformat": 4,
 "nbformat_minor": 4
}
